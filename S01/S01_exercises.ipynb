{
 "cells": [
  {
   "cell_type": "markdown",
   "metadata": {},
   "source": [
    "# Python exercises related with NLP\n",
    "\n",
    "This is a level test exercise. The purpose is to get your level in python programming oriented to NLP. \n",
    "\n",
    "Solve (and test) the next exercises in the block below each topic. **Use your python expertise and official python manual ONLY**: [https://docs.python.org/3/](https://docs.python.org/3/). The teachers are on the classroom to help.\n"
   ]
  },
  {
   "cell_type": "markdown",
   "metadata": {},
   "source": [
    "## Topic 1: Working with Strings\n",
    "\n",
    "1. Write a program that takes a string input from the user and prints the length of the string.\n",
    "2. Create a program that converts a given string to uppercase.\n",
    "3. Write a function that checks if a string contains only alphabets.\n",
    "4. Reverse a string without using slicing (e.g., string[::-1]).\n",
    "5. Count how many times a specific character appears in a string.\n",
    "6. Write a function that takes two strings and checks if they are anagrams.\n",
    "7. Implement a function that removes all vowels from a given string.\n",
    "8. Write a function that checks if a string is a palindrome (case-insensitive).\n",
    "9. Given a string, return the first non-repeating character.\n",
    "10. Create a function that capitalizes the first letter of each word in a string.\n",
    "11. Write a program to compress a string (e.g., \"aaabb\" -> \"a3b2\").\n",
    "12. Implement a function to find the longest substring without repeating characters.\n",
    "13. Write a program to check if a string can be rearranged into a palindrome.\n",
    "14. Implement a function that removes all duplicates from a string while preserving the order of characters.\n",
    "15. Write a function to find the longest common prefix among a list of strings.\n",
    "16. Implement a custom `split` function without using Python's built-in methods.\n",
    "17. Write a function to decode a given run-length encoded string (e.g., \"a3b2\" -> \"aaabb\").\n",
    "18. Implement a function to check if one string is a rotation of another.\n",
    "19. Create a function to find all permutations of a given string.\n",
    "20. Write a function to implement a basic version of the `str.index` method."
   ]
  },
  {
   "cell_type": "code",
   "execution_count": 3,
   "metadata": {},
   "outputs": [
    {
     "name": "stdout",
     "output_type": "stream",
     "text": [
      "0\n"
     ]
    }
   ],
   "source": [
    "#Write a program that takes a string input from the user and prints the length of the string.\n",
    "entrance =  str(input(\"Please enter your input\"))\n",
    "print(len(entrance))"
   ]
  },
  {
   "cell_type": "code",
   "execution_count": 4,
   "metadata": {},
   "outputs": [
    {
     "name": "stdout",
     "output_type": "stream",
     "text": [
      "\n"
     ]
    }
   ],
   "source": [
    "#Create a program that converts a given string to uppercase.\n",
    "entrance =  str(input(\"Please enter your input\"))\n",
    "print(entrance.upper())"
   ]
  },
  {
   "cell_type": "code",
   "execution_count": 5,
   "metadata": {},
   "outputs": [
    {
     "name": "stdout",
     "output_type": "stream",
     "text": [
      "False\n"
     ]
    }
   ],
   "source": [
    "#Write a function that checks if a string contains only alphabets.\n",
    "\n",
    "def alpha_check():\n",
    "    user_input = str(input(\"Please enter your input\"))\n",
    "    return True if user_input.isalpha() else False\n",
    "print(alpha_check())"
   ]
  },
  {
   "cell_type": "code",
   "execution_count": 6,
   "metadata": {},
   "outputs": [
    {
     "name": "stdout",
     "output_type": "stream",
     "text": [
      "olleh\n"
     ]
    }
   ],
   "source": [
    "#Reverse a string without using slicing (e.g., string[::-1]).\n",
    "\n",
    "def rev_str(message : str) -> str:\n",
    "    listed_message = list(message)\n",
    "    listed_message.reverse()\n",
    "    reversed_message = listed_message\n",
    "    new_message = \"\"\n",
    "    for char in reversed_message:\n",
    "        new_message +=char\n",
    "    return new_message\n",
    "print(rev_str(\"hello\"))"
   ]
  },
  {
   "cell_type": "code",
   "execution_count": 7,
   "metadata": {},
   "outputs": [
    {
     "name": "stdout",
     "output_type": "stream",
     "text": [
      "0\n"
     ]
    }
   ],
   "source": [
    "#Count how many times a specific character appears in a string.\n",
    "\n",
    "def count_char(message):\n",
    "    desired_char = str(input(\"Please enter the char that you want to count\"))\n",
    "    chars = list(message)\n",
    "    num_times = chars.count(desired_char)\n",
    "    return num_times\n",
    "print(count_char(\"Buenas tardes\"))\n"
   ]
  },
  {
   "cell_type": "code",
   "execution_count": 8,
   "metadata": {},
   "outputs": [
    {
     "name": "stdout",
     "output_type": "stream",
     "text": [
      "True\n"
     ]
    }
   ],
   "source": [
    "#Write a function that takes two strings and checks if they are anagrams.\n",
    "\n",
    "# Anagrama: cara-arca\n",
    "\n",
    "def anagram_check(first_str, second_str):\n",
    "   if len(first_str) != len(second_str):\n",
    "      return False\n",
    "   \n",
    "   return sorted(first_str) == sorted(second_str)\n",
    "    \n",
    "\n",
    "print(anagram_check(\"cara\", \"arca\"))"
   ]
  },
  {
   "cell_type": "code",
   "execution_count": 9,
   "metadata": {},
   "outputs": [
    {
     "name": "stdout",
     "output_type": "stream",
     "text": [
      "hl\n"
     ]
    }
   ],
   "source": [
    "#Implement a function that removes all vowels from a given string.\n",
    "\n",
    "def removes_vowels(message):\n",
    "    vowels = \"aeiou\"\n",
    "    \n",
    "    \n",
    "    return \"\".join(char for char in message if char not in vowels)\n",
    "print(removes_vowels(\"hola\"))\n"
   ]
  },
  {
   "cell_type": "code",
   "execution_count": 10,
   "metadata": {},
   "outputs": [
    {
     "name": "stdout",
     "output_type": "stream",
     "text": [
      "True\n"
     ]
    }
   ],
   "source": [
    "#Write a function that checks if a string is a palindrome (case-insensitive).\n",
    "\n",
    "\n",
    "def elim_espacios(texto):\n",
    "    texto = texto.replace(\" \", \"\").strip().lower()\n",
    "\n",
    "    return texto\n",
    "\n",
    "def dar_vuelta(texto):\n",
    "    texto = texto[::-1].lower()\n",
    "    return texto\n",
    "\n",
    "def es_palindromo(texto):\n",
    "    texto = elim_espacios(texto)\n",
    "    if dar_vuelta(texto) == texto:\n",
    "        return True\n",
    "    else:\n",
    "        return False\n",
    "    \n",
    "print(es_palindromo(\"Amo la paloma\"))"
   ]
  },
  {
   "cell_type": "code",
   "execution_count": 11,
   "metadata": {},
   "outputs": [
    {
     "name": "stdout",
     "output_type": "stream",
     "text": [
      "c\n"
     ]
    }
   ],
   "source": [
    "#Given a string, return the first non-repeating character.\n",
    "\n",
    "def non_repeating(message):\n",
    "    if message == \" \":\n",
    "        return message\n",
    "    result = \"\"\n",
    "    contador = 0\n",
    "    caracter_actual = message[0]\n",
    "    for i in range(len(message)):\n",
    "        if message[i] == caracter_actual:\n",
    "            contador+=1\n",
    "        else:\n",
    "            result = caracter_actual \n",
    "            caracter_actual = message[i]\n",
    "            contador = 1 \n",
    "    result = caracter_actual \n",
    "    return result\n",
    "        \n",
    "\n",
    "print(non_repeating(\"aaaabbc\"))\n"
   ]
  },
  {
   "cell_type": "code",
   "execution_count": 12,
   "metadata": {},
   "outputs": [
    {
     "name": "stdout",
     "output_type": "stream",
     "text": [
      "Hola Mundo\n"
     ]
    }
   ],
   "source": [
    "# Create a function that capitalizes the first letter of each word in a string.\n",
    "\n",
    "\n",
    "def capitalize_str(message : str) -> str:\n",
    "    capitalized_message = message.title()\n",
    "    return capitalized_message\n",
    "\n",
    "print(capitalize_str(\"hola mundo\"))"
   ]
  },
  {
   "cell_type": "code",
   "execution_count": 13,
   "metadata": {},
   "outputs": [
    {
     "name": "stdout",
     "output_type": "stream",
     "text": [
      "a3b2\n"
     ]
    }
   ],
   "source": [
    "# Write a program to compress a string (e.g., \"aaabb\" -> \"a3b2\")\n",
    "\n",
    "def compression(message : str) -> str:\n",
    "    if not message:\n",
    "        return \" \"\n",
    "    \n",
    "    result = \"\"\n",
    "    count= 1 \n",
    "    for i in range(1, len(message)):\n",
    "        if message[i] == message[i - 1]:  # Comparamos con el carácter anterior\n",
    "            count += 1\n",
    "        else:\n",
    "            result += message[i -1] + str(count)  \n",
    "            count = 1\n",
    "\n",
    "    result += message[-1] + str(count)\n",
    "\n",
    "    return result\n",
    "\n",
    "\n",
    "\n",
    "\n",
    "\n",
    "\n",
    "print(compression(\"aaabb\"))\n",
    "\n"
   ]
  },
  {
   "cell_type": "code",
   "execution_count": 14,
   "metadata": {},
   "outputs": [
    {
     "name": "stdout",
     "output_type": "stream",
     "text": [
      "('abc', 3)\n"
     ]
    }
   ],
   "source": [
    "# Implement a function to find the longest substring without repeating characters.\n",
    "\n",
    "def find_longest_substring(s : str) -> tuple[str, int]:\n",
    "    # Se crea un conjunto vacío para los caracteres únicos\n",
    "    unique_chars = set()\n",
    "\n",
    "    # Se inicializan las variables \n",
    "    start = 0 \n",
    "    max_length = 0\n",
    "    longest_substring = \"\"\n",
    "\n",
    "\n",
    "    for end in range(len(s)):\n",
    "        # Mientras el caracter actual ya esté en el conjunto eliminamos desde el inicio \n",
    "        while s[end] in unique_chars:\n",
    "            unique_chars.remove(s[start]) \n",
    "            start +=1\n",
    "\n",
    "        unique_chars.add(s[end])\n",
    "\n",
    "        # Si se encuentra un substring más largo, se actualiza\n",
    "\n",
    "        if end - start +1 > max_length:\n",
    "            max_length = end - start + 1\n",
    "            longest_substring = s[start:end + 1]\n",
    "\n",
    "    return longest_substring, max_length\n",
    "\n",
    "\n",
    "print(find_longest_substring(\"abcabcbb\"))\n",
    "\n"
   ]
  },
  {
   "cell_type": "code",
   "execution_count": 15,
   "metadata": {},
   "outputs": [
    {
     "name": "stdout",
     "output_type": "stream",
     "text": [
      "True\n"
     ]
    }
   ],
   "source": [
    "# Write a program to check if a string can be rearranged into a palindrome.\n",
    "\n",
    "def maybe_palindrome(message : str) -> str:\n",
    "    char_count = {}\n",
    "\n",
    "    for char in message:\n",
    "        if char in char_count:\n",
    "            char_count[char] +=1\n",
    "        else:\n",
    "            char_count[char] = 1 \n",
    "\n",
    "    odd_count = 0\n",
    "\n",
    "    for _ in char_count:\n",
    "        if char_count[char] %2 != 0:\n",
    "            odd_count += 1\n",
    "    if odd_count > 1:\n",
    "        return False\n",
    "    else:\n",
    "        return True\n",
    "\n",
    "\n",
    "print(maybe_palindrome(\"cara\"))"
   ]
  },
  {
   "cell_type": "code",
   "execution_count": 16,
   "metadata": {},
   "outputs": [
    {
     "name": "stdout",
     "output_type": "stream",
     "text": [
      "ab\n"
     ]
    }
   ],
   "source": [
    "# Implement a function that removes all duplicates from a string while preserving the order of characters.\n",
    "\n",
    "\n",
    "def eliminate_duplicates(message):\n",
    "    looked = {}\n",
    "    result = []\n",
    "\n",
    "    for char in message:\n",
    "        if char not in looked:\n",
    "            result.append(char) \n",
    "            looked[char] =1\n",
    "    result_str = \"\".join(result)\n",
    "\n",
    "    return result_str\n",
    "\n",
    "\n",
    "print(eliminate_duplicates(\"aab\"))\n",
    "\n",
    "\n",
    "\n"
   ]
  },
  {
   "cell_type": "code",
   "execution_count": 17,
   "metadata": {},
   "outputs": [],
   "source": [
    "# Write a function to find the longest common prefix among a list of strings.\n"
   ]
  },
  {
   "cell_type": "code",
   "execution_count": 18,
   "metadata": {},
   "outputs": [],
   "source": [
    "# Implement a custom `split` function without using Python's built-in methods."
   ]
  },
  {
   "cell_type": "code",
   "execution_count": 19,
   "metadata": {},
   "outputs": [],
   "source": [
    "# Write a function to decode a given run-length encoded string (e.g., \"a3b2\" -> \"aaabb\")."
   ]
  },
  {
   "cell_type": "code",
   "execution_count": 20,
   "metadata": {},
   "outputs": [],
   "source": [
    "# Implement a function to check if one string is a rotation of another."
   ]
  },
  {
   "cell_type": "code",
   "execution_count": 21,
   "metadata": {},
   "outputs": [],
   "source": [
    "# Create a function to find all permutations of a given string."
   ]
  },
  {
   "cell_type": "code",
   "execution_count": 22,
   "metadata": {},
   "outputs": [],
   "source": [
    "# Write a function to implement a basic version of the `str.index` method."
   ]
  },
  {
   "cell_type": "markdown",
   "metadata": {},
   "source": [
    "## Topic 2: Working with Dictionaries and Other Data Structures\n",
    "\n",
    "1. Create a dictionary to store the squares of numbers from 1 to 10.\n",
    "2. Write a program to merge two dictionaries.\n",
    "3. Implement a function to count the occurrences of each word in a given sentence.\n",
    "4. Create a dictionary from two lists: one for keys and one for values.\n",
    "5. Write a program to check if a given key exists in a dictionary.\n",
    "6. Implement a function to invert a dictionary (swap keys and values).\n",
    "7. Write a program to find the key with the highest value in a dictionary.\n",
    "8. Implement a function to sort a dictionary by its values.\n",
    "9. Write a program to remove all duplicate values from a list.\n",
    "10. Create a set containing unique elements from a list.\n",
    "11. Implement a function to find the intersection of two sets.\n",
    "12. Write a program to check if one set is a subset of another.\n",
    "13. Implement a function to find the union of two dictionaries.\n",
    "14. Write a program to flatten a nested list.\n",
    "15. Create a function to find the most frequent element in a list.\n",
    "16. Implement a stack using a list with push and pop operations.\n",
    "17. Write a program to check if a given list is a palindrome.\n",
    "18. Implement a queue using a list with enqueue and dequeue operations.\n",
    "19. Write a program to convert a list of tuples into a dictionary.\n",
    "20. Create a function to find the common elements in two lists.\n"
   ]
  },
  {
   "cell_type": "code",
   "execution_count": 46,
   "metadata": {},
   "outputs": [
    {
     "name": "stdout",
     "output_type": "stream",
     "text": [
      "{1: 1, 2: 4, 3: 9, 4: 16, 5: 25, 6: 36, 7: 49, 8: 64, 9: 81, 10: 100}\n"
     ]
    }
   ],
   "source": [
    "# 1. Create a dictionary to store the squares of numbers from 1 to 10.\n",
    "\n",
    "def squares():\n",
    "    new_dict = {}\n",
    "    for x in range(1,11):\n",
    "        new_dict[x] = x**2\n",
    "    return new_dict\n",
    "\n",
    "print(squares())"
   ]
  },
  {
   "cell_type": "code",
   "execution_count": 49,
   "metadata": {},
   "outputs": [
    {
     "name": "stdout",
     "output_type": "stream",
     "text": [
      "{'a': 1, 'c': 3, 'b': 2}\n"
     ]
    }
   ],
   "source": [
    "# 2. Write a program to merge two dictionaries.\n",
    "dict_1 = {\n",
    "    \"a\" : 1,\n",
    "    \"c\":3,\n",
    "}\n",
    "\n",
    "dict_2  = {\n",
    "    \"b\": 2,\n",
    "}\n",
    "\n",
    "dict_1.update(dict_2)\n",
    "\n",
    "print(dict_1)"
   ]
  },
  {
   "cell_type": "code",
   "execution_count": null,
   "metadata": {},
   "outputs": [],
   "source": [
    "# 3. Implement a function to count the occurrences of each word in a given sentence.\n"
   ]
  },
  {
   "cell_type": "code",
   "execution_count": 52,
   "metadata": {},
   "outputs": [
    {
     "name": "stdout",
     "output_type": "stream",
     "text": [
      "{1: 'a', 2: 'b', 3: 'c'}\n"
     ]
    }
   ],
   "source": [
    "# 4. Create a dictionary from two lists: one for keys and one for values.\n",
    "\n",
    "l1 = [1,2,3]\n",
    "l2 = [\"a\",\"b\",\"c\"]\n",
    "\n",
    "new_dict = dict(zip(l1, l2))\n",
    "\n",
    "print(new_dict)\n"
   ]
  },
  {
   "cell_type": "code",
   "execution_count": null,
   "metadata": {},
   "outputs": [],
   "source": [
    "# 5. Write a program to check if a given key exists in a dictionary.\n"
   ]
  },
  {
   "cell_type": "code",
   "execution_count": 59,
   "metadata": {},
   "outputs": [
    {
     "data": {
      "text/plain": [
       "('world', 'hello')"
      ]
     },
     "execution_count": 59,
     "metadata": {},
     "output_type": "execute_result"
    }
   ],
   "source": [
    "# 6. Implement a function to invert a dictionary (swap keys and values).\n",
    "\n",
    "my_dict = {\n",
    "    \"hello\": \"world\",\n",
    "}\n",
    "\n",
    "\n",
    "def swap_values(my_dict):\n",
    "    for key, value in my_dict.items():\n",
    "        new_dict = value, key\n",
    "\n",
    "    return new_dict\n",
    "\n",
    "swap_values(my_dict)\n",
    "\n",
    "        "
   ]
  },
  {
   "cell_type": "code",
   "execution_count": 61,
   "metadata": {},
   "outputs": [
    {
     "data": {
      "text/plain": [
       "'c'"
      ]
     },
     "execution_count": 61,
     "metadata": {},
     "output_type": "execute_result"
    }
   ],
   "source": [
    "# 7. Write a program to find the key with the highest value in a dictionary.\n",
    "\n",
    "dict_1 = {\n",
    "    \"a\" : 1,\n",
    "    \"c\":3,\n",
    "}\n",
    "\n",
    "max(dict_1, key = dict_1.get)\n",
    "    \n",
    "    \n"
   ]
  },
  {
   "cell_type": "code",
   "execution_count": 82,
   "metadata": {},
   "outputs": [
    {
     "name": "stdout",
     "output_type": "stream",
     "text": [
      "{'c': 2, 'a': 3}\n"
     ]
    }
   ],
   "source": [
    "# 8. Implement a function to sort a dictionary by its values.\n",
    "\n",
    "dict_1 = {\n",
    "    \"a\" : 3,\n",
    "    \"c\":2,\n",
    "}\n",
    "\n",
    "sorted_dict = dict(sorted(dict_1.items(), key = lambda item : item[1]))\n",
    "\n",
    "print(sorted_dict)\n"
   ]
  },
  {
   "cell_type": "code",
   "execution_count": null,
   "metadata": {},
   "outputs": [],
   "source": [
    "# 9. Write a program to remove all duplicate values from a list.\n"
   ]
  },
  {
   "cell_type": "code",
   "execution_count": null,
   "metadata": {},
   "outputs": [],
   "source": [
    "# 10. Create a set containing unique elements from a list.\n",
    "\n",
    "list_1 = [1,2,3,4,2]\n",
    "\n",
    "current_i = 0\n",
    "\n",
    "list_2 = []\n",
    "for i in list_1:\n",
    "   if i not in current_i:\n",
    "      list_2.append(i)\n",
    "\n",
    "print(list_2)\n",
    "\n",
    "     \n",
    "\n"
   ]
  },
  {
   "cell_type": "code",
   "execution_count": null,
   "metadata": {},
   "outputs": [],
   "source": [
    "# 11. Implement a function to find the intersection of two sets.\n"
   ]
  },
  {
   "cell_type": "code",
   "execution_count": null,
   "metadata": {},
   "outputs": [],
   "source": [
    "# 12. Write a program to check if one set is a subset of another.\n"
   ]
  },
  {
   "cell_type": "code",
   "execution_count": null,
   "metadata": {},
   "outputs": [],
   "source": [
    "# 13. Implement a function to find the union of two dictionaries.\n"
   ]
  },
  {
   "cell_type": "code",
   "execution_count": null,
   "metadata": {},
   "outputs": [],
   "source": [
    "# 14. Write a program to flatten a nested list.\n"
   ]
  },
  {
   "cell_type": "code",
   "execution_count": null,
   "metadata": {},
   "outputs": [],
   "source": [
    "# 15. Create a function to find the most frequent element in a list.\n"
   ]
  },
  {
   "cell_type": "code",
   "execution_count": null,
   "metadata": {},
   "outputs": [],
   "source": [
    "# 16. Implement a stack using a list with push and pop operations.\n"
   ]
  },
  {
   "cell_type": "code",
   "execution_count": null,
   "metadata": {},
   "outputs": [],
   "source": [
    "# 17. Write a program to check if a given list is a palindrome.\n"
   ]
  },
  {
   "cell_type": "code",
   "execution_count": null,
   "metadata": {},
   "outputs": [],
   "source": [
    "# 18. Implement a queue using a list with enqueue and dequeue operations.\n"
   ]
  },
  {
   "cell_type": "code",
   "execution_count": null,
   "metadata": {},
   "outputs": [],
   "source": [
    "# 19. Write a program to convert a list of tuples into a dictionary.\n"
   ]
  },
  {
   "cell_type": "code",
   "execution_count": null,
   "metadata": {},
   "outputs": [],
   "source": [
    "# 20. Create a function to find the common elements in two lists.\n"
   ]
  },
  {
   "cell_type": "markdown",
   "metadata": {},
   "source": [
    "## Topic 3: Text Processing Including Working with Text Files\n",
    "\n",
    "1. Write a program to read a text file and print its contents.\n",
    "2. Write a program to count the number of lines in a text file.\n",
    "3. Write a program to count the number of words in a text file.\n",
    "4. Write a program to count the number of characters in a text file.\n",
    "5. Write a program to find and print the longest word in a text file.\n",
    "6. Write a program to replace a word in a text file with another word.\n",
    "7. Write a program to append a line to a text file.\n",
    "8. Write a program to reverse the contents of a text file and write it to a new file.\n",
    "9. Write a program to find the frequency of each word in a text file.\n",
    "10. Write a program to read a text file and print only the lines that start with a specific letter.\n",
    "11. Write a program to create a new file that contains only unique words from a given text file.\n",
    "12. Write a program to merge the contents of two text files into a third file.\n",
    "13. Write a program to remove all punctuation from a text file and write the result to a new file.\n",
    "14. Write a program to count the occurrences of a specific word in a text file.\n",
    "15. Write a program to check if a specific word exists in a text file.\n",
    "16. Write a program to split a text file into multiple smaller files, each containing a fixed number of lines.\n",
    "17. Write a program to find all palindromic words in a text file.\n",
    "18. Write a program to sort the words in a text file alphabetically and save the result to a new file.\n",
    "19. Write a program to capitalize the first letter of every word in a text file.\n",
    "20. Write a program to remove duplicate lines from a text file and save the result to a new file."
   ]
  },
  {
   "cell_type": "code",
   "execution_count": null,
   "metadata": {},
   "outputs": [],
   "source": []
  },
  {
   "cell_type": "markdown",
   "metadata": {},
   "source": [
    "## Topic 4: Pandas Usage Oriented Processing\n",
    "\n",
    "1. Create a DataFrame from a dictionary of lists and display it.\n",
    "2. Add a new column to an existing DataFrame based on calculations from other columns.\n",
    "3. Filter rows in a DataFrame based on a condition.\n",
    "4. Sort a DataFrame by a specific column in ascending order.\n",
    "5. Write a program to rename the columns of a DataFrame.\n",
    "6. Drop rows with missing values from a DataFrame.\n",
    "7. Write a program to fill missing values in a DataFrame with a default value.\n",
    "8. Group a DataFrame by a specific column and calculate the mean of each group.\n",
    "9. Write a program to merge two DataFrames on a common column.\n",
    "10. Write a program to concatenate two DataFrames vertically.\n",
    "11. Create a new column in a DataFrame that is the result of applying a custom function to an existing column.\n",
    "12. Write a program to count the unique values in a specific column of a DataFrame.\n",
    "13. Write a program to find the maximum value in a specific column of a DataFrame.\n",
    "14. Write a program to filter a DataFrame based on multiple conditions.\n",
    "15. Write a program to calculate the correlation matrix of a DataFrame.\n",
    "16. Write a program to apply a lambda function to every element of a column in a DataFrame.\n",
    "17. Write a program to drop duplicate rows from a DataFrame.\n",
    "18. Write a program to reset the index of a DataFrame.\n",
    "19. Write a program to save a DataFrame to a CSV file.\n",
    "20. Write a program to read a CSV file into a DataFrame and display the first five rows."
   ]
  },
  {
   "cell_type": "code",
   "execution_count": 23,
   "metadata": {},
   "outputs": [
    {
     "data": {
      "text/html": [
       "<div>\n",
       "<style scoped>\n",
       "    .dataframe tbody tr th:only-of-type {\n",
       "        vertical-align: middle;\n",
       "    }\n",
       "\n",
       "    .dataframe tbody tr th {\n",
       "        vertical-align: top;\n",
       "    }\n",
       "\n",
       "    .dataframe thead th {\n",
       "        text-align: right;\n",
       "    }\n",
       "</style>\n",
       "<table border=\"1\" class=\"dataframe\">\n",
       "  <thead>\n",
       "    <tr style=\"text-align: right;\">\n",
       "      <th></th>\n",
       "      <th>name</th>\n",
       "      <th>age</th>\n",
       "      <th>properties</th>\n",
       "    </tr>\n",
       "  </thead>\n",
       "  <tbody>\n",
       "    <tr>\n",
       "      <th>0</th>\n",
       "      <td>Ana</td>\n",
       "      <td>28.0</td>\n",
       "      <td>4.0</td>\n",
       "    </tr>\n",
       "    <tr>\n",
       "      <th>1</th>\n",
       "      <td>Luis</td>\n",
       "      <td>34.0</td>\n",
       "      <td>5.0</td>\n",
       "    </tr>\n",
       "    <tr>\n",
       "      <th>2</th>\n",
       "      <td>Carlos</td>\n",
       "      <td>22.0</td>\n",
       "      <td>6.0</td>\n",
       "    </tr>\n",
       "    <tr>\n",
       "      <th>3</th>\n",
       "      <td>Marta</td>\n",
       "      <td>30.0</td>\n",
       "      <td>7.0</td>\n",
       "    </tr>\n",
       "    <tr>\n",
       "      <th>4</th>\n",
       "      <td>None</td>\n",
       "      <td>NaN</td>\n",
       "      <td>NaN</td>\n",
       "    </tr>\n",
       "  </tbody>\n",
       "</table>\n",
       "</div>"
      ],
      "text/plain": [
       "     name   age  properties\n",
       "0     Ana  28.0         4.0\n",
       "1    Luis  34.0         5.0\n",
       "2  Carlos  22.0         6.0\n",
       "3   Marta  30.0         7.0\n",
       "4    None   NaN         NaN"
      ]
     },
     "execution_count": 23,
     "metadata": {},
     "output_type": "execute_result"
    }
   ],
   "source": [
    "import pandas as pd\n",
    "import numpy as np\n",
    "# 1. Create a DataFrame from a dictionary of lists and display it.\n",
    "\n",
    "data = {\n",
    "    \"name\": [\"Ana\", \"Luis\", \"Carlos\", \"Marta\", None],\n",
    "    \"age\": [28, 34, 22, 30, np.nan],\n",
    "    \"properties\": [4,5,6,7, np.nan]\n",
    "\n",
    "}\n",
    "\n",
    "df = pd.DataFrame.from_dict(data)\n",
    "\n",
    "df.head()\n"
   ]
  },
  {
   "cell_type": "code",
   "execution_count": 24,
   "metadata": {},
   "outputs": [
    {
     "data": {
      "text/html": [
       "<div>\n",
       "<style scoped>\n",
       "    .dataframe tbody tr th:only-of-type {\n",
       "        vertical-align: middle;\n",
       "    }\n",
       "\n",
       "    .dataframe tbody tr th {\n",
       "        vertical-align: top;\n",
       "    }\n",
       "\n",
       "    .dataframe thead th {\n",
       "        text-align: right;\n",
       "    }\n",
       "</style>\n",
       "<table border=\"1\" class=\"dataframe\">\n",
       "  <thead>\n",
       "    <tr style=\"text-align: right;\">\n",
       "      <th></th>\n",
       "      <th>name</th>\n",
       "      <th>age</th>\n",
       "      <th>properties</th>\n",
       "      <th>years to 40</th>\n",
       "    </tr>\n",
       "  </thead>\n",
       "  <tbody>\n",
       "    <tr>\n",
       "      <th>0</th>\n",
       "      <td>Ana</td>\n",
       "      <td>28.0</td>\n",
       "      <td>4.0</td>\n",
       "      <td>12.0</td>\n",
       "    </tr>\n",
       "    <tr>\n",
       "      <th>1</th>\n",
       "      <td>Luis</td>\n",
       "      <td>34.0</td>\n",
       "      <td>5.0</td>\n",
       "      <td>6.0</td>\n",
       "    </tr>\n",
       "    <tr>\n",
       "      <th>2</th>\n",
       "      <td>Carlos</td>\n",
       "      <td>22.0</td>\n",
       "      <td>6.0</td>\n",
       "      <td>18.0</td>\n",
       "    </tr>\n",
       "    <tr>\n",
       "      <th>3</th>\n",
       "      <td>Marta</td>\n",
       "      <td>30.0</td>\n",
       "      <td>7.0</td>\n",
       "      <td>10.0</td>\n",
       "    </tr>\n",
       "    <tr>\n",
       "      <th>4</th>\n",
       "      <td>None</td>\n",
       "      <td>NaN</td>\n",
       "      <td>NaN</td>\n",
       "      <td>NaN</td>\n",
       "    </tr>\n",
       "  </tbody>\n",
       "</table>\n",
       "</div>"
      ],
      "text/plain": [
       "     name   age  properties  years to 40\n",
       "0     Ana  28.0         4.0         12.0\n",
       "1    Luis  34.0         5.0          6.0\n",
       "2  Carlos  22.0         6.0         18.0\n",
       "3   Marta  30.0         7.0         10.0\n",
       "4    None   NaN         NaN          NaN"
      ]
     },
     "execution_count": 24,
     "metadata": {},
     "output_type": "execute_result"
    }
   ],
   "source": [
    "# 2. Add a new column to an existing DataFrame based on calculations from other columns.\n",
    "\n",
    "df[\"years to 40\"] = 40 - df[\"age\"]\n",
    "\n",
    "df.head()\n"
   ]
  },
  {
   "cell_type": "code",
   "execution_count": 25,
   "metadata": {},
   "outputs": [
    {
     "data": {
      "text/html": [
       "<div>\n",
       "<style scoped>\n",
       "    .dataframe tbody tr th:only-of-type {\n",
       "        vertical-align: middle;\n",
       "    }\n",
       "\n",
       "    .dataframe tbody tr th {\n",
       "        vertical-align: top;\n",
       "    }\n",
       "\n",
       "    .dataframe thead th {\n",
       "        text-align: right;\n",
       "    }\n",
       "</style>\n",
       "<table border=\"1\" class=\"dataframe\">\n",
       "  <thead>\n",
       "    <tr style=\"text-align: right;\">\n",
       "      <th></th>\n",
       "      <th>name</th>\n",
       "      <th>age</th>\n",
       "      <th>properties</th>\n",
       "      <th>years to 40</th>\n",
       "    </tr>\n",
       "  </thead>\n",
       "  <tbody>\n",
       "    <tr>\n",
       "      <th>0</th>\n",
       "      <td>Ana</td>\n",
       "      <td>28.0</td>\n",
       "      <td>4.0</td>\n",
       "      <td>12.0</td>\n",
       "    </tr>\n",
       "    <tr>\n",
       "      <th>1</th>\n",
       "      <td>Luis</td>\n",
       "      <td>34.0</td>\n",
       "      <td>5.0</td>\n",
       "      <td>6.0</td>\n",
       "    </tr>\n",
       "    <tr>\n",
       "      <th>3</th>\n",
       "      <td>Marta</td>\n",
       "      <td>30.0</td>\n",
       "      <td>7.0</td>\n",
       "      <td>10.0</td>\n",
       "    </tr>\n",
       "  </tbody>\n",
       "</table>\n",
       "</div>"
      ],
      "text/plain": [
       "    name   age  properties  years to 40\n",
       "0    Ana  28.0         4.0         12.0\n",
       "1   Luis  34.0         5.0          6.0\n",
       "3  Marta  30.0         7.0         10.0"
      ]
     },
     "execution_count": 25,
     "metadata": {},
     "output_type": "execute_result"
    }
   ],
   "source": [
    "# 3. Filter rows in a DataFrame based on a condition.\n",
    "\n",
    "df_more_than_30 = df[df[\"age\"] > 25]\n",
    "\n",
    "df_more_than_30.head()"
   ]
  },
  {
   "cell_type": "code",
   "execution_count": 26,
   "metadata": {},
   "outputs": [
    {
     "name": "stderr",
     "output_type": "stream",
     "text": [
      "C:\\Users\\victo\\AppData\\Local\\Temp\\ipykernel_18316\\3416851940.py:3: SettingWithCopyWarning: \n",
      "A value is trying to be set on a copy of a slice from a DataFrame\n",
      "\n",
      "See the caveats in the documentation: https://pandas.pydata.org/pandas-docs/stable/user_guide/indexing.html#returning-a-view-versus-a-copy\n",
      "  df_more_than_30.sort_values(by=\"years to 40\", ascending=True, inplace=True)\n"
     ]
    },
    {
     "data": {
      "text/html": [
       "<div>\n",
       "<style scoped>\n",
       "    .dataframe tbody tr th:only-of-type {\n",
       "        vertical-align: middle;\n",
       "    }\n",
       "\n",
       "    .dataframe tbody tr th {\n",
       "        vertical-align: top;\n",
       "    }\n",
       "\n",
       "    .dataframe thead th {\n",
       "        text-align: right;\n",
       "    }\n",
       "</style>\n",
       "<table border=\"1\" class=\"dataframe\">\n",
       "  <thead>\n",
       "    <tr style=\"text-align: right;\">\n",
       "      <th></th>\n",
       "      <th>name</th>\n",
       "      <th>age</th>\n",
       "      <th>properties</th>\n",
       "      <th>years to 40</th>\n",
       "    </tr>\n",
       "  </thead>\n",
       "  <tbody>\n",
       "    <tr>\n",
       "      <th>1</th>\n",
       "      <td>Luis</td>\n",
       "      <td>34.0</td>\n",
       "      <td>5.0</td>\n",
       "      <td>6.0</td>\n",
       "    </tr>\n",
       "    <tr>\n",
       "      <th>3</th>\n",
       "      <td>Marta</td>\n",
       "      <td>30.0</td>\n",
       "      <td>7.0</td>\n",
       "      <td>10.0</td>\n",
       "    </tr>\n",
       "    <tr>\n",
       "      <th>0</th>\n",
       "      <td>Ana</td>\n",
       "      <td>28.0</td>\n",
       "      <td>4.0</td>\n",
       "      <td>12.0</td>\n",
       "    </tr>\n",
       "  </tbody>\n",
       "</table>\n",
       "</div>"
      ],
      "text/plain": [
       "    name   age  properties  years to 40\n",
       "1   Luis  34.0         5.0          6.0\n",
       "3  Marta  30.0         7.0         10.0\n",
       "0    Ana  28.0         4.0         12.0"
      ]
     },
     "execution_count": 26,
     "metadata": {},
     "output_type": "execute_result"
    }
   ],
   "source": [
    "# 4. Sort a DataFrame by a specific column in ascending order.\n",
    "\n",
    "df_more_than_30.sort_values(by=\"years to 40\", ascending=True, inplace=True)\n",
    "df_more_than_30.head()"
   ]
  },
  {
   "cell_type": "code",
   "execution_count": 27,
   "metadata": {},
   "outputs": [
    {
     "data": {
      "text/html": [
       "<div>\n",
       "<style scoped>\n",
       "    .dataframe tbody tr th:only-of-type {\n",
       "        vertical-align: middle;\n",
       "    }\n",
       "\n",
       "    .dataframe tbody tr th {\n",
       "        vertical-align: top;\n",
       "    }\n",
       "\n",
       "    .dataframe thead th {\n",
       "        text-align: right;\n",
       "    }\n",
       "</style>\n",
       "<table border=\"1\" class=\"dataframe\">\n",
       "  <thead>\n",
       "    <tr style=\"text-align: right;\">\n",
       "      <th></th>\n",
       "      <th>name</th>\n",
       "      <th>age</th>\n",
       "      <th>properties</th>\n",
       "      <th>test to 40</th>\n",
       "    </tr>\n",
       "  </thead>\n",
       "  <tbody>\n",
       "    <tr>\n",
       "      <th>0</th>\n",
       "      <td>Ana</td>\n",
       "      <td>28.0</td>\n",
       "      <td>4.0</td>\n",
       "      <td>12.0</td>\n",
       "    </tr>\n",
       "    <tr>\n",
       "      <th>1</th>\n",
       "      <td>Luis</td>\n",
       "      <td>34.0</td>\n",
       "      <td>5.0</td>\n",
       "      <td>6.0</td>\n",
       "    </tr>\n",
       "    <tr>\n",
       "      <th>2</th>\n",
       "      <td>Carlos</td>\n",
       "      <td>22.0</td>\n",
       "      <td>6.0</td>\n",
       "      <td>18.0</td>\n",
       "    </tr>\n",
       "    <tr>\n",
       "      <th>3</th>\n",
       "      <td>Marta</td>\n",
       "      <td>30.0</td>\n",
       "      <td>7.0</td>\n",
       "      <td>10.0</td>\n",
       "    </tr>\n",
       "    <tr>\n",
       "      <th>4</th>\n",
       "      <td>None</td>\n",
       "      <td>NaN</td>\n",
       "      <td>NaN</td>\n",
       "      <td>NaN</td>\n",
       "    </tr>\n",
       "  </tbody>\n",
       "</table>\n",
       "</div>"
      ],
      "text/plain": [
       "     name   age  properties  test to 40\n",
       "0     Ana  28.0         4.0        12.0\n",
       "1    Luis  34.0         5.0         6.0\n",
       "2  Carlos  22.0         6.0        18.0\n",
       "3   Marta  30.0         7.0        10.0\n",
       "4    None   NaN         NaN         NaN"
      ]
     },
     "execution_count": 27,
     "metadata": {},
     "output_type": "execute_result"
    }
   ],
   "source": [
    "# 5. Write a program to rename the columns of a DataFrame.\n",
    "\n",
    "df = df.rename(columns={\"years to 40\": \"test to 40\"})\n",
    "\n",
    "df.head()"
   ]
  },
  {
   "cell_type": "code",
   "execution_count": 28,
   "metadata": {},
   "outputs": [],
   "source": [
    "# 6. Drop rows with missing values from a DataFrame.\n",
    "\n",
    "df = df.dropna()\n"
   ]
  },
  {
   "cell_type": "code",
   "execution_count": 29,
   "metadata": {},
   "outputs": [
    {
     "data": {
      "text/html": [
       "<div>\n",
       "<style scoped>\n",
       "    .dataframe tbody tr th:only-of-type {\n",
       "        vertical-align: middle;\n",
       "    }\n",
       "\n",
       "    .dataframe tbody tr th {\n",
       "        vertical-align: top;\n",
       "    }\n",
       "\n",
       "    .dataframe thead th {\n",
       "        text-align: right;\n",
       "    }\n",
       "</style>\n",
       "<table border=\"1\" class=\"dataframe\">\n",
       "  <thead>\n",
       "    <tr style=\"text-align: right;\">\n",
       "      <th></th>\n",
       "      <th>name</th>\n",
       "      <th>age</th>\n",
       "      <th>properties</th>\n",
       "      <th>test to 40</th>\n",
       "    </tr>\n",
       "  </thead>\n",
       "  <tbody>\n",
       "    <tr>\n",
       "      <th>0</th>\n",
       "      <td>Ana</td>\n",
       "      <td>28.0</td>\n",
       "      <td>4.0</td>\n",
       "      <td>12.0</td>\n",
       "    </tr>\n",
       "    <tr>\n",
       "      <th>1</th>\n",
       "      <td>Luis</td>\n",
       "      <td>34.0</td>\n",
       "      <td>5.0</td>\n",
       "      <td>6.0</td>\n",
       "    </tr>\n",
       "    <tr>\n",
       "      <th>2</th>\n",
       "      <td>Carlos</td>\n",
       "      <td>22.0</td>\n",
       "      <td>6.0</td>\n",
       "      <td>18.0</td>\n",
       "    </tr>\n",
       "    <tr>\n",
       "      <th>3</th>\n",
       "      <td>Marta</td>\n",
       "      <td>30.0</td>\n",
       "      <td>7.0</td>\n",
       "      <td>10.0</td>\n",
       "    </tr>\n",
       "  </tbody>\n",
       "</table>\n",
       "</div>"
      ],
      "text/plain": [
       "     name   age  properties  test to 40\n",
       "0     Ana  28.0         4.0        12.0\n",
       "1    Luis  34.0         5.0         6.0\n",
       "2  Carlos  22.0         6.0        18.0\n",
       "3   Marta  30.0         7.0        10.0"
      ]
     },
     "execution_count": 29,
     "metadata": {},
     "output_type": "execute_result"
    }
   ],
   "source": [
    "# 7. Write a program to fill missing values in a DataFrame with a default value.\n",
    "\n",
    "df_filled = df.fillna({\n",
    "    \"name\": \"unknown\",\n",
    "    \"age\": -1,\n",
    "    \"properties\": 0\n",
    "})\n",
    "\n",
    "df_filled.head()"
   ]
  },
  {
   "cell_type": "code",
   "execution_count": 30,
   "metadata": {},
   "outputs": [
    {
     "data": {
      "text/html": [
       "<div>\n",
       "<style scoped>\n",
       "    .dataframe tbody tr th:only-of-type {\n",
       "        vertical-align: middle;\n",
       "    }\n",
       "\n",
       "    .dataframe tbody tr th {\n",
       "        vertical-align: top;\n",
       "    }\n",
       "\n",
       "    .dataframe thead th {\n",
       "        text-align: right;\n",
       "    }\n",
       "</style>\n",
       "<table border=\"1\" class=\"dataframe\">\n",
       "  <thead>\n",
       "    <tr style=\"text-align: right;\">\n",
       "      <th></th>\n",
       "      <th>properties</th>\n",
       "      <th>test to 40</th>\n",
       "    </tr>\n",
       "    <tr>\n",
       "      <th>age</th>\n",
       "      <th></th>\n",
       "      <th></th>\n",
       "    </tr>\n",
       "  </thead>\n",
       "  <tbody>\n",
       "    <tr>\n",
       "      <th>22.0</th>\n",
       "      <td>6.0</td>\n",
       "      <td>18.0</td>\n",
       "    </tr>\n",
       "    <tr>\n",
       "      <th>28.0</th>\n",
       "      <td>4.0</td>\n",
       "      <td>12.0</td>\n",
       "    </tr>\n",
       "    <tr>\n",
       "      <th>30.0</th>\n",
       "      <td>7.0</td>\n",
       "      <td>10.0</td>\n",
       "    </tr>\n",
       "    <tr>\n",
       "      <th>34.0</th>\n",
       "      <td>5.0</td>\n",
       "      <td>6.0</td>\n",
       "    </tr>\n",
       "  </tbody>\n",
       "</table>\n",
       "</div>"
      ],
      "text/plain": [
       "      properties  test to 40\n",
       "age                         \n",
       "22.0         6.0        18.0\n",
       "28.0         4.0        12.0\n",
       "30.0         7.0        10.0\n",
       "34.0         5.0         6.0"
      ]
     },
     "metadata": {},
     "output_type": "display_data"
    }
   ],
   "source": [
    "# 8. Group a DataFrame by a specific column and calculate the mean of each group.\n",
    "\n",
    "grouped = df.groupby(\"age\").mean(numeric_only=True)\n",
    "display(grouped)"
   ]
  },
  {
   "cell_type": "code",
   "execution_count": 31,
   "metadata": {},
   "outputs": [
    {
     "data": {
      "text/html": [
       "<div>\n",
       "<style scoped>\n",
       "    .dataframe tbody tr th:only-of-type {\n",
       "        vertical-align: middle;\n",
       "    }\n",
       "\n",
       "    .dataframe tbody tr th {\n",
       "        vertical-align: top;\n",
       "    }\n",
       "\n",
       "    .dataframe thead th {\n",
       "        text-align: right;\n",
       "    }\n",
       "</style>\n",
       "<table border=\"1\" class=\"dataframe\">\n",
       "  <thead>\n",
       "    <tr style=\"text-align: right;\">\n",
       "      <th></th>\n",
       "      <th>id</th>\n",
       "      <th>name</th>\n",
       "      <th>age</th>\n",
       "    </tr>\n",
       "  </thead>\n",
       "  <tbody>\n",
       "    <tr>\n",
       "      <th>0</th>\n",
       "      <td>1</td>\n",
       "      <td>Ana</td>\n",
       "      <td>28</td>\n",
       "    </tr>\n",
       "    <tr>\n",
       "      <th>1</th>\n",
       "      <td>2</td>\n",
       "      <td>Luis</td>\n",
       "      <td>34</td>\n",
       "    </tr>\n",
       "  </tbody>\n",
       "</table>\n",
       "</div>"
      ],
      "text/plain": [
       "   id  name  age\n",
       "0   1   Ana   28\n",
       "1   2  Luis   34"
      ]
     },
     "metadata": {},
     "output_type": "display_data"
    }
   ],
   "source": [
    "# 9. Write a program to merge two DataFrames on a common column.\n",
    "\n",
    "\n",
    "data1 = {\n",
    "    \"id\": [1, 2, 3],\n",
    "    \"name\": [\"Ana\", \"Luis\", \"Marta\"]\n",
    "}\n",
    "df1 = pd.DataFrame(data1)\n",
    "\n",
    "\n",
    "data2 = {\n",
    "    \"id\": [1, 2, 4],\n",
    "    \"age\": [28, 34, 30]\n",
    "}\n",
    "df2 = pd.DataFrame(data2)\n",
    "\n",
    "# Merging in id column\n",
    "merged= pd.merge(df1, df2, on=\"id\", how=\"inner\")\n",
    "\n",
    "# Mostrar el DataFrame fusionado\n",
    "display(merged)\n"
   ]
  },
  {
   "cell_type": "code",
   "execution_count": 32,
   "metadata": {},
   "outputs": [
    {
     "data": {
      "text/html": [
       "<div>\n",
       "<style scoped>\n",
       "    .dataframe tbody tr th:only-of-type {\n",
       "        vertical-align: middle;\n",
       "    }\n",
       "\n",
       "    .dataframe tbody tr th {\n",
       "        vertical-align: top;\n",
       "    }\n",
       "\n",
       "    .dataframe thead th {\n",
       "        text-align: right;\n",
       "    }\n",
       "</style>\n",
       "<table border=\"1\" class=\"dataframe\">\n",
       "  <thead>\n",
       "    <tr style=\"text-align: right;\">\n",
       "      <th></th>\n",
       "      <th>id</th>\n",
       "      <th>name</th>\n",
       "      <th>age</th>\n",
       "    </tr>\n",
       "  </thead>\n",
       "  <tbody>\n",
       "    <tr>\n",
       "      <th>0</th>\n",
       "      <td>1</td>\n",
       "      <td>Ana</td>\n",
       "      <td>NaN</td>\n",
       "    </tr>\n",
       "    <tr>\n",
       "      <th>1</th>\n",
       "      <td>2</td>\n",
       "      <td>Luis</td>\n",
       "      <td>NaN</td>\n",
       "    </tr>\n",
       "    <tr>\n",
       "      <th>2</th>\n",
       "      <td>3</td>\n",
       "      <td>Marta</td>\n",
       "      <td>NaN</td>\n",
       "    </tr>\n",
       "    <tr>\n",
       "      <th>3</th>\n",
       "      <td>1</td>\n",
       "      <td>NaN</td>\n",
       "      <td>28.0</td>\n",
       "    </tr>\n",
       "    <tr>\n",
       "      <th>4</th>\n",
       "      <td>2</td>\n",
       "      <td>NaN</td>\n",
       "      <td>34.0</td>\n",
       "    </tr>\n",
       "    <tr>\n",
       "      <th>5</th>\n",
       "      <td>4</td>\n",
       "      <td>NaN</td>\n",
       "      <td>30.0</td>\n",
       "    </tr>\n",
       "  </tbody>\n",
       "</table>\n",
       "</div>"
      ],
      "text/plain": [
       "   id   name   age\n",
       "0   1    Ana   NaN\n",
       "1   2   Luis   NaN\n",
       "2   3  Marta   NaN\n",
       "3   1    NaN  28.0\n",
       "4   2    NaN  34.0\n",
       "5   4    NaN  30.0"
      ]
     },
     "metadata": {},
     "output_type": "display_data"
    }
   ],
   "source": [
    "# 10. Write a program to concatenate two DataFrames vertically.\n",
    "\n",
    "concatenated_df = pd.concat([df1, df2], ignore_index=True)\n",
    "\n",
    "# Mostrar el DataFrame concatenado\n",
    "display(concatenated_df)"
   ]
  },
  {
   "cell_type": "code",
   "execution_count": 33,
   "metadata": {},
   "outputs": [],
   "source": [
    "# 11. Create a new column in a DataFrame that is the result of applying a custom function to an existing column.\n",
    "\n",
    "\n"
   ]
  },
  {
   "cell_type": "code",
   "execution_count": 34,
   "metadata": {},
   "outputs": [],
   "source": [
    "# 12. Write a program to count the unique values in a specific column of a DataFrame.\n"
   ]
  },
  {
   "cell_type": "code",
   "execution_count": 35,
   "metadata": {},
   "outputs": [],
   "source": [
    "# 13. Write a program to find the maximum value in a specific column of a DataFrame.\n"
   ]
  },
  {
   "cell_type": "code",
   "execution_count": 36,
   "metadata": {},
   "outputs": [],
   "source": [
    "# 14. Write a program to filter a DataFrame based on multiple conditions.\n"
   ]
  },
  {
   "cell_type": "code",
   "execution_count": 37,
   "metadata": {},
   "outputs": [],
   "source": [
    "# 15. Write a program to calculate the correlation matrix of a DataFrame.\n"
   ]
  },
  {
   "cell_type": "code",
   "execution_count": 38,
   "metadata": {},
   "outputs": [],
   "source": [
    "# 16. Write a program to apply a lambda function to every element of a column in a DataFrame.\n"
   ]
  },
  {
   "cell_type": "code",
   "execution_count": 39,
   "metadata": {},
   "outputs": [],
   "source": [
    "# 17. Write a program to drop duplicate rows from a DataFrame.\n"
   ]
  },
  {
   "cell_type": "code",
   "execution_count": 40,
   "metadata": {},
   "outputs": [],
   "source": [
    "# 18. Write a program to reset the index of a DataFrame.\n"
   ]
  },
  {
   "cell_type": "code",
   "execution_count": 42,
   "metadata": {},
   "outputs": [],
   "source": [
    "# 19. Write a program to save a DataFrame to a CSV file.\n",
    "\n",
    "\n",
    "df.to_csv(\"test.csv\")\n"
   ]
  },
  {
   "cell_type": "code",
   "execution_count": 43,
   "metadata": {},
   "outputs": [
    {
     "data": {
      "text/html": [
       "<div>\n",
       "<style scoped>\n",
       "    .dataframe tbody tr th:only-of-type {\n",
       "        vertical-align: middle;\n",
       "    }\n",
       "\n",
       "    .dataframe tbody tr th {\n",
       "        vertical-align: top;\n",
       "    }\n",
       "\n",
       "    .dataframe thead th {\n",
       "        text-align: right;\n",
       "    }\n",
       "</style>\n",
       "<table border=\"1\" class=\"dataframe\">\n",
       "  <thead>\n",
       "    <tr style=\"text-align: right;\">\n",
       "      <th></th>\n",
       "      <th>Unnamed: 0</th>\n",
       "      <th>name</th>\n",
       "      <th>age</th>\n",
       "      <th>properties</th>\n",
       "      <th>test to 40</th>\n",
       "    </tr>\n",
       "  </thead>\n",
       "  <tbody>\n",
       "    <tr>\n",
       "      <th>0</th>\n",
       "      <td>0</td>\n",
       "      <td>Ana</td>\n",
       "      <td>28.0</td>\n",
       "      <td>4.0</td>\n",
       "      <td>12.0</td>\n",
       "    </tr>\n",
       "    <tr>\n",
       "      <th>1</th>\n",
       "      <td>1</td>\n",
       "      <td>Luis</td>\n",
       "      <td>34.0</td>\n",
       "      <td>5.0</td>\n",
       "      <td>6.0</td>\n",
       "    </tr>\n",
       "    <tr>\n",
       "      <th>2</th>\n",
       "      <td>2</td>\n",
       "      <td>Carlos</td>\n",
       "      <td>22.0</td>\n",
       "      <td>6.0</td>\n",
       "      <td>18.0</td>\n",
       "    </tr>\n",
       "    <tr>\n",
       "      <th>3</th>\n",
       "      <td>3</td>\n",
       "      <td>Marta</td>\n",
       "      <td>30.0</td>\n",
       "      <td>7.0</td>\n",
       "      <td>10.0</td>\n",
       "    </tr>\n",
       "  </tbody>\n",
       "</table>\n",
       "</div>"
      ],
      "text/plain": [
       "   Unnamed: 0    name   age  properties  test to 40\n",
       "0           0     Ana  28.0         4.0        12.0\n",
       "1           1    Luis  34.0         5.0         6.0\n",
       "2           2  Carlos  22.0         6.0        18.0\n",
       "3           3   Marta  30.0         7.0        10.0"
      ]
     },
     "execution_count": 43,
     "metadata": {},
     "output_type": "execute_result"
    }
   ],
   "source": [
    "# 20. Write a program to read a CSV file into a DataFrame and display the first five rows.\n",
    "\n",
    "new_df = pd.read_csv(\"test.csv\")\n",
    "\n",
    "new_df.head(5)"
   ]
  }
 ],
 "metadata": {
  "kernelspec": {
   "display_name": "aprendizaje_env",
   "language": "python",
   "name": "python3"
  },
  "language_info": {
   "codemirror_mode": {
    "name": "ipython",
    "version": 3
   },
   "file_extension": ".py",
   "mimetype": "text/x-python",
   "name": "python",
   "nbconvert_exporter": "python",
   "pygments_lexer": "ipython3",
   "version": "3.10.16"
  }
 },
 "nbformat": 4,
 "nbformat_minor": 2
}
