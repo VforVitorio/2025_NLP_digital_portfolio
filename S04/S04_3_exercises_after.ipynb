{
 "cells": [
  {
   "cell_type": "markdown",
   "metadata": {},
   "source": [
    "# Exercise after class\n",
    "\n",
    "The goal of this exercise is to explore the NLTK library using the manual or online tutorials (avoid AI usage). First, create one (or more) texts in spanish (just copy paste it somewhere). The use the NLTK library of pure Python to performe at least this action to the text(s). \n",
    "\n",
    "1. Case folding\n",
    "2. Word normalization\n",
    "3. Tokenization\n",
    "4. Stemming\n",
    "5. Lemmatization\n",
    "6. Sentence segmentation\n",
    "7. PoS Tagging\n",
    "8. Named Entity Recognition (NER)\n",
    "\n",
    "Just try to explore and understand the library. Check in the reference book and NLTK manual for the new concepts."
   ]
  },
  {
   "cell_type": "code",
   "execution_count": null,
   "metadata": {},
   "outputs": [],
   "source": [
    "import nltk"
   ]
  },
  {
   "cell_type": "code",
   "execution_count": null,
   "metadata": {},
   "outputs": [],
   "source": [
    "\n",
    "text = \"\"\"\n",
    "Don Quijote de la Mancha\n",
    "Capítulo primero\n",
    "\n",
    "Que trata de la condición y ejercicio del famoso y valiente hidalgo don Quijote de la Mancha\n",
    "\n",
    "En un lugar de la Mancha, de cuyo nombre no quiero acordarme, no ha mucho tiempo que vivía un hidalgo de los de lanza en astillero, adarga antigua, rocín flaco y galgo corredor. Una olla de algo más vaca que carnero, salpicón las más noches, duelos y quebrantos los sábados, lantejas los viernes, algún palomino de añadidura los domingos, consumían las tres partes de su hacienda.\n",
    "El resto della concluían sayo de velarte, calzas de velludo para las fiestas, con sus pantuflos de lo mesmo, y los días de entresemana se honraba con su vellorí de lo más fino.\n",
    "\n",
    "Tenía en su casa una ama que pasaba de los cuarenta y una sobrina que no llegaba a los veinte, y un mozo de campo y plaza que así ensillaba el rocín como tomaba la podadera.\n",
    "Frisaba la edad de nuestro hidalgo con los cincuenta años.\n",
    "Era de complexión recia, seco de carnes, enjuto de rostro, gran madrugador y amigo de la caza.\n",
    "Quieren decir que tenía el sobrenombre de «Quijada», o «Quesada», que en esto hay alguna diferencia en los autores que deste caso escriben, aunque por conjeturas verisímiles se deja entender que se llamaba «Quijana»,. Pero esto importa poco a nuestro cuento: basta que en la narración dél no se salga un punto de la verdad.\n",
    "\n",
    "Es, pues, de saber que este sobredicho hidalgo, los ratos que estaba ocioso —que eran los más del año—, se daba a leer libros de caballerías, con tanta afición y gusto, que olvidó casi de todo punto el ejercicio de la caza y aun la administración de su hacienda; y llegó a tanto su curiosidad y desatino en esto, que vendió muchas hanegas de tierra de sembradura para comprar libros de caballerías en que leer, y, así, llevó a su casa todos cuantos pudo haber dellos; y, de todos, ningunos le parecían tan bien como los que compuso el famoso Feliciano de Silva, porque la claridad de su prosa y aquellas entricadas razones suyas le parecían de perlas, y más cuando llegaba a leer aquellos requiebros y cartas de desafíos, donde en muchas partes hallaba escrito:\n",
    "«La razón de la sinrazón que a mi razón se hace, de tal manera mi razón enflaquece, que con razón me quejo de la vuestra fermosura».\n",
    "Y también cuando leía:\n",
    "«Los altos cielos que de vuestra divinidad divinamente con las estrellas os fortifican y os hacen merecedora del merecimiento que merece la vuestra grandeza…»\n",
    "\n",
    "Con estas razones perdía el pobre caballero el juicio, y desvelábase por entenderlas y desentrañarles el sentido, que no se lo sacara ni las entendiera el mesmo Aristóteles, si resucitara para solo ello. No estaba muy bien con las heridas que don Belianís daba y recebía, porque se imaginaba que, por grandes maestros que le hubiesen curado, no dejaría de tener el rostro y todo el cuerpo lleno de cicatrices y señales.\n",
    "Pero, con todo, alababa en su autor aquel acabar su libro con la promesa de aquella inacabable aventura, y muchas veces le vino deseo de tomar la pluma y dalle fin al pie de la letra como allí se promete; y sin duda alguna lo hiciera, y aun saliera con ello, si otros mayores y continuos pensamientos no se lo estorbaran.\n",
    "Tuvo muchas veces competencia con el cura de su lugar —que era hombre docto, graduado en Cigüenza— sobre cuál había sido mejor caballero: Palmerín de Ingalaterra o Amadís de Gaula; mas maese Nicolás, barbero del mesmo pueblo, decía que ninguno llegaba al Caballero del Febo, y que si alguno se le podía comparar era don Galaor, hermano de Amadís de Gaula, porque tenía muy acomodada condición para todo, que no era caballero melindroso, ni tan llorón como su hermano, y que en lo de la valentía no le iba en zaga.\n",
    "\n",
    "En resolución, él se enfrascó tanto en su letura, que se le pasaban las noches leyendo de claro en claro, y los días de turbio en turbio; y así, del poco dormir y del mucho leer, se le secó el celebro de manera que vino a perder el juicio.\n",
    "\n",
    "Llenósele la fantasía de todo aquello que leía en los libros, así de encantamentos como de pendencias, batallas, desafíos, heridas, requiebros, amores, tormentas y disparates imposibles; y asentósele de tal modo en la imaginación que era verdad toda aquella máquina de aquellas soñadas invenciones que leía, que para él no había otra historia más cierta en el mundo.\n",
    "\n",
    "Decía él que el Cid Ruy Díaz había sido muy buen caballero, pero que no tenía que ver con el Caballero de la Ardiente Espada, que de solo un revés había partido por medio dos fieros y descomunales gigantes.\n",
    "\n",
    "Mejor estaba con Bernardo del Carpio, porque en Roncesvalles había muerto a Roldán, el encantado, valiéndose de la industria de Hércules, cuando ahogó a Anteo, el hijo de la Tierra, entre los brazos.\n",
    "\n",
    "Decía mucho bien del gigante Morgante, porque, con ser de aquella generación gigantea, que todos son soberbios y descomedidos, él solo era afable y bien criado.\n",
    "\n",
    "Pero, sobre todos, estaba bien con Reinaldos de Montalbán, y más cuando le veía salir de su castillo y robar cuantos topaba, y cuando en allende robó aquel ídolo de Mahoma que era todo de oro, según dice su historia.\n",
    "\n",
    "Diera él, por dar una mano de coces al traidor de Galalón, al ama que tenía, y aun a su sobrina de añadidura.\"\"\""
   ]
  },
  {
   "cell_type": "code",
   "execution_count": null,
   "metadata": {},
   "outputs": [],
   "source": [
    "# Save this text from Don Quijote´s first chapter to a txt file\n",
    "with open(\"don_quijote.txt\", \"w\", encoding=\"utf-8\") as f:\n",
    "    f.write(text)"
   ]
  },
  {
   "cell_type": "code",
   "execution_count": null,
   "metadata": {},
   "outputs": [],
   "source": [
    "# 1. Case Folding \n",
    "print(\"\\n --- Case Folding ---\")\n",
    "text_folded = text.lower()\n",
    "print(text_folded)\n"
   ]
  },
  {
   "cell_type": "code",
   "execution_count": null,
   "metadata": {},
   "outputs": [],
   "source": [
    "# 2. Normalization "
   ]
  },
  {
   "cell_type": "markdown",
   "metadata": {},
   "source": [
    "#### Tokenization\n",
    "\n",
    "For tokenizing I´ll use the [nltk.tokenize.word_tokenize](https://www.nltk.org/api/nltk.tokenize.word_tokenize.html) method, following the documentation.\n",
    "\n",
    "This method has 3 parameters:\n",
    "1. `text` as a string, this is, the text to split into words.\n",
    "2. `language` as a string, as the model name with the language we will tokenize.\n",
    "3. `preserve_line` as a bool, as a flag to decide whether to sentence tokenize or not. This flag may be useful for the exercise of sentence segmentation."
   ]
  },
  {
   "cell_type": "code",
   "execution_count": 25,
   "metadata": {},
   "outputs": [
    {
     "name": "stdout",
     "output_type": "stream",
     "text": [
      "\n",
      "--- Word Tokenization ---\n",
      "['Don', 'Quijote', 'de', 'la', 'Mancha', 'Capítulo', 'primero', 'Que', 'trata', 'de', 'la', 'condición', 'y', 'ejercicio', 'del', 'famoso', 'y', 'valiente', 'hidalgo', 'don', 'Quijote', 'de', 'la', 'Mancha', 'En', 'un', 'lugar', 'de', 'la', 'Mancha', ',', 'de', 'cuyo', 'nombre', 'no', 'quiero', 'acordarme', ',', 'no', 'ha', 'mucho', 'tiempo', 'que', 'vivía', 'un', 'hidalgo', 'de', 'los', 'de', 'lanza', 'en', 'astillero', ',', 'adarga', 'antigua', ',', 'rocín', 'flaco', 'y', 'galgo', 'corredor', '.', 'Una', 'olla', 'de', 'algo', 'más', 'vaca', 'que', 'carnero', ',', 'salpicón', 'las', 'más', 'noches', ',', 'duelos', 'y', 'quebrantos', 'los', 'sábados', ',', 'lantejas', 'los', 'viernes', ',', 'algún', 'palomino', 'de', 'añadidura', 'los', 'domingos', ',', 'consumían', 'las', 'tres', 'partes', 'de', 'su', 'hacienda', '.', 'El', 'resto', 'della', 'concluían', 'sayo', 'de', 'velarte', ',', 'calzas', 'de', 'velludo', 'para', 'las', 'fiestas', ',', 'con', 'sus', 'pantuflos', 'de', 'lo', 'mesmo', ',', 'y', 'los', 'días', 'de', 'entresemana', 'se', 'honraba', 'con', 'su', 'vellorí', 'de', 'lo', 'más', 'fino', '.', 'Tenía', 'en', 'su', 'casa', 'una', 'ama', 'que', 'pasaba', 'de', 'los', 'cuarenta', 'y', 'una', 'sobrina', 'que', 'no', 'llegaba', 'a', 'los', 'veinte', ',', 'y', 'un', 'mozo', 'de', 'campo', 'y', 'plaza', 'que', 'así', 'ensillaba', 'el', 'rocín', 'como', 'tomaba', 'la', 'podadera', '.', 'Frisaba', 'la', 'edad', 'de', 'nuestro', 'hidalgo', 'con', 'los', 'cincuenta', 'años', '.', 'Era', 'de', 'complexión', 'recia', ',', 'seco', 'de', 'carnes', ',', 'enjuto', 'de', 'rostro', ',', 'gran', 'madrugador', 'y', 'amigo', 'de', 'la', 'caza', '.', 'Quieren', 'decir', 'que', 'tenía', 'el', 'sobrenombre', 'de', '«', 'Quijada', '»', ',', 'o', '«', 'Quesada', '»', ',', 'que', 'en', 'esto', 'hay', 'alguna', 'diferencia', 'en', 'los', 'autores', 'que', 'deste', 'caso', 'escriben', ',', 'aunque', 'por', 'conjeturas', 'verisímiles', 'se', 'deja', 'entender', 'que', 'se', 'llamaba', '«', 'Quijana', '»', ',', '.', 'Pero', 'esto', 'importa', 'poco', 'a', 'nuestro', 'cuento', ':', 'basta', 'que', 'en', 'la', 'narración', 'dél', 'no', 'se', 'salga', 'un', 'punto', 'de', 'la', 'verdad', '.', 'Es', ',', 'pues', ',', 'de', 'saber', 'que', 'este', 'sobredicho', 'hidalgo', ',', 'los', 'ratos', 'que', 'estaba', 'ocioso', '—que', 'eran', 'los', 'más', 'del', 'año—', ',', 'se', 'daba', 'a', 'leer', 'libros', 'de', 'caballerías', ',', 'con', 'tanta', 'afición', 'y', 'gusto', ',', 'que', 'olvidó', 'casi', 'de', 'todo', 'punto', 'el', 'ejercicio', 'de', 'la', 'caza', 'y', 'aun', 'la', 'administración', 'de', 'su', 'hacienda', ';', 'y', 'llegó', 'a', 'tanto', 'su', 'curiosidad', 'y', 'desatino', 'en', 'esto', ',', 'que', 'vendió', 'muchas', 'hanegas', 'de', 'tierra', 'de', 'sembradura', 'para', 'comprar', 'libros', 'de', 'caballerías', 'en', 'que', 'leer', ',', 'y', ',', 'así', ',', 'llevó', 'a', 'su', 'casa', 'todos', 'cuantos', 'pudo', 'haber', 'dellos', ';', 'y', ',', 'de', 'todos', ',', 'ningunos', 'le', 'parecían', 'tan', 'bien', 'como', 'los', 'que', 'compuso', 'el', 'famoso', 'Feliciano', 'de', 'Silva', ',', 'porque', 'la', 'claridad', 'de', 'su', 'prosa', 'y', 'aquellas', 'entricadas', 'razones', 'suyas', 'le', 'parecían', 'de', 'perlas', ',', 'y', 'más', 'cuando', 'llegaba', 'a', 'leer', 'aquellos', 'requiebros', 'y', 'cartas', 'de', 'desafíos', ',', 'donde', 'en', 'muchas', 'partes', 'hallaba', 'escrito', ':', '«', 'La', 'razón', 'de', 'la', 'sinrazón', 'que', 'a', 'mi', 'razón', 'se', 'hace', ',', 'de', 'tal', 'manera', 'mi', 'razón', 'enflaquece', ',', 'que', 'con', 'razón', 'me', 'quejo', 'de', 'la', 'vuestra', 'fermosura', '»', '.', 'Y', 'también', 'cuando', 'leía', ':', '«', 'Los', 'altos', 'cielos', 'que', 'de', 'vuestra', 'divinidad', 'divinamente', 'con', 'las', 'estrellas', 'os', 'fortifican', 'y', 'os', 'hacen', 'merecedora', 'del', 'merecimiento', 'que', 'merece', 'la', 'vuestra', 'grandeza…', '»', 'Con', 'estas', 'razones', 'perdía', 'el', 'pobre', 'caballero', 'el', 'juicio', ',', 'y', 'desvelábase', 'por', 'entenderlas', 'y', 'desentrañarles', 'el', 'sentido', ',', 'que', 'no', 'se', 'lo', 'sacara', 'ni', 'las', 'entendiera', 'el', 'mesmo', 'Aristóteles', ',', 'si', 'resucitara', 'para', 'solo', 'ello', '.', 'No', 'estaba', 'muy', 'bien', 'con', 'las', 'heridas', 'que', 'don', 'Belianís', 'daba', 'y', 'recebía', ',', 'porque', 'se', 'imaginaba', 'que', ',', 'por', 'grandes', 'maestros', 'que', 'le', 'hubiesen', 'curado', ',', 'no', 'dejaría', 'de', 'tener', 'el', 'rostro', 'y', 'todo', 'el', 'cuerpo', 'lleno', 'de', 'cicatrices', 'y', 'señales', '.', 'Pero', ',', 'con', 'todo', ',', 'alababa', 'en', 'su', 'autor', 'aquel', 'acabar', 'su', 'libro', 'con', 'la', 'promesa', 'de', 'aquella', 'inacabable', 'aventura', ',', 'y', 'muchas', 'veces', 'le', 'vino', 'deseo', 'de', 'tomar', 'la', 'pluma', 'y', 'dalle', 'fin', 'al', 'pie', 'de', 'la', 'letra', 'como', 'allí', 'se', 'promete', ';', 'y', 'sin', 'duda', 'alguna', 'lo', 'hiciera', ',', 'y', 'aun', 'saliera', 'con', 'ello', ',', 'si', 'otros', 'mayores', 'y', 'continuos', 'pensamientos', 'no', 'se', 'lo', 'estorbaran', '.', 'Tuvo', 'muchas', 'veces', 'competencia', 'con', 'el', 'cura', 'de', 'su', 'lugar', '—que', 'era', 'hombre', 'docto', ',', 'graduado', 'en', 'Cigüenza—', 'sobre', 'cuál', 'había', 'sido', 'mejor', 'caballero', ':', 'Palmerín', 'de', 'Ingalaterra', 'o', 'Amadís', 'de', 'Gaula', ';', 'mas', 'maese', 'Nicolás', ',', 'barbero', 'del', 'mesmo', 'pueblo', ',', 'decía', 'que', 'ninguno', 'llegaba', 'al', 'Caballero', 'del', 'Febo', ',', 'y', 'que', 'si', 'alguno', 'se', 'le', 'podía', 'comparar', 'era', 'don', 'Galaor', ',', 'hermano', 'de', 'Amadís', 'de', 'Gaula', ',', 'porque', 'tenía', 'muy', 'acomodada', 'condición', 'para', 'todo', ',', 'que', 'no', 'era', 'caballero', 'melindroso', ',', 'ni', 'tan', 'llorón', 'como', 'su', 'hermano', ',', 'y', 'que', 'en', 'lo', 'de', 'la', 'valentía', 'no', 'le', 'iba', 'en', 'zaga', '.', 'En', 'resolución', ',', 'él', 'se', 'enfrascó', 'tanto', 'en', 'su', 'letura', ',', 'que', 'se', 'le', 'pasaban', 'las', 'noches', 'leyendo', 'de', 'claro', 'en', 'claro', ',', 'y', 'los', 'días', 'de', 'turbio', 'en', 'turbio', ';', 'y', 'así', ',', 'del', 'poco', 'dormir', 'y', 'del', 'mucho', 'leer', ',', 'se', 'le', 'secó', 'el', 'celebro', 'de', 'manera', 'que', 'vino', 'a', 'perder', 'el', 'juicio', '.', 'Llenósele', 'la', 'fantasía', 'de', 'todo', 'aquello', 'que', 'leía', 'en', 'los', 'libros', ',', 'así', 'de', 'encantamentos', 'como', 'de', 'pendencias', ',', 'batallas', ',', 'desafíos', ',', 'heridas', ',', 'requiebros', ',', 'amores', ',', 'tormentas', 'y', 'disparates', 'imposibles', ';', 'y', 'asentósele', 'de', 'tal', 'modo', 'en', 'la', 'imaginación', 'que', 'era', 'verdad', 'toda', 'aquella', 'máquina', 'de', 'aquellas', 'soñadas', 'invenciones', 'que', 'leía', ',', 'que', 'para', 'él', 'no', 'había', 'otra', 'historia', 'más', 'cierta', 'en', 'el', 'mundo', '.', 'Decía', 'él', 'que', 'el', 'Cid', 'Ruy', 'Díaz', 'había', 'sido', 'muy', 'buen', 'caballero', ',', 'pero', 'que', 'no', 'tenía', 'que', 'ver', 'con', 'el', 'Caballero', 'de', 'la', 'Ardiente', 'Espada', ',', 'que', 'de', 'solo', 'un', 'revés', 'había', 'partido', 'por', 'medio', 'dos', 'fieros', 'y', 'descomunales', 'gigantes', '.', 'Mejor', 'estaba', 'con', 'Bernardo', 'del', 'Carpio', ',', 'porque', 'en', 'Roncesvalles', 'había', 'muerto', 'a', 'Roldán', ',', 'el', 'encantado', ',', 'valiéndose', 'de', 'la', 'industria', 'de', 'Hércules', ',', 'cuando', 'ahogó', 'a', 'Anteo', ',', 'el', 'hijo', 'de', 'la', 'Tierra', ',', 'entre', 'los', 'brazos', '.', 'Decía', 'mucho', 'bien', 'del', 'gigante', 'Morgante', ',', 'porque', ',', 'con', 'ser', 'de', 'aquella', 'generación', 'gigantea', ',', 'que', 'todos', 'son', 'soberbios', 'y', 'descomedidos', ',', 'él', 'solo', 'era', 'afable', 'y', 'bien', 'criado', '.', 'Pero', ',', 'sobre', 'todos', ',', 'estaba', 'bien', 'con', 'Reinaldos', 'de', 'Montalbán', ',', 'y', 'más', 'cuando', 'le', 'veía', 'salir', 'de', 'su', 'castillo', 'y', 'robar', 'cuantos', 'topaba', ',', 'y', 'cuando', 'en', 'allende', 'robó', 'aquel', 'ídolo', 'de', 'Mahoma', 'que', 'era', 'todo', 'de', 'oro', ',', 'según', 'dice', 'su', 'historia', '.', 'Diera', 'él', ',', 'por', 'dar', 'una', 'mano', 'de', 'coces', 'al', 'traidor', 'de', 'Galalón', ',', 'al', 'ama', 'que', 'tenía', ',', 'y', 'aun', 'a', 'su', 'sobrina', 'de', 'añadidura', '.']\n"
     ]
    }
   ],
   "source": [
    "# 3. Tokenization\n",
    "print(\"\\n--- Word Tokenization ---\")\n",
    "word_tokenization = nltk.word_tokenize(text, language=\"spanish\")\n",
    "print(word_tokenization)  \n"
   ]
  },
  {
   "cell_type": "markdown",
   "metadata": {},
   "source": [
    "For the next exercise, I will use [the example provided in the documentation](https://www.nltk.org/howto/stem.html#sample-usage-for-stem). \n",
    "\n",
    "In the part of \"Unit Test for Snowball Stemmer\", it is provided a code where the languages supported are shown. As spanish is one of them, instead of using the `Porter Stemmer` of `S04_2_explanation.ipynb`, I´ll use the `SnowBall Stemmer`:\n"
   ]
  },
  {
   "cell_type": "code",
   "execution_count": 26,
   "metadata": {},
   "outputs": [
    {
     "name": "stdout",
     "output_type": "stream",
     "text": [
      "arabic danish dutch english finnish french german hungarian italian norwegian porter portuguese romanian russian spanish swedish\n"
     ]
    }
   ],
   "source": [
    "from nltk.stem.snowball import SnowballStemmer\n",
    "\n",
    "print(\" \".join(SnowballStemmer.languages))"
   ]
  },
  {
   "cell_type": "code",
   "execution_count": null,
   "metadata": {},
   "outputs": [],
   "source": [
    "# 4. Stemming\n",
    "stemmer = SnowballStemmer(\"spanish\")\n",
    "stemmed_words = [stemmer.stem(word) for word in word_tokenization]\n",
    "\n",
    "print(\"\\n--- Stemming the text ---\")\n",
    "print(stemmed_words)"
   ]
  }
 ],
 "metadata": {
  "kernelspec": {
   "display_name": "aprendizaje_env",
   "language": "python",
   "name": "python3"
  },
  "language_info": {
   "codemirror_mode": {
    "name": "ipython",
    "version": 3
   },
   "file_extension": ".py",
   "mimetype": "text/x-python",
   "name": "python",
   "nbconvert_exporter": "python",
   "pygments_lexer": "ipython3",
   "version": "3.10.8"
  }
 },
 "nbformat": 4,
 "nbformat_minor": 2
}
