{
 "cells": [
  {
   "cell_type": "markdown",
   "metadata": {},
   "source": [
    "# Exercise after class\n",
    "\n",
    "The goal of this exercise is to explore the NLTK library using the manual or online tutorials (avoid AI usage). First, create one (or more) texts in spanish (just copy paste it somewhere). The use the NLTK library of pure Python to performe at least this action to the text(s). \n",
    "\n",
    "1. Case folding\n",
    "2. Word normalization\n",
    "3. Tokenization\n",
    "4. Stemming\n",
    "5. Lemmatization\n",
    "6. Sentence segmentation\n",
    "7. PoS Tagging\n",
    "8. Named Entity Recognition (NER)\n",
    "\n",
    "Just try to explore and understand the library. Check in the reference book and NLTK manual for the new concepts."
   ]
  },
  {
   "cell_type": "code",
   "execution_count": 41,
   "metadata": {},
   "outputs": [],
   "source": [
    "import nltk"
   ]
  },
  {
   "cell_type": "code",
   "execution_count": 42,
   "metadata": {},
   "outputs": [],
   "source": [
    "\n",
    "text = \"\"\"\n",
    "Don Quijote de la Mancha\n",
    "Capítulo primero\n",
    "\n",
    "Que trata de la condición y ejercicio del famoso y valiente hidalgo don Quijote de la Mancha\n",
    "\n",
    "En un lugar de la Mancha, de cuyo nombre no quiero acordarme, no ha mucho tiempo que vivía un hidalgo de los de lanza en astillero, adarga antigua, rocín flaco y galgo corredor. Una olla de algo más vaca que carnero, salpicón las más noches, duelos y quebrantos los sábados, lantejas los viernes, algún palomino de añadidura los domingos, consumían las tres partes de su hacienda.\n",
    "El resto della concluían sayo de velarte, calzas de velludo para las fiestas, con sus pantuflos de lo mesmo, y los días de entresemana se honraba con su vellorí de lo más fino.\n",
    "\n",
    "Tenía en su casa una ama que pasaba de los cuarenta y una sobrina que no llegaba a los veinte, y un mozo de campo y plaza que así ensillaba el rocín como tomaba la podadera.\n",
    "Frisaba la edad de nuestro hidalgo con los cincuenta años.\n",
    "Era de complexión recia, seco de carnes, enjuto de rostro, gran madrugador y amigo de la caza.\n",
    "Quieren decir que tenía el sobrenombre de «Quijada», o «Quesada», que en esto hay alguna diferencia en los autores que deste caso escriben, aunque por conjeturas verisímiles se deja entender que se llamaba «Quijana»,. Pero esto importa poco a nuestro cuento: basta que en la narración dél no se salga un punto de la verdad.\n",
    "\n",
    "Es, pues, de saber que este sobredicho hidalgo, los ratos que estaba ocioso —que eran los más del año—, se daba a leer libros de caballerías, con tanta afición y gusto, que olvidó casi de todo punto el ejercicio de la caza y aun la administración de su hacienda; y llegó a tanto su curiosidad y desatino en esto, que vendió muchas hanegas de tierra de sembradura para comprar libros de caballerías en que leer, y, así, llevó a su casa todos cuantos pudo haber dellos; y, de todos, ningunos le parecían tan bien como los que compuso el famoso Feliciano de Silva, porque la claridad de su prosa y aquellas entricadas razones suyas le parecían de perlas, y más cuando llegaba a leer aquellos requiebros y cartas de desafíos, donde en muchas partes hallaba escrito:\n",
    "«La razón de la sinrazón que a mi razón se hace, de tal manera mi razón enflaquece, que con razón me quejo de la vuestra fermosura».\n",
    "Y también cuando leía:\n",
    "«Los altos cielos que de vuestra divinidad divinamente con las estrellas os fortifican y os hacen merecedora del merecimiento que merece la vuestra grandeza…»\n",
    "\n",
    "Con estas razones perdía el pobre caballero el juicio, y desvelábase por entenderlas y desentrañarles el sentido, que no se lo sacara ni las entendiera el mesmo Aristóteles, si resucitara para solo ello. No estaba muy bien con las heridas que don Belianís daba y recebía, porque se imaginaba que, por grandes maestros que le hubiesen curado, no dejaría de tener el rostro y todo el cuerpo lleno de cicatrices y señales.\n",
    "Pero, con todo, alababa en su autor aquel acabar su libro con la promesa de aquella inacabable aventura, y muchas veces le vino deseo de tomar la pluma y dalle fin al pie de la letra como allí se promete; y sin duda alguna lo hiciera, y aun saliera con ello, si otros mayores y continuos pensamientos no se lo estorbaran.\n",
    "Tuvo muchas veces competencia con el cura de su lugar —que era hombre docto, graduado en Cigüenza— sobre cuál había sido mejor caballero: Palmerín de Ingalaterra o Amadís de Gaula; mas maese Nicolás, barbero del mesmo pueblo, decía que ninguno llegaba al Caballero del Febo, y que si alguno se le podía comparar era don Galaor, hermano de Amadís de Gaula, porque tenía muy acomodada condición para todo, que no era caballero melindroso, ni tan llorón como su hermano, y que en lo de la valentía no le iba en zaga.\n",
    "\n",
    "En resolución, él se enfrascó tanto en su letura, que se le pasaban las noches leyendo de claro en claro, y los días de turbio en turbio; y así, del poco dormir y del mucho leer, se le secó el celebro de manera que vino a perder el juicio.\n",
    "\n",
    "Llenósele la fantasía de todo aquello que leía en los libros, así de encantamentos como de pendencias, batallas, desafíos, heridas, requiebros, amores, tormentas y disparates imposibles; y asentósele de tal modo en la imaginación que era verdad toda aquella máquina de aquellas soñadas invenciones que leía, que para él no había otra historia más cierta en el mundo.\n",
    "\n",
    "Decía él que el Cid Ruy Díaz había sido muy buen caballero, pero que no tenía que ver con el Caballero de la Ardiente Espada, que de solo un revés había partido por medio dos fieros y descomunales gigantes.\n",
    "\n",
    "Mejor estaba con Bernardo del Carpio, porque en Roncesvalles había muerto a Roldán, el encantado, valiéndose de la industria de Hércules, cuando ahogó a Anteo, el hijo de la Tierra, entre los brazos.\n",
    "\n",
    "Decía mucho bien del gigante Morgante, porque, con ser de aquella generación gigantea, que todos son soberbios y descomedidos, él solo era afable y bien criado.\n",
    "\n",
    "Pero, sobre todos, estaba bien con Reinaldos de Montalbán, y más cuando le veía salir de su castillo y robar cuantos topaba, y cuando en allende robó aquel ídolo de Mahoma que era todo de oro, según dice su historia.\n",
    "\n",
    "Diera él, por dar una mano de coces al traidor de Galalón, al ama que tenía, y aun a su sobrina de añadidura.\"\"\""
   ]
  },
  {
   "cell_type": "code",
   "execution_count": 43,
   "metadata": {},
   "outputs": [],
   "source": [
    "# Save this text from Don Quijote´s first chapter to a txt file\n",
    "with open(\"don_quijote.txt\", \"w\", encoding=\"utf-8\") as f:\n",
    "    f.write(text)"
   ]
  },
  {
   "cell_type": "code",
   "execution_count": 44,
   "metadata": {},
   "outputs": [
    {
     "name": "stdout",
     "output_type": "stream",
     "text": [
      "\n",
      " --- Case Folding ---\n",
      "\n",
      "don quijote de la mancha\n",
      "capítulo primero\n",
      "\n",
      "que trata de la condición y ejercicio del famoso y valiente hidalgo don quijote de la mancha\n",
      "\n",
      "en un lugar de la mancha, de cuyo nombre no quiero acordarme, no ha mucho tiempo que vivía un hidalgo de los de lanza en astillero, adarga antigua, rocín flaco y galgo corredor. una olla de algo más vaca que carnero, salpicón las más noches, duelos y quebrantos los sábados, lantejas los viernes, algún palomino de añadidura los domingos, consumían las tres partes de su hacienda.\n",
      "el resto della concluían sayo de velarte, calzas de velludo para las fiestas, con sus pantuflos de lo mesmo, y los días de entresemana se honraba con su vellorí de lo más fino.\n",
      "\n",
      "tenía en su casa una ama que pasaba de los cuarenta y una sobrina que no llegaba a los veinte, y un mozo de campo y plaza que así ensillaba el rocín como tomaba la podadera.\n",
      "frisaba la edad de nuestro hidalgo con los cincuenta años.\n",
      "era de complexión recia, seco de carnes, enjuto de rostro, gran madrugador y amigo de la caza.\n",
      "quieren decir que tenía el sobrenombre de «quijada», o «quesada», que en esto hay alguna diferencia en los autores que deste caso escriben, aunque por conjeturas verisímiles se deja entender que se llamaba «quijana»,. pero esto importa poco a nuestro cuento: basta que en la narración dél no se salga un punto de la verdad.\n",
      "\n",
      "es, pues, de saber que este sobredicho hidalgo, los ratos que estaba ocioso —que eran los más del año—, se daba a leer libros de caballerías, con tanta afición y gusto, que olvidó casi de todo punto el ejercicio de la caza y aun la administración de su hacienda; y llegó a tanto su curiosidad y desatino en esto, que vendió muchas hanegas de tierra de sembradura para comprar libros de caballerías en que leer, y, así, llevó a su casa todos cuantos pudo haber dellos; y, de todos, ningunos le parecían tan bien como los que compuso el famoso feliciano de silva, porque la claridad de su prosa y aquellas entricadas razones suyas le parecían de perlas, y más cuando llegaba a leer aquellos requiebros y cartas de desafíos, donde en muchas partes hallaba escrito:\n",
      "«la razón de la sinrazón que a mi razón se hace, de tal manera mi razón enflaquece, que con razón me quejo de la vuestra fermosura».\n",
      "y también cuando leía:\n",
      "«los altos cielos que de vuestra divinidad divinamente con las estrellas os fortifican y os hacen merecedora del merecimiento que merece la vuestra grandeza…»\n",
      "\n",
      "con estas razones perdía el pobre caballero el juicio, y desvelábase por entenderlas y desentrañarles el sentido, que no se lo sacara ni las entendiera el mesmo aristóteles, si resucitara para solo ello. no estaba muy bien con las heridas que don belianís daba y recebía, porque se imaginaba que, por grandes maestros que le hubiesen curado, no dejaría de tener el rostro y todo el cuerpo lleno de cicatrices y señales.\n",
      "pero, con todo, alababa en su autor aquel acabar su libro con la promesa de aquella inacabable aventura, y muchas veces le vino deseo de tomar la pluma y dalle fin al pie de la letra como allí se promete; y sin duda alguna lo hiciera, y aun saliera con ello, si otros mayores y continuos pensamientos no se lo estorbaran.\n",
      "tuvo muchas veces competencia con el cura de su lugar —que era hombre docto, graduado en cigüenza— sobre cuál había sido mejor caballero: palmerín de ingalaterra o amadís de gaula; mas maese nicolás, barbero del mesmo pueblo, decía que ninguno llegaba al caballero del febo, y que si alguno se le podía comparar era don galaor, hermano de amadís de gaula, porque tenía muy acomodada condición para todo, que no era caballero melindroso, ni tan llorón como su hermano, y que en lo de la valentía no le iba en zaga.\n",
      "\n",
      "en resolución, él se enfrascó tanto en su letura, que se le pasaban las noches leyendo de claro en claro, y los días de turbio en turbio; y así, del poco dormir y del mucho leer, se le secó el celebro de manera que vino a perder el juicio.\n",
      "\n",
      "llenósele la fantasía de todo aquello que leía en los libros, así de encantamentos como de pendencias, batallas, desafíos, heridas, requiebros, amores, tormentas y disparates imposibles; y asentósele de tal modo en la imaginación que era verdad toda aquella máquina de aquellas soñadas invenciones que leía, que para él no había otra historia más cierta en el mundo.\n",
      "\n",
      "decía él que el cid ruy díaz había sido muy buen caballero, pero que no tenía que ver con el caballero de la ardiente espada, que de solo un revés había partido por medio dos fieros y descomunales gigantes.\n",
      "\n",
      "mejor estaba con bernardo del carpio, porque en roncesvalles había muerto a roldán, el encantado, valiéndose de la industria de hércules, cuando ahogó a anteo, el hijo de la tierra, entre los brazos.\n",
      "\n",
      "decía mucho bien del gigante morgante, porque, con ser de aquella generación gigantea, que todos son soberbios y descomedidos, él solo era afable y bien criado.\n",
      "\n",
      "pero, sobre todos, estaba bien con reinaldos de montalbán, y más cuando le veía salir de su castillo y robar cuantos topaba, y cuando en allende robó aquel ídolo de mahoma que era todo de oro, según dice su historia.\n",
      "\n",
      "diera él, por dar una mano de coces al traidor de galalón, al ama que tenía, y aun a su sobrina de añadidura.\n"
     ]
    }
   ],
   "source": [
    "# 1. Case Folding \n",
    "print(\"\\n --- Case Folding ---\")\n",
    "text_folded = text.lower()\n",
    "print(text_folded)\n"
   ]
  },
  {
   "cell_type": "code",
   "execution_count": 45,
   "metadata": {},
   "outputs": [],
   "source": [
    "# 2. Normalization "
   ]
  },
  {
   "cell_type": "markdown",
   "metadata": {},
   "source": [
    "#### Tokenization\n",
    "\n",
    "For tokenizing I´ll use the [nltk.tokenize.word_tokenize](https://www.nltk.org/api/nltk.tokenize.word_tokenize.html) method, following the documentation.\n",
    "\n",
    "This method has 3 parameters:\n",
    "1. `text` as a string, this is, the text to split into words.\n",
    "2. `language` as a string, as the model name with the language we will tokenize.\n",
    "3. `preserve_line` as a bool, as a flag to decide whether to sentence tokenize or not. This flag may be useful for the exercise of sentence segmentation."
   ]
  },
  {
   "cell_type": "code",
   "execution_count": 46,
   "metadata": {},
   "outputs": [
    {
     "name": "stdout",
     "output_type": "stream",
     "text": [
      "\n",
      "--- Word Tokenization ---\n",
      "['Don', 'Quijote', 'de', 'la', 'Mancha', 'Capítulo', 'primero', 'Que', 'trata', 'de', 'la', 'condición', 'y', 'ejercicio', 'del', 'famoso', 'y', 'valiente', 'hidalgo', 'don', 'Quijote', 'de', 'la', 'Mancha', 'En', 'un', 'lugar', 'de', 'la', 'Mancha', ',', 'de', 'cuyo', 'nombre', 'no', 'quiero', 'acordarme', ',', 'no', 'ha', 'mucho', 'tiempo', 'que', 'vivía', 'un', 'hidalgo', 'de', 'los', 'de', 'lanza', 'en', 'astillero', ',', 'adarga', 'antigua', ',', 'rocín', 'flaco', 'y', 'galgo', 'corredor', '.', 'Una', 'olla', 'de', 'algo', 'más', 'vaca', 'que', 'carnero', ',', 'salpicón', 'las', 'más', 'noches', ',', 'duelos', 'y', 'quebrantos', 'los', 'sábados', ',', 'lantejas', 'los', 'viernes', ',', 'algún', 'palomino', 'de', 'añadidura', 'los', 'domingos', ',', 'consumían', 'las', 'tres', 'partes', 'de', 'su', 'hacienda', '.', 'El', 'resto', 'della', 'concluían', 'sayo', 'de', 'velarte', ',', 'calzas', 'de', 'velludo', 'para', 'las', 'fiestas', ',', 'con', 'sus', 'pantuflos', 'de', 'lo', 'mesmo', ',', 'y', 'los', 'días', 'de', 'entresemana', 'se', 'honraba', 'con', 'su', 'vellorí', 'de', 'lo', 'más', 'fino', '.', 'Tenía', 'en', 'su', 'casa', 'una', 'ama', 'que', 'pasaba', 'de', 'los', 'cuarenta', 'y', 'una', 'sobrina', 'que', 'no', 'llegaba', 'a', 'los', 'veinte', ',', 'y', 'un', 'mozo', 'de', 'campo', 'y', 'plaza', 'que', 'así', 'ensillaba', 'el', 'rocín', 'como', 'tomaba', 'la', 'podadera', '.', 'Frisaba', 'la', 'edad', 'de', 'nuestro', 'hidalgo', 'con', 'los', 'cincuenta', 'años', '.', 'Era', 'de', 'complexión', 'recia', ',', 'seco', 'de', 'carnes', ',', 'enjuto', 'de', 'rostro', ',', 'gran', 'madrugador', 'y', 'amigo', 'de', 'la', 'caza', '.', 'Quieren', 'decir', 'que', 'tenía', 'el', 'sobrenombre', 'de', '«', 'Quijada', '»', ',', 'o', '«', 'Quesada', '»', ',', 'que', 'en', 'esto', 'hay', 'alguna', 'diferencia', 'en', 'los', 'autores', 'que', 'deste', 'caso', 'escriben', ',', 'aunque', 'por', 'conjeturas', 'verisímiles', 'se', 'deja', 'entender', 'que', 'se', 'llamaba', '«', 'Quijana', '»', ',', '.', 'Pero', 'esto', 'importa', 'poco', 'a', 'nuestro', 'cuento', ':', 'basta', 'que', 'en', 'la', 'narración', 'dél', 'no', 'se', 'salga', 'un', 'punto', 'de', 'la', 'verdad', '.', 'Es', ',', 'pues', ',', 'de', 'saber', 'que', 'este', 'sobredicho', 'hidalgo', ',', 'los', 'ratos', 'que', 'estaba', 'ocioso', '—que', 'eran', 'los', 'más', 'del', 'año—', ',', 'se', 'daba', 'a', 'leer', 'libros', 'de', 'caballerías', ',', 'con', 'tanta', 'afición', 'y', 'gusto', ',', 'que', 'olvidó', 'casi', 'de', 'todo', 'punto', 'el', 'ejercicio', 'de', 'la', 'caza', 'y', 'aun', 'la', 'administración', 'de', 'su', 'hacienda', ';', 'y', 'llegó', 'a', 'tanto', 'su', 'curiosidad', 'y', 'desatino', 'en', 'esto', ',', 'que', 'vendió', 'muchas', 'hanegas', 'de', 'tierra', 'de', 'sembradura', 'para', 'comprar', 'libros', 'de', 'caballerías', 'en', 'que', 'leer', ',', 'y', ',', 'así', ',', 'llevó', 'a', 'su', 'casa', 'todos', 'cuantos', 'pudo', 'haber', 'dellos', ';', 'y', ',', 'de', 'todos', ',', 'ningunos', 'le', 'parecían', 'tan', 'bien', 'como', 'los', 'que', 'compuso', 'el', 'famoso', 'Feliciano', 'de', 'Silva', ',', 'porque', 'la', 'claridad', 'de', 'su', 'prosa', 'y', 'aquellas', 'entricadas', 'razones', 'suyas', 'le', 'parecían', 'de', 'perlas', ',', 'y', 'más', 'cuando', 'llegaba', 'a', 'leer', 'aquellos', 'requiebros', 'y', 'cartas', 'de', 'desafíos', ',', 'donde', 'en', 'muchas', 'partes', 'hallaba', 'escrito', ':', '«', 'La', 'razón', 'de', 'la', 'sinrazón', 'que', 'a', 'mi', 'razón', 'se', 'hace', ',', 'de', 'tal', 'manera', 'mi', 'razón', 'enflaquece', ',', 'que', 'con', 'razón', 'me', 'quejo', 'de', 'la', 'vuestra', 'fermosura', '»', '.', 'Y', 'también', 'cuando', 'leía', ':', '«', 'Los', 'altos', 'cielos', 'que', 'de', 'vuestra', 'divinidad', 'divinamente', 'con', 'las', 'estrellas', 'os', 'fortifican', 'y', 'os', 'hacen', 'merecedora', 'del', 'merecimiento', 'que', 'merece', 'la', 'vuestra', 'grandeza…', '»', 'Con', 'estas', 'razones', 'perdía', 'el', 'pobre', 'caballero', 'el', 'juicio', ',', 'y', 'desvelábase', 'por', 'entenderlas', 'y', 'desentrañarles', 'el', 'sentido', ',', 'que', 'no', 'se', 'lo', 'sacara', 'ni', 'las', 'entendiera', 'el', 'mesmo', 'Aristóteles', ',', 'si', 'resucitara', 'para', 'solo', 'ello', '.', 'No', 'estaba', 'muy', 'bien', 'con', 'las', 'heridas', 'que', 'don', 'Belianís', 'daba', 'y', 'recebía', ',', 'porque', 'se', 'imaginaba', 'que', ',', 'por', 'grandes', 'maestros', 'que', 'le', 'hubiesen', 'curado', ',', 'no', 'dejaría', 'de', 'tener', 'el', 'rostro', 'y', 'todo', 'el', 'cuerpo', 'lleno', 'de', 'cicatrices', 'y', 'señales', '.', 'Pero', ',', 'con', 'todo', ',', 'alababa', 'en', 'su', 'autor', 'aquel', 'acabar', 'su', 'libro', 'con', 'la', 'promesa', 'de', 'aquella', 'inacabable', 'aventura', ',', 'y', 'muchas', 'veces', 'le', 'vino', 'deseo', 'de', 'tomar', 'la', 'pluma', 'y', 'dalle', 'fin', 'al', 'pie', 'de', 'la', 'letra', 'como', 'allí', 'se', 'promete', ';', 'y', 'sin', 'duda', 'alguna', 'lo', 'hiciera', ',', 'y', 'aun', 'saliera', 'con', 'ello', ',', 'si', 'otros', 'mayores', 'y', 'continuos', 'pensamientos', 'no', 'se', 'lo', 'estorbaran', '.', 'Tuvo', 'muchas', 'veces', 'competencia', 'con', 'el', 'cura', 'de', 'su', 'lugar', '—que', 'era', 'hombre', 'docto', ',', 'graduado', 'en', 'Cigüenza—', 'sobre', 'cuál', 'había', 'sido', 'mejor', 'caballero', ':', 'Palmerín', 'de', 'Ingalaterra', 'o', 'Amadís', 'de', 'Gaula', ';', 'mas', 'maese', 'Nicolás', ',', 'barbero', 'del', 'mesmo', 'pueblo', ',', 'decía', 'que', 'ninguno', 'llegaba', 'al', 'Caballero', 'del', 'Febo', ',', 'y', 'que', 'si', 'alguno', 'se', 'le', 'podía', 'comparar', 'era', 'don', 'Galaor', ',', 'hermano', 'de', 'Amadís', 'de', 'Gaula', ',', 'porque', 'tenía', 'muy', 'acomodada', 'condición', 'para', 'todo', ',', 'que', 'no', 'era', 'caballero', 'melindroso', ',', 'ni', 'tan', 'llorón', 'como', 'su', 'hermano', ',', 'y', 'que', 'en', 'lo', 'de', 'la', 'valentía', 'no', 'le', 'iba', 'en', 'zaga', '.', 'En', 'resolución', ',', 'él', 'se', 'enfrascó', 'tanto', 'en', 'su', 'letura', ',', 'que', 'se', 'le', 'pasaban', 'las', 'noches', 'leyendo', 'de', 'claro', 'en', 'claro', ',', 'y', 'los', 'días', 'de', 'turbio', 'en', 'turbio', ';', 'y', 'así', ',', 'del', 'poco', 'dormir', 'y', 'del', 'mucho', 'leer', ',', 'se', 'le', 'secó', 'el', 'celebro', 'de', 'manera', 'que', 'vino', 'a', 'perder', 'el', 'juicio', '.', 'Llenósele', 'la', 'fantasía', 'de', 'todo', 'aquello', 'que', 'leía', 'en', 'los', 'libros', ',', 'así', 'de', 'encantamentos', 'como', 'de', 'pendencias', ',', 'batallas', ',', 'desafíos', ',', 'heridas', ',', 'requiebros', ',', 'amores', ',', 'tormentas', 'y', 'disparates', 'imposibles', ';', 'y', 'asentósele', 'de', 'tal', 'modo', 'en', 'la', 'imaginación', 'que', 'era', 'verdad', 'toda', 'aquella', 'máquina', 'de', 'aquellas', 'soñadas', 'invenciones', 'que', 'leía', ',', 'que', 'para', 'él', 'no', 'había', 'otra', 'historia', 'más', 'cierta', 'en', 'el', 'mundo', '.', 'Decía', 'él', 'que', 'el', 'Cid', 'Ruy', 'Díaz', 'había', 'sido', 'muy', 'buen', 'caballero', ',', 'pero', 'que', 'no', 'tenía', 'que', 'ver', 'con', 'el', 'Caballero', 'de', 'la', 'Ardiente', 'Espada', ',', 'que', 'de', 'solo', 'un', 'revés', 'había', 'partido', 'por', 'medio', 'dos', 'fieros', 'y', 'descomunales', 'gigantes', '.', 'Mejor', 'estaba', 'con', 'Bernardo', 'del', 'Carpio', ',', 'porque', 'en', 'Roncesvalles', 'había', 'muerto', 'a', 'Roldán', ',', 'el', 'encantado', ',', 'valiéndose', 'de', 'la', 'industria', 'de', 'Hércules', ',', 'cuando', 'ahogó', 'a', 'Anteo', ',', 'el', 'hijo', 'de', 'la', 'Tierra', ',', 'entre', 'los', 'brazos', '.', 'Decía', 'mucho', 'bien', 'del', 'gigante', 'Morgante', ',', 'porque', ',', 'con', 'ser', 'de', 'aquella', 'generación', 'gigantea', ',', 'que', 'todos', 'son', 'soberbios', 'y', 'descomedidos', ',', 'él', 'solo', 'era', 'afable', 'y', 'bien', 'criado', '.', 'Pero', ',', 'sobre', 'todos', ',', 'estaba', 'bien', 'con', 'Reinaldos', 'de', 'Montalbán', ',', 'y', 'más', 'cuando', 'le', 'veía', 'salir', 'de', 'su', 'castillo', 'y', 'robar', 'cuantos', 'topaba', ',', 'y', 'cuando', 'en', 'allende', 'robó', 'aquel', 'ídolo', 'de', 'Mahoma', 'que', 'era', 'todo', 'de', 'oro', ',', 'según', 'dice', 'su', 'historia', '.', 'Diera', 'él', ',', 'por', 'dar', 'una', 'mano', 'de', 'coces', 'al', 'traidor', 'de', 'Galalón', ',', 'al', 'ama', 'que', 'tenía', ',', 'y', 'aun', 'a', 'su', 'sobrina', 'de', 'añadidura', '.']\n"
     ]
    }
   ],
   "source": [
    "# 3. Tokenization\n",
    "print(\"\\n--- Word Tokenization ---\")\n",
    "word_tokenization = nltk.word_tokenize(text, language=\"spanish\")\n",
    "print(word_tokenization)  \n"
   ]
  },
  {
   "cell_type": "markdown",
   "metadata": {},
   "source": [
    "For the next exercise, I will use [the example provided in the documentation](https://www.nltk.org/howto/stem.html#sample-usage-for-stem). \n",
    "\n",
    "In the part of \"Unit Test for Snowball Stemmer\", it is provided a code where the languages supported are shown. As spanish is one of them, instead of using the `Porter Stemmer` of `S04_2_explanation.ipynb`, I´ll use the `SnowBall Stemmer`:\n"
   ]
  },
  {
   "cell_type": "code",
   "execution_count": 47,
   "metadata": {},
   "outputs": [
    {
     "name": "stdout",
     "output_type": "stream",
     "text": [
      "arabic danish dutch english finnish french german hungarian italian norwegian porter portuguese romanian russian spanish swedish\n"
     ]
    }
   ],
   "source": [
    "from nltk.stem.snowball import SnowballStemmer\n",
    "\n",
    "print(\" \".join(SnowballStemmer.languages))"
   ]
  },
  {
   "cell_type": "code",
   "execution_count": 48,
   "metadata": {},
   "outputs": [
    {
     "name": "stdout",
     "output_type": "stream",
     "text": [
      "\n",
      "--- Stemming the text ---\n",
      "['don', 'quijot', 'de', 'la', 'manch', 'capitul', 'primer', 'que', 'trat', 'de', 'la', 'condicion', 'y', 'ejercici', 'del', 'famos', 'y', 'valient', 'hidalg', 'don', 'quijot', 'de', 'la', 'manch', 'en', 'un', 'lug', 'de', 'la', 'manch', ',', 'de', 'cuy', 'nombr', 'no', 'quier', 'acord', ',', 'no', 'ha', 'much', 'tiemp', 'que', 'viv', 'un', 'hidalg', 'de', 'los', 'de', 'lanz', 'en', 'astiller', ',', 'adarg', 'antigu', ',', 'rocin', 'flac', 'y', 'galg', 'corredor', '.', 'una', 'olla', 'de', 'algo', 'mas', 'vac', 'que', 'carner', ',', 'salpicon', 'las', 'mas', 'noch', ',', 'duel', 'y', 'quebrant', 'los', 'sab', ',', 'lantej', 'los', 'viern', ',', 'algun', 'palomin', 'de', 'añadidur', 'los', 'doming', ',', 'consum', 'las', 'tres', 'part', 'de', 'su', 'haciend', '.', 'el', 'rest', 'dell', 'conclu', 'say', 'de', 'velart', ',', 'calz', 'de', 'vellud', 'par', 'las', 'fiest', ',', 'con', 'sus', 'pantufl', 'de', 'lo', 'mesm', ',', 'y', 'los', 'dias', 'de', 'entreseman', 'se', 'honr', 'con', 'su', 'vellor', 'de', 'lo', 'mas', 'fin', '.', 'ten', 'en', 'su', 'cas', 'una', 'ama', 'que', 'pas', 'de', 'los', 'cuarent', 'y', 'una', 'sobrin', 'que', 'no', 'lleg', 'a', 'los', 'veint', ',', 'y', 'un', 'moz', 'de', 'camp', 'y', 'plaz', 'que', 'asi', 'ensill', 'el', 'rocin', 'com', 'tom', 'la', 'podader', '.', 'fris', 'la', 'edad', 'de', 'nuestr', 'hidalg', 'con', 'los', 'cincuent', 'años', '.', 'era', 'de', 'complexion', 'reci', ',', 'sec', 'de', 'carn', ',', 'enjut', 'de', 'rostr', ',', 'gran', 'madrug', 'y', 'amig', 'de', 'la', 'caz', '.', 'quier', 'dec', 'que', 'ten', 'el', 'sobrenombr', 'de', '«', 'quij', '»', ',', 'o', '«', 'ques', '»', ',', 'que', 'en', 'esto', 'hay', 'algun', 'diferent', 'en', 'los', 'autor', 'que', 'dest', 'cas', 'escrib', ',', 'aunqu', 'por', 'conjetur', 'verisimil', 'se', 'dej', 'entend', 'que', 'se', 'llam', '«', 'quijan', '»', ',', '.', 'per', 'esto', 'import', 'poc', 'a', 'nuestr', 'cuent', ':', 'bast', 'que', 'en', 'la', 'narracion', 'del', 'no', 'se', 'salg', 'un', 'punt', 'de', 'la', 'verd', '.', 'es', ',', 'pues', ',', 'de', 'sab', 'que', 'este', 'sobredich', 'hidalg', ',', 'los', 'rat', 'que', 'estab', 'ocios', '—qu', 'eran', 'los', 'mas', 'del', 'año—', ',', 'se', 'dab', 'a', 'leer', 'libr', 'de', 'caball', ',', 'con', 'tant', 'aficion', 'y', 'gust', ',', 'que', 'olvid', 'casi', 'de', 'tod', 'punt', 'el', 'ejercici', 'de', 'la', 'caz', 'y', 'aun', 'la', 'administr', 'de', 'su', 'haciend', ';', 'y', 'lleg', 'a', 'tant', 'su', 'curi', 'y', 'desatin', 'en', 'esto', ',', 'que', 'vend', 'much', 'haneg', 'de', 'tierr', 'de', 'sembradur', 'par', 'compr', 'libr', 'de', 'caball', 'en', 'que', 'leer', ',', 'y', ',', 'asi', ',', 'llev', 'a', 'su', 'cas', 'tod', 'cuant', 'pud', 'hab', 'dell', ';', 'y', ',', 'de', 'tod', ',', 'ningun', 'le', 'parec', 'tan', 'bien', 'com', 'los', 'que', 'compus', 'el', 'famos', 'felician', 'de', 'silv', ',', 'porqu', 'la', 'clarid', 'de', 'su', 'pros', 'y', 'aquell', 'entric', 'razon', 'suy', 'le', 'parec', 'de', 'perl', ',', 'y', 'mas', 'cuand', 'lleg', 'a', 'leer', 'aquell', 'requiebr', 'y', 'cart', 'de', 'desafi', ',', 'dond', 'en', 'much', 'part', 'hall', 'escrit', ':', '«', 'la', 'razon', 'de', 'la', 'sinrazon', 'que', 'a', 'mi', 'razon', 'se', 'hac', ',', 'de', 'tal', 'maner', 'mi', 'razon', 'enflaquec', ',', 'que', 'con', 'razon', 'me', 'quej', 'de', 'la', 'vuestr', 'fermosur', '»', '.', 'y', 'tambien', 'cuand', 'lei', ':', '«', 'los', 'altos', 'ciel', 'que', 'de', 'vuestr', 'divin', 'divin', 'con', 'las', 'estrell', 'os', 'fortific', 'y', 'os', 'hac', 'merecedor', 'del', 'merec', 'que', 'merec', 'la', 'vuestr', 'grandeza…', '»', 'con', 'estas', 'razon', 'perd', 'el', 'pobr', 'caballer', 'el', 'juici', ',', 'y', 'desvelab', 'por', 'entend', 'y', 'desentrañ', 'el', 'sent', ',', 'que', 'no', 'se', 'lo', 'sac', 'ni', 'las', 'entend', 'el', 'mesm', 'aristotel', ',', 'si', 'resucit', 'par', 'sol', 'ello', '.', 'no', 'estab', 'muy', 'bien', 'con', 'las', 'her', 'que', 'don', 'belian', 'dab', 'y', 'receb', ',', 'porqu', 'se', 'imagin', 'que', ',', 'por', 'grand', 'maestr', 'que', 'le', 'hub', 'cur', ',', 'no', 'dej', 'de', 'ten', 'el', 'rostr', 'y', 'tod', 'el', 'cuerp', 'llen', 'de', 'cicatric', 'y', 'señal', '.', 'per', ',', 'con', 'tod', ',', 'alab', 'en', 'su', 'autor', 'aquel', 'acab', 'su', 'libr', 'con', 'la', 'promes', 'de', 'aquell', 'inacab', 'aventur', ',', 'y', 'much', 'vec', 'le', 'vin', 'dese', 'de', 'tom', 'la', 'plum', 'y', 'dall', 'fin', 'al', 'pie', 'de', 'la', 'letr', 'com', 'alli', 'se', 'promet', ';', 'y', 'sin', 'dud', 'algun', 'lo', 'hic', ',', 'y', 'aun', 'sal', 'con', 'ello', ',', 'si', 'otros', 'mayor', 'y', 'continu', 'pensamient', 'no', 'se', 'lo', 'estorb', '.', 'tuv', 'much', 'vec', 'competent', 'con', 'el', 'cur', 'de', 'su', 'lug', '—qu', 'era', 'hombr', 'doct', ',', 'gradu', 'en', 'cigüenza—', 'sobr', 'cual', 'hab', 'sid', 'mejor', 'caballer', ':', 'palmerin', 'de', 'ingalaterr', 'o', 'amad', 'de', 'gaul', ';', 'mas', 'maes', 'nicolas', ',', 'barber', 'del', 'mesm', 'puebl', ',', 'dec', 'que', 'ningun', 'lleg', 'al', 'caballer', 'del', 'feb', ',', 'y', 'que', 'si', 'algun', 'se', 'le', 'pod', 'compar', 'era', 'don', 'galaor', ',', 'herman', 'de', 'amad', 'de', 'gaul', ',', 'porqu', 'ten', 'muy', 'acomod', 'condicion', 'par', 'tod', ',', 'que', 'no', 'era', 'caballer', 'melindr', ',', 'ni', 'tan', 'lloron', 'com', 'su', 'herman', ',', 'y', 'que', 'en', 'lo', 'de', 'la', 'valent', 'no', 'le', 'iba', 'en', 'zag', '.', 'en', 'resolu', ',', 'el', 'se', 'enfrasc', 'tant', 'en', 'su', 'letur', ',', 'que', 'se', 'le', 'pas', 'las', 'noch', 'leyend', 'de', 'clar', 'en', 'clar', ',', 'y', 'los', 'dias', 'de', 'turbi', 'en', 'turbi', ';', 'y', 'asi', ',', 'del', 'poc', 'dorm', 'y', 'del', 'much', 'leer', ',', 'se', 'le', 'sec', 'el', 'celebr', 'de', 'maner', 'que', 'vin', 'a', 'perd', 'el', 'juici', '.', 'llenosel', 'la', 'fantas', 'de', 'tod', 'aquell', 'que', 'lei', 'en', 'los', 'libr', ',', 'asi', 'de', 'encantament', 'com', 'de', 'pendenci', ',', 'batall', ',', 'desafi', ',', 'her', ',', 'requiebr', ',', 'amor', ',', 'torment', 'y', 'disparat', 'impos', ';', 'y', 'asentosel', 'de', 'tal', 'mod', 'en', 'la', 'imagin', 'que', 'era', 'verd', 'tod', 'aquell', 'maquin', 'de', 'aquell', 'soñ', 'invencion', 'que', 'lei', ',', 'que', 'par', 'el', 'no', 'hab', 'otra', 'histori', 'mas', 'ciert', 'en', 'el', 'mund', '.', 'dec', 'el', 'que', 'el', 'cid', 'ruy', 'diaz', 'hab', 'sid', 'muy', 'buen', 'caballer', ',', 'per', 'que', 'no', 'ten', 'que', 'ver', 'con', 'el', 'caballer', 'de', 'la', 'ardient', 'espad', ',', 'que', 'de', 'sol', 'un', 'reves', 'hab', 'part', 'por', 'medi', 'dos', 'fier', 'y', 'descomunal', 'gigant', '.', 'mejor', 'estab', 'con', 'bernard', 'del', 'carpi', ',', 'porqu', 'en', 'roncesvall', 'hab', 'muert', 'a', 'roldan', ',', 'el', 'encant', ',', 'val', 'de', 'la', 'industri', 'de', 'hercul', ',', 'cuand', 'ahog', 'a', 'ante', ',', 'el', 'hij', 'de', 'la', 'tierr', ',', 'entre', 'los', 'braz', '.', 'dec', 'much', 'bien', 'del', 'gigant', 'morgant', ',', 'porqu', ',', 'con', 'ser', 'de', 'aquell', 'gener', 'gigante', ',', 'que', 'tod', 'son', 'soberbi', 'y', 'descomed', ',', 'el', 'sol', 'era', 'afabl', 'y', 'bien', 'cri', '.', 'per', ',', 'sobr', 'tod', ',', 'estab', 'bien', 'con', 'reinald', 'de', 'montalban', ',', 'y', 'mas', 'cuand', 'le', 'vei', 'sal', 'de', 'su', 'castill', 'y', 'rob', 'cuant', 'top', ',', 'y', 'cuand', 'en', 'allend', 'rob', 'aquel', 'idol', 'de', 'mahom', 'que', 'era', 'tod', 'de', 'oro', ',', 'segun', 'dic', 'su', 'histori', '.', 'dier', 'el', ',', 'por', 'dar', 'una', 'man', 'de', 'coc', 'al', 'traidor', 'de', 'galalon', ',', 'al', 'ama', 'que', 'ten', ',', 'y', 'aun', 'a', 'su', 'sobrin', 'de', 'añadidur', '.']\n"
     ]
    }
   ],
   "source": [
    "# 4. Stemming\n",
    "stemmer = SnowballStemmer(\"spanish\")\n",
    "stemmed_words = [stemmer.stem(word) for word in word_tokenization]\n",
    "\n",
    "print(\"\\n--- Stemming the text ---\")\n",
    "print(stemmed_words)"
   ]
  },
  {
   "cell_type": "markdown",
   "metadata": {},
   "source": [
    "For the next exercise, I´ll use a [WordNetLemmatizer instance](https://www.nltk.org/api/nltk.stem.wordnet.html).\n",
    "\n",
    "This object has a method call `lemmatize`, that accepts a `pos` parameter with the next options:\n",
    "1. n for nouns.\n",
    "2. v for verbs.\n",
    "3. a for adjectives.\n",
    "4. r for adverbs.\n",
    "5. s for satellite adjectives.\n",
    "\n",
    "To have the next as lemmatized as possible, I´ll try to lemmatize the different parts of the next for each one of the first 4 possible arguments."
   ]
  },
  {
   "cell_type": "code",
   "execution_count": 49,
   "metadata": {},
   "outputs": [
    {
     "name": "stdout",
     "output_type": "stream",
     "text": [
      "\n",
      "--- Lemmatized Text ---\n",
      "['Don', 'Quijote', 'de', 'la', 'Mancha', 'Capítulo', 'primero', 'Que', 'trata', 'de', 'la', 'condición', 'y', 'ejercicio', 'del', 'famoso', 'y', 'valiente', 'hidalgo', 'don', 'Quijote', 'de', 'la', 'Mancha', 'En', 'un', 'lugar', 'de', 'la', 'Mancha', ',', 'de', 'cuyo', 'nombre', 'no', 'quiero', 'acordarme', ',', 'no', 'ha', 'mucho', 'tiempo', 'que', 'vivía', 'un', 'hidalgo', 'de', 'los', 'de', 'lanza', 'en', 'astillero', ',', 'adarga', 'antigua', ',', 'rocín', 'flaco', 'y', 'galgo', 'corredor', '.', 'Una', 'olla', 'de', 'algo', 'más', 'vaca', 'que', 'carnero', ',', 'salpicón', 'la', 'más', 'noches', ',', 'duelos', 'y', 'quebrantos', 'los', 'sábados', ',', 'lantejas', 'los', 'viernes', ',', 'algún', 'palomino', 'de', 'añadidura', 'los', 'domingo', ',', 'consumían', 'la', 'tres', 'part', 'de', 'su', 'hacienda', '.', 'El', 'resto', 'della', 'concluían', 'sayo', 'de', 'velarte', ',', 'calzas', 'de', 'velludo', 'para', 'la', 'fiesta', ',', 'con', 'sus', 'pantuflos', 'de', 'lo', 'mesmo', ',', 'y', 'los', 'días', 'de', 'entresemana', 'se', 'honraba', 'con', 'su', 'vellorí', 'de', 'lo', 'más', 'fino', '.', 'Tenía', 'en', 'su', 'casa', 'una', 'ama', 'que', 'pasaba', 'de', 'los', 'cuarenta', 'y', 'una', 'sobrina', 'que', 'no', 'llegaba', 'a', 'los', 'veinte', ',', 'y', 'un', 'mozo', 'de', 'campo', 'y', 'plaza', 'que', 'así', 'ensillaba', 'el', 'rocín', 'como', 'tomaba', 'la', 'podadera', '.', 'Frisaba', 'la', 'edad', 'de', 'nuestro', 'hidalgo', 'con', 'los', 'cincuenta', 'años', '.', 'Era', 'de', 'complexión', 'recia', ',', 'seco', 'de', 'carnes', ',', 'enjuto', 'de', 'rostro', ',', 'gran', 'madrugador', 'y', 'amigo', 'de', 'la', 'caza', '.', 'Quieren', 'decir', 'que', 'tenía', 'el', 'sobrenombre', 'de', '«', 'Quijada', '»', ',', 'o', '«', 'Quesada', '»', ',', 'que', 'en', 'esto', 'hay', 'alguna', 'diferencia', 'en', 'los', 'autores', 'que', 'deste', 'caso', 'escriben', ',', 'aunque', 'por', 'conjeturas', 'verisímiles', 'se', 'deja', 'entender', 'que', 'se', 'llamaba', '«', 'Quijana', '»', ',', '.', 'Pero', 'esto', 'importa', 'poco', 'a', 'nuestro', 'cuento', ':', 'basta', 'que', 'en', 'la', 'narración', 'dél', 'no', 'se', 'salga', 'un', 'punto', 'de', 'la', 'verdad', '.', 'Es', ',', 'pues', ',', 'de', 'saber', 'que', 'este', 'sobredicho', 'hidalgo', ',', 'los', 'ratos', 'que', 'estaba', 'ocioso', '—que', 'eran', 'los', 'más', 'del', 'año—', ',', 'se', 'daba', 'a', 'leer', 'libros', 'de', 'caballerías', ',', 'con', 'tanta', 'afición', 'y', 'gusto', ',', 'que', 'olvidó', 'casi', 'de', 'todo', 'punto', 'el', 'ejercicio', 'de', 'la', 'caza', 'y', 'aun', 'la', 'administración', 'de', 'su', 'hacienda', ';', 'y', 'llegó', 'a', 'tanto', 'su', 'curiosidad', 'y', 'desatino', 'en', 'esto', ',', 'que', 'vendió', 'muchas', 'hanegas', 'de', 'tierra', 'de', 'sembradura', 'para', 'comprar', 'libros', 'de', 'caballerías', 'en', 'que', 'leer', ',', 'y', ',', 'así', ',', 'llevó', 'a', 'su', 'casa', 'todos', 'cuantos', 'pudo', 'haber', 'dellos', ';', 'y', ',', 'de', 'todos', ',', 'ningunos', 'le', 'parecían', 'tan', 'bien', 'como', 'los', 'que', 'compuso', 'el', 'famoso', 'Feliciano', 'de', 'Silva', ',', 'porque', 'la', 'claridad', 'de', 'su', 'prosa', 'y', 'aquellas', 'entricadas', 'razones', 'suyas', 'le', 'parecían', 'de', 'perlas', ',', 'y', 'más', 'cuando', 'llegaba', 'a', 'leer', 'aquellos', 'requiebros', 'y', 'cartas', 'de', 'desafíos', ',', 'donde', 'en', 'muchas', 'part', 'hallaba', 'escrito', ':', '«', 'La', 'razón', 'de', 'la', 'sinrazón', 'que', 'a', 'mi', 'razón', 'se', 'hace', ',', 'de', 'tal', 'manera', 'mi', 'razón', 'enflaquece', ',', 'que', 'con', 'razón', 'me', 'quejo', 'de', 'la', 'vuestra', 'fermosura', '»', '.', 'Y', 'también', 'cuando', 'leía', ':', '«', 'Los', 'alto', 'cielos', 'que', 'de', 'vuestra', 'divinidad', 'divinamente', 'con', 'la', 'estrellas', 'o', 'fortifican', 'y', 'o', 'hacen', 'merecedora', 'del', 'merecimiento', 'que', 'merece', 'la', 'vuestra', 'grandeza…', '»', 'Con', 'estas', 'razones', 'perdía', 'el', 'pobre', 'caballero', 'el', 'juicio', ',', 'y', 'desvelábase', 'por', 'entenderlas', 'y', 'desentrañarles', 'el', 'sentido', ',', 'que', 'no', 'se', 'lo', 'sacara', 'ni', 'la', 'entendiera', 'el', 'mesmo', 'Aristóteles', ',', 'si', 'resucitara', 'para', 'solo', 'ello', '.', 'No', 'estaba', 'muy', 'bien', 'con', 'la', 'heridas', 'que', 'don', 'Belianís', 'daba', 'y', 'recebía', ',', 'porque', 'se', 'imaginaba', 'que', ',', 'por', 'grandes', 'maestro', 'que', 'le', 'hubiesen', 'curado', ',', 'no', 'dejaría', 'de', 'ten', 'el', 'rostro', 'y', 'todo', 'el', 'cuerpo', 'lleno', 'de', 'cicatrix', 'y', 'señales', '.', 'Pero', ',', 'con', 'todo', ',', 'alababa', 'en', 'su', 'autor', 'aquel', 'acabar', 'su', 'libro', 'con', 'la', 'promesa', 'de', 'aquella', 'inacabable', 'aventura', ',', 'y', 'muchas', 'veces', 'le', 'vino', 'deseo', 'de', 'tomar', 'la', 'pluma', 'y', 'dalle', 'fin', 'al', 'pie', 'de', 'la', 'letra', 'como', 'allí', 'se', 'promete', ';', 'y', 'sin', 'duda', 'alguna', 'lo', 'hiciera', ',', 'y', 'aun', 'saliera', 'con', 'ello', ',', 'si', 'otros', 'mayores', 'y', 'continuo', 'pensamientos', 'no', 'se', 'lo', 'estorbaran', '.', 'Tuvo', 'muchas', 'veces', 'competencia', 'con', 'el', 'cura', 'de', 'su', 'lugar', '—que', 'era', 'hombre', 'docto', ',', 'graduado', 'en', 'Cigüenza—', 'sobre', 'cuál', 'había', 'sido', 'mejor', 'caballero', ':', 'Palmerín', 'de', 'Ingalaterra', 'o', 'Amadís', 'de', 'Gaula', ';', 'ma', 'maese', 'Nicolás', ',', 'barbero', 'del', 'mesmo', 'pueblo', ',', 'decía', 'que', 'ninguno', 'llegaba', 'al', 'Caballero', 'del', 'Febo', ',', 'y', 'que', 'si', 'alguno', 'se', 'le', 'podía', 'comparar', 'era', 'don', 'Galaor', ',', 'hermano', 'de', 'Amadís', 'de', 'Gaula', ',', 'porque', 'tenía', 'muy', 'acomodada', 'condición', 'para', 'todo', ',', 'que', 'no', 'era', 'caballero', 'melindroso', ',', 'ni', 'tan', 'llorón', 'como', 'su', 'hermano', ',', 'y', 'que', 'en', 'lo', 'de', 'la', 'valentía', 'no', 'le', 'iba', 'en', 'zaga', '.', 'En', 'resolución', ',', 'él', 'se', 'enfrascó', 'tanto', 'en', 'su', 'letura', ',', 'que', 'se', 'le', 'pasaban', 'la', 'noches', 'leyendo', 'de', 'claro', 'en', 'claro', ',', 'y', 'los', 'días', 'de', 'turbio', 'en', 'turbio', ';', 'y', 'así', ',', 'del', 'poco', 'dormir', 'y', 'del', 'mucho', 'leer', ',', 'se', 'le', 'secó', 'el', 'celebro', 'de', 'manera', 'que', 'vino', 'a', 'perder', 'el', 'juicio', '.', 'Llenósele', 'la', 'fantasía', 'de', 'todo', 'aquello', 'que', 'leía', 'en', 'los', 'libros', ',', 'así', 'de', 'encantamentos', 'como', 'de', 'pendencias', ',', 'batallas', ',', 'desafíos', ',', 'heridas', ',', 'requiebros', ',', 'amores', ',', 'tormentas', 'y', 'disparates', 'imposibles', ';', 'y', 'asentósele', 'de', 'tal', 'modo', 'en', 'la', 'imaginación', 'que', 'era', 'verdad', 'toda', 'aquella', 'máquina', 'de', 'aquellas', 'soñadas', 'invenciones', 'que', 'leía', ',', 'que', 'para', 'él', 'no', 'había', 'otra', 'historia', 'más', 'cierta', 'en', 'el', 'mundo', '.', 'Decía', 'él', 'que', 'el', 'Cid', 'Ruy', 'Díaz', 'había', 'sido', 'muy', 'buen', 'caballero', ',', 'pero', 'que', 'no', 'tenía', 'que', 'v', 'con', 'el', 'Caballero', 'de', 'la', 'Ardiente', 'Espada', ',', 'que', 'de', 'solo', 'un', 'revés', 'había', 'partido', 'por', 'medio', 'do', 'fieros', 'y', 'descomunales', 'gigantes', '.', 'Mejor', 'estaba', 'con', 'Bernardo', 'del', 'Carpio', ',', 'porque', 'en', 'Roncesvalles', 'había', 'muerto', 'a', 'Roldán', ',', 'el', 'encantado', ',', 'valiéndose', 'de', 'la', 'industria', 'de', 'Hércules', ',', 'cuando', 'ahogó', 'a', 'Anteo', ',', 'el', 'hijo', 'de', 'la', 'Tierra', ',', 'entre', 'los', 'brazos', '.', 'Decía', 'mucho', 'bien', 'del', 'gigante', 'Morgante', ',', 'porque', ',', 'con', 'ser', 'de', 'aquella', 'generación', 'gigantea', ',', 'que', 'todos', 'son', 'soberbios', 'y', 'descomedidos', ',', 'él', 'solo', 'era', 'afable', 'y', 'bien', 'criado', '.', 'Pero', ',', 'sobre', 'todos', ',', 'estaba', 'bien', 'con', 'Reinaldos', 'de', 'Montalbán', ',', 'y', 'más', 'cuando', 'le', 'veía', 'salir', 'de', 'su', 'castillo', 'y', 'robar', 'cuantos', 'topaba', ',', 'y', 'cuando', 'en', 'allende', 'robó', 'aquel', 'ídolo', 'de', 'Mahoma', 'que', 'era', 'todo', 'de', 'oro', ',', 'según', 'dice', 'su', 'historia', '.', 'Diera', 'él', ',', 'por', 'dar', 'una', 'mano', 'de', 'coces', 'al', 'traidor', 'de', 'Galalón', ',', 'al', 'ama', 'que', 'tenía', ',', 'y', 'aun', 'a', 'su', 'sobrina', 'de', 'añadidura', '.']\n"
     ]
    }
   ],
   "source": [
    "# 5. Lemmatization \n",
    "from nltk.stem import WordNetLemmatizer\n",
    "lemmatizer = WordNetLemmatizer()\n",
    "\n",
    "pos_tags = ['v', 'n', 'a', 'r']\n",
    "\n",
    "lemma_tokens = []\n",
    "\n",
    "for word in word_tokenization:\n",
    "    # Lematizing for each tag and using the one tag that modifies the original word\n",
    "\n",
    "    # Initialize lemma as the original word\n",
    "    lemma = word\n",
    "    for pos in pos_tags:\n",
    "        candidate = lemmatizer.lemmatize(word, pos=pos)\n",
    "        # If lemmatization is different to the original word, we update the lemma variable\n",
    "        # with the new lemmatized word and exit the for loop with break\n",
    "        if candidate != word:\n",
    "            lemma = candidate\n",
    "            break\n",
    "    lemma_tokens.append(lemma)\n",
    "\n",
    "print(\"\\n--- Lemmatized Text ---\")\n",
    "print(lemma_tokens)"
   ]
  },
  {
   "cell_type": "markdown",
   "metadata": {},
   "source": [
    "As WordNetLemmatizer() is not optimized for Spanish, I found another lemmatizer with Spanish support, called Spacy. In [this repo](https://github.com/pablodms/spacy-spanish-lemmatizer?tab=readme-ov-file), we can see an example of usage for this. "
   ]
  },
  {
   "cell_type": "code",
   "execution_count": null,
   "metadata": {},
   "outputs": [
    {
     "ename": "ValueError",
     "evalue": "[E1041] Expected a string, Doc, or bytes as input, but got: <class 'list'>",
     "output_type": "error",
     "traceback": [
      "\u001b[1;31m---------------------------------------------------------------------------\u001b[0m",
      "\u001b[1;31mValueError\u001b[0m                                Traceback (most recent call last)",
      "Cell \u001b[1;32mIn[50], line 14\u001b[0m\n\u001b[0;32m     11\u001b[0m \u001b[38;5;66;03m# Reemplazar el lematizador por uno de la librería spacy_spanish_lemmatizer\u001b[39;00m\n\u001b[0;32m     12\u001b[0m nlp\u001b[38;5;241m.\u001b[39madd_pipe(\u001b[38;5;124m\"\u001b[39m\u001b[38;5;124mspanish_lemmatizer\u001b[39m\u001b[38;5;124m\"\u001b[39m, last\u001b[38;5;241m=\u001b[39m\u001b[38;5;28;01mTrue\u001b[39;00m)\n\u001b[1;32m---> 14\u001b[0m doc \u001b[38;5;241m=\u001b[39m \u001b[43mnlp\u001b[49m\u001b[43m(\u001b[49m\u001b[43mword_tokenization\u001b[49m\u001b[43m)\u001b[49m\n\u001b[0;32m     16\u001b[0m \u001b[38;5;28;01mfor\u001b[39;00m token \u001b[38;5;129;01min\u001b[39;00m doc:\n\u001b[0;32m     17\u001b[0m     \u001b[38;5;28mprint\u001b[39m(token\u001b[38;5;241m.\u001b[39mtext, token\u001b[38;5;241m.\u001b[39mlemma_)\n",
      "File \u001b[1;32mc:\\Users\\victo\\miniconda3\\envs\\aprendizaje_env\\lib\\site-packages\\spacy\\language.py:1040\u001b[0m, in \u001b[0;36mLanguage.__call__\u001b[1;34m(self, text, disable, component_cfg)\u001b[0m\n\u001b[0;32m   1019\u001b[0m \u001b[38;5;28;01mdef\u001b[39;00m \u001b[38;5;21m__call__\u001b[39m(\n\u001b[0;32m   1020\u001b[0m     \u001b[38;5;28mself\u001b[39m,\n\u001b[0;32m   1021\u001b[0m     text: Union[\u001b[38;5;28mstr\u001b[39m, Doc],\n\u001b[1;32m   (...)\u001b[0m\n\u001b[0;32m   1024\u001b[0m     component_cfg: Optional[Dict[\u001b[38;5;28mstr\u001b[39m, Dict[\u001b[38;5;28mstr\u001b[39m, Any]]] \u001b[38;5;241m=\u001b[39m \u001b[38;5;28;01mNone\u001b[39;00m,\n\u001b[0;32m   1025\u001b[0m ) \u001b[38;5;241m-\u001b[39m\u001b[38;5;241m>\u001b[39m Doc:\n\u001b[0;32m   1026\u001b[0m \u001b[38;5;250m    \u001b[39m\u001b[38;5;124;03m\"\"\"Apply the pipeline to some text. The text can span multiple sentences,\u001b[39;00m\n\u001b[0;32m   1027\u001b[0m \u001b[38;5;124;03m    and can contain arbitrary whitespace. Alignment into the original string\u001b[39;00m\n\u001b[0;32m   1028\u001b[0m \u001b[38;5;124;03m    is preserved.\u001b[39;00m\n\u001b[1;32m   (...)\u001b[0m\n\u001b[0;32m   1038\u001b[0m \u001b[38;5;124;03m    DOCS: https://spacy.io/api/language#call\u001b[39;00m\n\u001b[0;32m   1039\u001b[0m \u001b[38;5;124;03m    \"\"\"\u001b[39;00m\n\u001b[1;32m-> 1040\u001b[0m     doc \u001b[38;5;241m=\u001b[39m \u001b[38;5;28;43mself\u001b[39;49m\u001b[38;5;241;43m.\u001b[39;49m\u001b[43m_ensure_doc\u001b[49m\u001b[43m(\u001b[49m\u001b[43mtext\u001b[49m\u001b[43m)\u001b[49m\n\u001b[0;32m   1041\u001b[0m     \u001b[38;5;28;01mif\u001b[39;00m component_cfg \u001b[38;5;129;01mis\u001b[39;00m \u001b[38;5;28;01mNone\u001b[39;00m:\n\u001b[0;32m   1042\u001b[0m         component_cfg \u001b[38;5;241m=\u001b[39m {}\n",
      "File \u001b[1;32mc:\\Users\\victo\\miniconda3\\envs\\aprendizaje_env\\lib\\site-packages\\spacy\\language.py:1134\u001b[0m, in \u001b[0;36mLanguage._ensure_doc\u001b[1;34m(self, doc_like)\u001b[0m\n\u001b[0;32m   1132\u001b[0m \u001b[38;5;28;01mif\u001b[39;00m \u001b[38;5;28misinstance\u001b[39m(doc_like, \u001b[38;5;28mbytes\u001b[39m):\n\u001b[0;32m   1133\u001b[0m     \u001b[38;5;28;01mreturn\u001b[39;00m Doc(\u001b[38;5;28mself\u001b[39m\u001b[38;5;241m.\u001b[39mvocab)\u001b[38;5;241m.\u001b[39mfrom_bytes(doc_like)\n\u001b[1;32m-> 1134\u001b[0m \u001b[38;5;28;01mraise\u001b[39;00m \u001b[38;5;167;01mValueError\u001b[39;00m(Errors\u001b[38;5;241m.\u001b[39mE1041\u001b[38;5;241m.\u001b[39mformat(\u001b[38;5;28mtype\u001b[39m\u001b[38;5;241m=\u001b[39m\u001b[38;5;28mtype\u001b[39m(doc_like)))\n",
      "\u001b[1;31mValueError\u001b[0m: [E1041] Expected a string, Doc, or bytes as input, but got: <class 'list'>"
     ]
    }
   ],
   "source": [
    "import spacy\n",
    "from spacy_spanish_lemmatizer import lemmatizer\n",
    "\n",
    "#python -m spacy download es_core_news_sm\n",
    "\n",
    "\n",
    "# nlp = spacy.load(\"es\") when running, says deprecated and to use the full name instead:\n",
    "# Cargar el modelo de español de spaCy\n",
    "nlp = spacy.load(\"es_core_news_sm\")\n",
    "\n",
    "# Reemplazar el lematizador por uno de la librería spacy_spanish_lemmatizer\n",
    "nlp.add_pipe(\"spanish_lemmatizer\", last=True)\n",
    "\n",
    "# Need to concatenate the text in list of word tokenization before passing it to the nlp\n",
    "\n",
    "text = \"\".join(word_tokenization)\n",
    "\n",
    "doc = nlp(text)\n",
    "\n",
    "for token in doc:\n",
    "    print(token.text, token.lemma_)"
   ]
  }
 ],
 "metadata": {
  "kernelspec": {
   "display_name": "aprendizaje_env",
   "language": "python",
   "name": "python3"
  },
  "language_info": {
   "codemirror_mode": {
    "name": "ipython",
    "version": 3
   },
   "file_extension": ".py",
   "mimetype": "text/x-python",
   "name": "python",
   "nbconvert_exporter": "python",
   "pygments_lexer": "ipython3",
   "version": "3.10.8"
  }
 },
 "nbformat": 4,
 "nbformat_minor": 2
}
