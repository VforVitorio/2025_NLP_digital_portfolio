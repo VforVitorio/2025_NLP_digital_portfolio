{
 "cells": [
  {
   "cell_type": "markdown",
   "metadata": {},
   "source": [
    "# Exercises before\n",
    "\n",
    "Create a corpus with phrases and annotate it with positive or negative. Build a very simple sentiment analysis with regex and use corpus to calculate sentiment (positive or negative). Count how many True Positives (TP), False Positives (FP), True Negatives (TN), and False Negatives (FN) you have. Tweet the corpus or the regexp to have non-zero variables. Make the calculations of Precission, Recall, and F1 following the class materials.   "
   ]
  },
  {
   "cell_type": "code",
   "execution_count": 1,
   "metadata": {},
   "outputs": [],
   "source": [
    "corpus = [\n",
    "    (\"I love this!\", \"positive\"),\n",
    "    (\"This is amazing.\", \"positive\"),\n",
    "    (\"I feel great.\", \"positive\"),\n",
    "    (\"This is terrible.\", \"negative\"),\n",
    "    (\"I hate this.\", \"negative\"),\n",
    "    (\"I am so disappointed.\", \"negative\"),\n",
    "]\n"
   ]
  },
  {
   "cell_type": "code",
   "execution_count": 2,
   "metadata": {},
   "outputs": [],
   "source": [
    "import re\n",
    "\n",
    "def sentiment_analysis(text):\n",
    "    positive_words = r\"(love|amazing|great)\"\n",
    "    negative_words = r\"(terrible|hate|disappointed)\"\n",
    "    \n",
    "    if re.search(positive_words, text, re.IGNORECASE):\n",
    "        return \"positive\"\n",
    "    elif re.search(negative_words, text, re.IGNORECASE):\n",
    "        return \"negative\"\n",
    "    return \"neutral\"\n"
   ]
  },
  {
   "cell_type": "code",
   "execution_count": 3,
   "metadata": {},
   "outputs": [],
   "source": [
    "TP = FP = TN = FN = 0\n",
    "\n",
    "for phrase, true_sentiment in corpus:\n",
    "    predicted_sentiment = sentiment_analysis(phrase)\n",
    "    \n",
    "    if true_sentiment == \"positive\" and predicted_sentiment == \"positive\":\n",
    "        TP += 1\n",
    "    elif true_sentiment == \"positive\" and predicted_sentiment == \"negative\":\n",
    "        FN += 1\n",
    "    elif true_sentiment == \"negative\" and predicted_sentiment == \"negative\":\n",
    "        TN += 1\n",
    "    elif true_sentiment == \"negative\" and predicted_sentiment == \"positive\":\n",
    "        FP += 1\n"
   ]
  },
  {
   "cell_type": "code",
   "execution_count": 5,
   "metadata": {},
   "outputs": [
    {
     "name": "stdout",
     "output_type": "stream",
     "text": [
      "TP: 3, FP: 0, TN: 3, FN: 0\n",
      "Precision: 1.00, Recall: 1.00, F1 Score: 1.00\n"
     ]
    }
   ],
   "source": [
    "precision = TP / (TP + FP) \n",
    "recall = TP / (TP + FN) \n",
    "f1_score = 2 * (precision * recall) / (precision + recall)  \n",
    "\n",
    "print(f\"TP: {TP}, FP: {FP}, TN: {TN}, FN: {FN}\")\n",
    "print(f\"Precision: {precision:.2f}, Recall: {recall:.2f}, F1 Score: {f1_score:.2f}\")\n"
   ]
  }
 ],
 "metadata": {
  "kernelspec": {
   "display_name": "aprendizaje_env",
   "language": "python",
   "name": "python3"
  },
  "language_info": {
   "codemirror_mode": {
    "name": "ipython",
    "version": 3
   },
   "file_extension": ".py",
   "mimetype": "text/x-python",
   "name": "python",
   "nbconvert_exporter": "python",
   "pygments_lexer": "ipython3",
   "version": "3.10.8"
  }
 },
 "nbformat": 4,
 "nbformat_minor": 2
}
