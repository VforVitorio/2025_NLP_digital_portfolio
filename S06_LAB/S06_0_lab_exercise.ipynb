{
 "cells": [
  {
   "cell_type": "markdown",
   "metadata": {},
   "source": [
    "# S06 Lab Exercise \n"
   ]
  },
  {
   "cell_type": "code",
   "execution_count": 16,
   "metadata": {},
   "outputs": [],
   "source": [
    "__author__ = \"Víctor Vega Sobral\""
   ]
  },
  {
   "cell_type": "code",
   "execution_count": 17,
   "metadata": {},
   "outputs": [
    {
     "name": "stderr",
     "output_type": "stream",
     "text": [
      "[nltk_data] Downloading package punkt to\n",
      "[nltk_data]     C:\\Users\\victo\\AppData\\Roaming\\nltk_data...\n",
      "[nltk_data]   Package punkt is already up-to-date!\n"
     ]
    },
    {
     "data": {
      "text/plain": [
       "True"
      ]
     },
     "execution_count": 17,
     "metadata": {},
     "output_type": "execute_result"
    }
   ],
   "source": [
    "import nltk\n",
    "import re\n",
    "nltk.download(\"punkt\")"
   ]
  },
  {
   "cell_type": "code",
   "execution_count": 18,
   "metadata": {},
   "outputs": [
    {
     "name": "stdout",
     "output_type": "stream",
     "text": [
      "-------Sentence Segmentation-------\n",
      "['The president of the U.S.A., Donald Trump, is 1.9m high and 78 years old.', 'Forbes Magazine has assessed his wealth, currently estimating it at $5.5 billion as of mid-February 2025.']\n"
     ]
    }
   ],
   "source": [
    "# For the next text, perform the following actions\n",
    "text = \"The president of the U.S.A., Donald Trump, is 1.9m high and 78 years old. Forbes Magazine has assessed his wealth, currently estimating it at $5.5 billion as of mid-February 2025.\"\n",
    "\n",
    "# (1 point) 1 - Use NLTK to split the sentences \n",
    "\n",
    "print(\"-------Sentence Segmentation-------\")\n",
    "sentence_tokenization = nltk.sent_tokenize(text, language='english')\n",
    "print(sentence_tokenization)\n"
   ]
  },
  {
   "cell_type": "code",
   "execution_count": 40,
   "metadata": {},
   "outputs": [
    {
     "name": "stdout",
     "output_type": "stream",
     "text": [
      "The president of the USA, Donald Trump, is 190 centimeters high and 78 years old.\n",
      "Forbes Magazine has assessed his wealth, currently estimating it at 5 point 5 billion as of mid-February 2025.\n",
      "['The president of the USA, Donald Trump, is 190 centimeters high and 78 years old.', 'Forbes Magazine has assessed his wealth, currently estimating it at 5 point 5 billion as of mid-February 2025.']\n"
     ]
    }
   ],
   "source": [
    "# (2 points) 2 - Convert with regex the acronym U.S.A. to USA, \n",
    "# the number 1.9m to 190 centimeters or any other number of a height like that \n",
    "# (e.g. 1.75m to 175 centimeters), and \"$5.5 billion\" to five point five billion. \n",
    "\n",
    "\n",
    "# ACRONIM\n",
    "# b delimits start and end of word\n",
    "# b capture with parenthesis sequence of upper case with a point, at least one that can be more\n",
    "\n",
    "def remove_dots(regex_match):\n",
    "    # regex_match.group(0) retuns the complete subchain that matches the regex pattern.\n",
    "    # with replace eliminates the points\n",
    "    return regex_match.group(0).replace(\".\", \"\")\n",
    "\n",
    "def convert_meters_to_cm(regex_match):\n",
    "    # we need 1 to not capture the m\n",
    "    meters = float(regex_match.group(1))  # Obtains number in meters using the regex and turns it from str to float\n",
    "    # group 1 for only first capture \n",
    "    centimeters = int(meters * 100)  # Converts to cm without decimals, cm are always integers\n",
    "    return f\"{centimeters} centimeters\"\n",
    "\n",
    "def convert_numbers_to_text(regex_match):\n",
    "    # use 1 for not capturing the dollar and \"billion\"\n",
    "    number = regex_match.group(1)  # Extracts captured number, only the first capture \n",
    "    return f\"{number} billion\".replace(\".\", \" point \")  # Decimals for point\n",
    "\n",
    "\n",
    "# we add a lookahead for  assuring a non alphanumeric or end of the sequence\n",
    "acronim_reg = r\"\\b(?:[A-Z]\\.)+(?=\\W|$)\"\n",
    "\n",
    "\n",
    "meters_to_cm_reg = r\"\\b(\\d+\\.\\d+)m\\b\"\n",
    "# \n",
    "# \\b for lomiting the word.\n",
    "# (\\d+\\.\\d+) captures number with decimals. \n",
    "# m for letter of metes\n",
    "# \\b assures end of word\n",
    "\n",
    "numbers_to_letters = r\"\\$(\\d+\\.\\d+) billion\"\n",
    "\n",
    "#escapes the dollar symbol for not being put as end of word\n",
    "# (\\d+\\.\\d+) captures again the decimals like in the previous regex\n",
    "# assures being in   billion\n",
    "\n",
    "text_cleaned = []\n",
    "for sentence in sentence_tokenization:\n",
    "    sentence = re.sub(acronim_reg, remove_dots, sentence)\n",
    "    sentence = re.sub(meters_to_cm_reg, convert_meters_to_cm, sentence)\n",
    "    sentence = re.sub(numbers_to_letters, convert_numbers_to_text, sentence)\n",
    "    print(sentence)\n",
    "    text_cleaned.append(sentence)\n",
    "\n",
    "print(text_cleaned)"
   ]
  },
  {
   "cell_type": "code",
   "execution_count": null,
   "metadata": {},
   "outputs": [
    {
     "name": "stdout",
     "output_type": "stream",
     "text": [
      "the president of the u.s.a., donald trump, is 1.9m high and 78 years old. forbes magazine has assessed his wealth, currently estimating it at $5.5 billion as of mid-february 2025.\n"
     ]
    }
   ],
   "source": [
    "# (1 point) 3 - Convert to lowercase except the proper nouns that must keep the original case. \n",
    "# For the multiword proper names convert them \n",
    "# o an unique word joining the two word with underscoere (Juan Fernández -> Juan_Fernández).\n",
    "\n",
    "text_lowered = text_cleaned.lower()\n",
    "print(text_lowered)"
   ]
  },
  {
   "cell_type": "code",
   "execution_count": 42,
   "metadata": {},
   "outputs": [
    {
     "name": "stdout",
     "output_type": "stream",
     "text": [
      "\n",
      "--- Word Tokenization ---\n",
      "['The', 'president', 'of', 'the', 'USA', ',', 'Donald', 'Trump', ',', 'is', '190', 'centimeters', 'high', 'and', '78', 'years', 'old', '.', 'Forbes', 'Magazine', 'has', 'assessed', 'his', 'wealth', ',', 'currently', 'estimating', 'it', 'at', '5', 'point', '5', 'billion', 'as', 'of', 'mid-February', '2025', '.']\n"
     ]
    }
   ],
   "source": [
    "# (1 point) 4 - Tokenize the text (use the tool you prefer). \n",
    "print(\"\\n--- Word Tokenization ---\")\n",
    "text_cleaned_string = \" \".join(text_cleaned)\n",
    "word_tokenization = nltk.word_tokenize(text_cleaned_string, language=\"spanish\")\n",
    "print(word_tokenization)  \n"
   ]
  },
  {
   "cell_type": "code",
   "execution_count": 22,
   "metadata": {},
   "outputs": [],
   "source": [
    "# (1 point) 5 - Remove the stopwords (use the tool you prefer). \n",
    "\n"
   ]
  },
  {
   "cell_type": "code",
   "execution_count": 23,
   "metadata": {},
   "outputs": [],
   "source": [
    "# (1 point) 6 - Create bigrams with pure python.\n",
    "\n"
   ]
  },
  {
   "cell_type": "code",
   "execution_count": 24,
   "metadata": {},
   "outputs": [],
   "source": [
    "# (2 point) 7 - Create a language model that predict the next word using bigrams. Please explain in the code how you made the calculations.\n"
   ]
  }
 ],
 "metadata": {
  "kernelspec": {
   "display_name": "aprendizaje_env",
   "language": "python",
   "name": "python3"
  },
  "language_info": {
   "codemirror_mode": {
    "name": "ipython",
    "version": 3
   },
   "file_extension": ".py",
   "mimetype": "text/x-python",
   "name": "python",
   "nbconvert_exporter": "python",
   "pygments_lexer": "ipython3",
   "version": "3.10.8"
  }
 },
 "nbformat": 4,
 "nbformat_minor": 2
}
