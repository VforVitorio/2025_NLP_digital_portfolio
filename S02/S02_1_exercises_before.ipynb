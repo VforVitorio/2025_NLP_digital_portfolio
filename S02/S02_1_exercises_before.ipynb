{
 "cells": [
  {
   "cell_type": "markdown",
   "metadata": {},
   "source": [
    "# Exercises start\n",
    "\n",
    "Please solve this exercises. Do it **WITHOUT ANY AI HELP**."
   ]
  },
  {
   "cell_type": "code",
   "execution_count": 2,
   "metadata": {},
   "outputs": [
    {
     "name": "stdout",
     "output_type": "stream",
     "text": [
      "['cats', 'babies', 'wolves', 'boxes', 'childs', 'mans', 'mouses', 'knives', 'bushes']\n"
     ]
    }
   ],
   "source": [
    "# Exercise 1: Make Plurals\n",
    "# Write a program to generate plural forms of English nouns from a given list of singular nouns.\n",
    "# Simplification rules:\n",
    "# 1. Add 's' to most words (e.g., \"cat\" -> \"cats\").\n",
    "# 2. If the word ends with 'y' and is preceded by a consonant, replace 'y' with 'ies' (e.g., \"baby\" -> \"babies\").\n",
    "# 3. If the word ends with 'f' or 'fe', replace it with 'ves' (e.g., \"wolf\" -> \"wolves\").\n",
    "# 4. Add 'es' to words ending in 's', 'x', 'z', 'ch', or 'sh' (e.g., \"box\" -> \"boxes\").\n",
    "# 5. For irregular nouns, handle exceptions (e.g., \"child\" -> \"children\", \"man\" -> \"men\").\n",
    "\n",
    "nouns = [\"cat\", \"baby\", \"wolf\", \"box\", \"child\", \"man\", \"mouse\", \"knife\", \"bush\"]\n",
    "\n",
    "\n",
    "def make_plurals(nouns):\n",
    "    for i in range(len(nouns)): \n",
    "        # If word ends with y and preceed by consonant replace to \"ies\"\n",
    "        if nouns[i].endswith(\"y\") and nouns[i][-2] not in \"aeiou\":\n",
    "            nouns[i] = nouns[i][:-1] + \"ies\"\n",
    "        # If ends wiht f or fe replace with ves\n",
    "        elif nouns[i].endswith(\"f\"):\n",
    "            nouns[i] = nouns[i][:-1] + \"ves\"\n",
    "        elif nouns[i].endswith(\"fe\"):\n",
    "            nouns[i] = nouns[i][:-2] + \"ves\"\n",
    "        # add es for ending words on s x z ch or sh \n",
    "        elif nouns[i].endswith((\"s\",\"x\", \"z\", \"ch\", \"sh\")):\n",
    "            nouns[i] = nouns[i] + \"es\"\n",
    "        else:\n",
    "            nouns[i] = nouns[i] + \"s\"\n",
    "    return nouns\n",
    "\n",
    "print(make_plurals(nouns))\n"
   ]
  },
  {
   "cell_type": "code",
   "execution_count": 10,
   "metadata": {},
   "outputs": [
    {
     "name": "stdout",
     "output_type": "stream",
     "text": [
      "['support@example.com', 'sales@example.org', 'admin123@example.net']\n"
     ]
    }
   ],
   "source": [
    "# Exercise 2: Extract Email Addresses\n",
    "# Write a Python program to extract all email addresses from the following string.\n",
    "text = \"Please contact us at support@example.com, sales@example.org, or admin123@example.net for assistance.\"\n",
    "\n",
    "\n",
    "# Test of method isalnum\n",
    "# words_list= text.split()\n",
    "# word_alhpha =  [word for word in words_list if word.isalnum()]\n",
    "# print(word_alhpha)\n",
    "\n",
    "def extract_email(text):\n",
    "    words_list = text.split()\n",
    "    emails = []\n",
    "    for word in words_list:\n",
    "\n",
    "        # Eliminate final signs like commas or points\n",
    "        word = word.strip(\".;,:\")\n",
    "        if \"@\" in word and (word.endswith(\".com\") \n",
    "                            or word.endswith(\".org\") \n",
    "                            or word.endswith(\".net\")):\n",
    "            emails.append(word)\n",
    "            \n",
    "    return emails\n",
    "\n",
    "print(extract_email(text))\n"
   ]
  },
  {
   "cell_type": "code",
   "execution_count": 12,
   "metadata": {},
   "outputs": [
    {
     "name": "stdout",
     "output_type": "stream",
     "text": [
      "['#sunset', '#beach!']\n"
     ]
    }
   ],
   "source": [
    "# Exercise 3: Extract Hashtags\n",
    "# From a tweet, extract all valid hashtags.\n",
    "tweet = \"Loving the #sunset at the #beach! But #123abc and ##double are #invalid#tags.\"\n",
    "\n",
    "def extract_hashtags(tweet):\n",
    "    word_list = tweet.split()\n",
    "    hashtags = []\n",
    "    for word in word_list:\n",
    "        if word.startswith(\"#\") and not word.startswith(\"##\"):\n",
    "            word.strip(\",.;:\")\n",
    "            if len(word) > 1:\n",
    "                second_char = word[1]\n",
    "                if second_char.isalpha():\n",
    "                    if word.count(\"#\") == 1:\n",
    "                        hashtags.append(word)\n",
    "    return hashtags\n",
    "\n",
    "print(extract_hashtags(tweet))"
   ]
  }
 ],
 "metadata": {
  "kernelspec": {
   "display_name": "aprendizaje_env",
   "language": "python",
   "name": "python3"
  },
  "language_info": {
   "codemirror_mode": {
    "name": "ipython",
    "version": 3
   },
   "file_extension": ".py",
   "mimetype": "text/x-python",
   "name": "python",
   "nbconvert_exporter": "python",
   "pygments_lexer": "ipython3",
   "version": "3.10.16"
  }
 },
 "nbformat": 4,
 "nbformat_minor": 2
}
