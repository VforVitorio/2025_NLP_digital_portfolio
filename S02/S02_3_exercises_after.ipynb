{
 "cells": [
  {
   "cell_type": "markdown",
   "metadata": {},
   "source": [
    "# Exercises end\n",
    "\n",
    "Please solve this exercises using regular expressions. Do it **WITHOUT ANY AI HELP**."
   ]
  },
  {
   "cell_type": "code",
   "execution_count": 2,
   "metadata": {},
   "outputs": [],
   "source": [
    "import re"
   ]
  },
  {
   "cell_type": "code",
   "execution_count": 3,
   "metadata": {},
   "outputs": [
    {
     "name": "stdout",
     "output_type": "stream",
     "text": [
      "['MY', 'name']\n"
     ]
    }
   ],
   "source": [
    "### Regular Expressions: 20 Exercises (Aligned with the Presentation)\n",
    "\n",
    "text = \"hello123 MY name i2s\"\n",
    "# Exercise 1: Match a word containing only alphabets\n",
    "# Write a regex to match a word that contains only letters (uppercase or lowercase).\n",
    "\n",
    "only_alpha = re.findall(r\"\\b[a-zA-Z]+\\b\", text)\n",
    "\n",
    "print(only_alpha)\n"
   ]
  },
  {
   "cell_type": "code",
   "execution_count": 4,
   "metadata": {},
   "outputs": [
    {
     "name": "stdout",
     "output_type": "stream",
     "text": [
      "['123', '345']\n"
     ]
    }
   ],
   "source": [
    "# Exercise 2: Match a number with exactly 3 digits\n",
    "# Write a regex to match numbers with exactly 3 digits.\n",
    "\n",
    "numbers = \"123456 12 123 345 454664\"\n",
    "\n",
    "only_three_digits = re.findall(r\"\\b\\d{3}\\b\", numbers)\n",
    "\n",
    "print(only_three_digits)"
   ]
  },
  {
   "cell_type": "code",
   "execution_count": 26,
   "metadata": {},
   "outputs": [
    {
     "name": "stdout",
     "output_type": "stream",
     "text": [
      "<re.Match object; span=(6, 15), match='gmail.com'>\n"
     ]
    }
   ],
   "source": [
    "# Exercise 3: Extract the domain from an email\n",
    "# Extract the domain (e.g., \"example.com\") from an email address.\n",
    "\n",
    "example = \"hello@gmail.com\"\n",
    "# \\w+ for every number of chars starting from 1 \n",
    "# \\. escape sequence for finding the '.'\n",
    "# (com) for finding the exact sequence of chars for .com\n",
    "domain = re.search(r\"\\w+\\.(com)\", example)\n",
    "\n",
    "print(domain)\n"
   ]
  },
  {
   "cell_type": "code",
   "execution_count": 6,
   "metadata": {},
   "outputs": [
    {
     "name": "stdout",
     "output_type": "stream",
     "text": [
      "['arm']\n"
     ]
    }
   ],
   "source": [
    "# Exercise 4: Find words starting with 'a'\n",
    "# Match all words that start with the letter 'a' in a given sentence.\n",
    "\n",
    "words = \"hello arm my find\"\n",
    "\n",
    "# \\b for limiting the word\n",
    "# a for finding the letter\n",
    "# \\w for every number of alphanumeric chars after a \n",
    "starting_a = re.findall(r\"\\ba\\w*\",words )\n",
    "\n",
    "print(starting_a)\n"
   ]
  },
  {
   "cell_type": "code",
   "execution_count": 7,
   "metadata": {},
   "outputs": [
    {
     "name": "stdout",
     "output_type": "stream",
     "text": [
      "['(123) 456-7890']\n"
     ]
    }
   ],
   "source": [
    "# Exercise 5: Validate a phone number\n",
    "# Validate phone numbers in the format (123) 456-7890.\n",
    "\n",
    "\n",
    "phone_nums = [\n",
    "    \"(123) 456-7890\",   # correct\n",
    "    \"123-456-7890\",     # not correct\n",
    "]\n",
    "\n",
    "# for working with list, first we add the regex and then we\n",
    "#  add the condition on a list comprehension\n",
    "\n",
    "# \\(\\d{3}\\)  for a set of three digits\n",
    "# \\d{3} again a set of three digits\n",
    "# \\- for finding the exact '-'\n",
    "# \\d{4} set of 4 digits\n",
    "regex = r\"\\(\\d{3}\\) \\d{3}\\-\\d{4}\"\n",
    "\n",
    "valid_nums = [num for num in phone_nums if re.match(regex, num)]\n",
    "\n",
    "print(valid_nums)"
   ]
  },
  {
   "cell_type": "code",
   "execution_count": null,
   "metadata": {},
   "outputs": [
    {
     "name": "stdout",
     "output_type": "stream",
     "text": [
      "['2025-05-21', '2021-15-40']\n",
      "['2025-05-21']\n"
     ]
    }
   ],
   "source": [
    "# Exercise 6: Match dates in the format yyyy-mm-dd\n",
    "# Write a regex to validate dates in the format yyyy-mm-dd.\n",
    "\n",
    "dates = [\n",
    "    \"2025-05-21\",   # correct\n",
    "    \"20-21-22\",     # not correct\n",
    "    \"2021-15-40\"    # not correct\n",
    "]\n",
    "\n",
    "\n",
    "# Simple regex for only the format\n",
    "\n",
    "# d{4} for verifying 4 digits \n",
    "# escape sequence for detecting the '-'\"\n",
    "# d{2} for verifying 2 digits \n",
    "# escape sequence for detecting the '-'\"\n",
    "# d{2} for verifying 2 digits \n",
    "\n",
    "regex = r\"\\d{4}\\-\\d{2}\\-\\d{2}\"\n",
    "\n",
    "\n",
    "####################################################################################\n",
    "##REGEX for validanting also if months are between 01 and 12 and days from 0 to 31##\n",
    "####################################################################################\n",
    "# YEARS:\n",
    "# d{4} for starting with 4 digits, followed by sequence escape for detecting the '-'\n",
    "\n",
    "# Then, we add a validation between the parenthesis for MONTHS:\n",
    "\n",
    "# 0[1-9], for every sequence of chars starting with 0 and then followed by 1 to 9\n",
    "# | for adding an OR \n",
    "# 1[0-2] for every sequence of chars srating with 1 and followed by 0 to 2\n",
    "# Another sequence escape for detecting the '-'\n",
    "\n",
    "# Finally, for DAYS:\n",
    "# 0[1-9], for every sequence of chars starting with 0 and then followed by 1 to 9\n",
    "# | for adding an OR \n",
    "# [12] for verifying the first digit is a 1 or 2, followed by any other digit (verified by \\d)\n",
    "# | for adding an OR \n",
    "# 3[01] for sequence starting from 3 and followed only by a 0 or a 1\n",
    "\n",
    "regex2 = r\"\\d{4}\\-(0[1-9]|1[0-2])\\-(0[1-9]|[12]\\d|3[01])\"\n",
    "\n",
    "\n",
    "# Print out both results for seeing the differences\n",
    "valid_dates= [date for date in dates if re.match(regex, date)]\n",
    "valid_dates2= [date for date in dates if re.match(regex2, date)]\n",
    "\n",
    "print(valid_dates)\n",
    "print(valid_dates2)"
   ]
  },
  {
   "cell_type": "code",
   "execution_count": null,
   "metadata": {},
   "outputs": [
    {
     "name": "stdout",
     "output_type": "stream",
     "text": [
      "['name', 'victor']\n"
     ]
    }
   ],
   "source": [
    "# Exercise 7: Find repeated words\n",
    "# Identify words that appear consecutively (e.g., \"word word\").\n",
    "\n",
    "text = \"hello my name name is victor victor\"\n",
    "\n",
    "# \\b for marking the begining of the word, \n",
    "# ([a-zA-z]) finds a sequence of non-numeric characters, upper and lower case\n",
    "# Capture this pattern with the parenthesis\n",
    "# \\b for marking the end of the word\n",
    "# \\s+ specifies that it must be one or more blank spaces between \n",
    "# two \\b again for marking begining and end of word\n",
    "# \\1 makes reference to the pattern picked by the parenthesis, verifying if the same pattern is followed \n",
    "# after the blank spaces\n",
    "\n",
    "regex_repeated = r\"\\b([a-zA-Z]+)\\b\\s+\\b\\1\\b\"\n",
    "\n",
    "repeated_words = re.findall(regex_repeated,text)\n",
    "\n",
    "print(repeated_words)\n"
   ]
  },
  {
   "cell_type": "code",
   "execution_count": 10,
   "metadata": {},
   "outputs": [],
   "source": [
    "# Exercise 8: Extract hashtags from a tweet\n",
    "# Extract all hashtags from a given tweet.\n",
    "\n"
   ]
  },
  {
   "cell_type": "code",
   "execution_count": 11,
   "metadata": {},
   "outputs": [],
   "source": [
    "# Exercise 9: Validate an IPv4 address\n",
    "# Write a regex to validate an IPv4 address (e.g., 192.168.1.1).\n",
    "\n"
   ]
  },
  {
   "cell_type": "code",
   "execution_count": 12,
   "metadata": {},
   "outputs": [],
   "source": [
    "# Exercise 10: Match floating-point numbers\n",
    "# Write a regex to match floating-point numbers (e.g., 3.14, -2.71).\n",
    "\n"
   ]
  },
  {
   "cell_type": "code",
   "execution_count": 13,
   "metadata": {},
   "outputs": [],
   "source": [
    "# Exercise 11: Validate a strong password\n",
    "# Validate a password with at least 8 characters, including one uppercase, one lowercase, one number, and one special character.\n",
    "\n"
   ]
  },
  {
   "cell_type": "code",
   "execution_count": 14,
   "metadata": {},
   "outputs": [],
   "source": [
    "# Exercise 12: Match a hexadecimal color code\n",
    "# Write a regex to match valid hexadecimal color codes (e.g., #FFFFFF, #abc123).\n",
    "\n"
   ]
  },
  {
   "cell_type": "code",
   "execution_count": 15,
   "metadata": {},
   "outputs": [],
   "source": [
    "# Exercise 13: Extract text inside quotes\n",
    "# Extract text enclosed within double quotation marks.\n"
   ]
  },
  {
   "cell_type": "code",
   "execution_count": 16,
   "metadata": {},
   "outputs": [],
   "source": [
    "\n",
    "# Exercise 14: Match HTML tags\n",
    "# Write a regex to match opening HTML tags (e.g., <div>, <a>, <span>).\n",
    "\n"
   ]
  },
  {
   "cell_type": "code",
   "execution_count": 17,
   "metadata": {},
   "outputs": [],
   "source": [
    "# Exercise 15: Match time in HH:MM 24-hour format\n",
    "# Write a regex to validate time in the 24-hour format (e.g., 23:59).\n",
    "\n"
   ]
  },
  {
   "cell_type": "code",
   "execution_count": 18,
   "metadata": {},
   "outputs": [],
   "source": [
    "# Exercise 16: Extract file extensions\n",
    "# Extract the file extension (e.g., .txt, .png) from a filename.\n"
   ]
  },
  {
   "cell_type": "code",
   "execution_count": 19,
   "metadata": {},
   "outputs": [],
   "source": [
    "\n",
    "# Exercise 17: Validate a URL\n",
    "# Write a regex to validate a URL (e.g., https://www.example.com).\n",
    "\n"
   ]
  },
  {
   "cell_type": "code",
   "execution_count": 20,
   "metadata": {},
   "outputs": [],
   "source": [
    "# Exercise 18: Extract vowels from a sentence\n",
    "# Extract all vowels from a given sentence.\n",
    "\n"
   ]
  },
  {
   "cell_type": "code",
   "execution_count": 21,
   "metadata": {},
   "outputs": [],
   "source": [
    "# Exercise 19: Match binary numbers\n",
    "# Write a regex to match valid binary numbers (e.g., 1010, 111).\n",
    "\n"
   ]
  },
  {
   "cell_type": "code",
   "execution_count": 22,
   "metadata": {},
   "outputs": [],
   "source": [
    "# Exercise 20: Find overlapping patterns\n",
    "# Write a regex to find overlapping occurrences of \"ab\" in a string (e.g., in \"abab\", match both \"ab\"s)."
   ]
  }
 ],
 "metadata": {
  "kernelspec": {
   "display_name": "aprendizaje_env",
   "language": "python",
   "name": "python3"
  },
  "language_info": {
   "codemirror_mode": {
    "name": "ipython",
    "version": 3
   },
   "file_extension": ".py",
   "mimetype": "text/x-python",
   "name": "python",
   "nbconvert_exporter": "python",
   "pygments_lexer": "ipython3",
   "version": "3.10.16"
  }
 },
 "nbformat": 4,
 "nbformat_minor": 2
}
