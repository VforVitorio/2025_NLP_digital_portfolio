{
 "cells": [
  {
   "cell_type": "markdown",
   "metadata": {},
   "source": [
    "# Exercises end\n",
    "\n",
    "Please solve this exercises using regular expressions. Do it **WITHOUT ANY AI HELP**."
   ]
  },
  {
   "cell_type": "code",
   "execution_count": 1,
   "metadata": {},
   "outputs": [],
   "source": [
    "import re"
   ]
  },
  {
   "cell_type": "markdown",
   "metadata": {},
   "source": [
    "#### Regular expressions functions\n",
    "\n",
    "Definitions extracted from [W3Schools Python RegEx][https://www.w3schools.com/python/python_regex.asp]\n",
    "\n",
    "1. **match()**: checks if the pattern is satisfied at the beginning of the text.\n",
    "\n",
    "2. **findalll()**: returns a list containing all matches.\n",
    "\n",
    "3. **search()**: returns a match object if there is a match anywhere in the string.\n",
    "\n"
   ]
  },
  {
   "cell_type": "code",
   "execution_count": 2,
   "metadata": {},
   "outputs": [
    {
     "name": "stdout",
     "output_type": "stream",
     "text": [
      "['MY', 'name']\n"
     ]
    }
   ],
   "source": [
    "### Regular Expressions: 20 Exercises (Aligned with the Presentation)\n",
    "\n",
    "text = \"hello123 MY name i2s\"\n",
    "# Exercise 1: Match a word containing only alphabets\n",
    "# Write a regex to match a word that contains only letters (uppercase or lowercase).\n",
    "\n",
    "only_alpha = re.findall(r\"\\b[a-zA-Z]+\\b\", text)\n",
    "\n",
    "print(only_alpha)\n"
   ]
  },
  {
   "cell_type": "code",
   "execution_count": 3,
   "metadata": {},
   "outputs": [
    {
     "name": "stdout",
     "output_type": "stream",
     "text": [
      "['123', '345']\n"
     ]
    }
   ],
   "source": [
    "# Exercise 2: Match a number with exactly 3 digits\n",
    "# Write a regex to match numbers with exactly 3 digits.\n",
    "\n",
    "numbers = \"123456 12 123 345 454664\"\n",
    "\n",
    "only_three_digits = re.findall(r\"\\b\\d{3}\\b\", numbers)\n",
    "\n",
    "print(only_three_digits)"
   ]
  },
  {
   "cell_type": "code",
   "execution_count": 4,
   "metadata": {},
   "outputs": [
    {
     "name": "stdout",
     "output_type": "stream",
     "text": [
      "<re.Match object; span=(6, 15), match='gmail.com'>\n"
     ]
    }
   ],
   "source": [
    "# Exercise 3: Extract the domain from an email\n",
    "# Extract the domain (e.g., \"example.com\") from an email address.\n",
    "\n",
    "example = \"hello@gmail.com\"\n",
    "# \\w+ for every number of chars starting from 1 \n",
    "# \\. escape sequence for finding the '.'\n",
    "# (com) for finding the exact sequence of chars for .com\n",
    "domain = re.search(r\"\\w+\\.(com)\", example)\n",
    "\n",
    "print(domain)\n"
   ]
  },
  {
   "cell_type": "code",
   "execution_count": 5,
   "metadata": {},
   "outputs": [
    {
     "name": "stdout",
     "output_type": "stream",
     "text": [
      "['arm']\n"
     ]
    }
   ],
   "source": [
    "# Exercise 4: Find words starting with 'a'\n",
    "# Match all words that start with the letter 'a' in a given sentence.\n",
    "\n",
    "words = \"hello arm my find\"\n",
    "\n",
    "# \\b for limiting the word\n",
    "# a for finding the letter\n",
    "# \\w for every number of alphanumeric chars after a \n",
    "starting_a = re.findall(r\"\\ba\\w*\",words )\n",
    "\n",
    "print(starting_a)\n"
   ]
  },
  {
   "cell_type": "code",
   "execution_count": 6,
   "metadata": {},
   "outputs": [
    {
     "name": "stdout",
     "output_type": "stream",
     "text": [
      "['(123) 456-7890']\n"
     ]
    }
   ],
   "source": [
    "# Exercise 5: Validate a phone number\n",
    "# Validate phone numbers in the format (123) 456-7890.\n",
    "\n",
    "\n",
    "phone_nums = [\n",
    "    \"(123) 456-7890\",   # correct\n",
    "    \"123-456-7890\",     # not correct\n",
    "]\n",
    "\n",
    "# for working with list, first we add the regex and then we\n",
    "#  add the condition on a list comprehension\n",
    "\n",
    "# \\(\\d{3}\\)  for a set of three digits\n",
    "# \\d{3} again a set of three digits\n",
    "# \\- for finding the exact '-'\n",
    "# \\d{4} set of 4 digits\n",
    "regex = r\"\\(\\d{3}\\) \\d{3}\\-\\d{4}\"\n",
    "\n",
    "valid_nums = [num for num in phone_nums if re.findall(regex, num)]\n",
    "\n",
    "print(valid_nums)"
   ]
  },
  {
   "cell_type": "code",
   "execution_count": 7,
   "metadata": {},
   "outputs": [
    {
     "name": "stdout",
     "output_type": "stream",
     "text": [
      "['2025-05-21', '2021-15-40']\n",
      "['2025-05-21']\n"
     ]
    }
   ],
   "source": [
    "# Exercise 6: Match dates in the format yyyy-mm-dd\n",
    "# Write a regex to validate dates in the format yyyy-mm-dd.\n",
    "\n",
    "dates = [\n",
    "    \"2025-05-21\",   # correct\n",
    "    \"20-21-22\",     # not correct\n",
    "    \"2021-15-40\"    # not correct\n",
    "]\n",
    "\n",
    "\n",
    "# Simple regex for only the format\n",
    "\n",
    "# d{4} for verifying 4 digits \n",
    "# escape sequence for detecting the '-'\"\n",
    "# d{2} for verifying 2 digits \n",
    "# escape sequence for detecting the '-'\"\n",
    "# d{2} for verifying 2 digits \n",
    "\n",
    "regex = r\"\\d{4}\\-\\d{2}\\-\\d{2}\"\n",
    "\n",
    "\n",
    "####################################################################################\n",
    "##REGEX for validanting also if months are between 01 and 12 and days from 0 to 31##\n",
    "####################################################################################\n",
    "# YEARS:\n",
    "# d{4} for starting with 4 digits, followed by sequence escape for detecting the '-'\n",
    "\n",
    "# Then, we add a validation between the parenthesis for MONTHS:\n",
    "\n",
    "# 0[1-9], for every sequence of chars starting with 0 and then followed by 1 to 9\n",
    "# | for adding an OR \n",
    "# 1[0-2] for every sequence of chars srating with 1 and followed by 0 to 2\n",
    "# Another sequence escape for detecting the '-'\n",
    "\n",
    "# Finally, for DAYS:\n",
    "# 0[1-9], for every sequence of chars starting with 0 and then followed by 1 to 9\n",
    "# | for adding an OR \n",
    "# [12] for verifying the first digit is a 1 or 2, followed by any other digit (verified by \\d)\n",
    "# | for adding an OR \n",
    "# 3[01] for sequence starting from 3 and followed only by a 0 or a 1\n",
    "\n",
    "regex2 = r\"\\d{4}\\-(0[1-9]|1[0-2])\\-(0[1-9]|[12]\\d|3[01])\"\n",
    "\n",
    "\n",
    "# Print out both results for seeing the differences\n",
    "valid_dates= [date for date in dates if re.findall(regex, date)]\n",
    "valid_dates2= [date for date in dates if re.findall(regex2, date)]\n",
    "\n",
    "print(valid_dates)\n",
    "print(valid_dates2)"
   ]
  },
  {
   "cell_type": "code",
   "execution_count": 8,
   "metadata": {},
   "outputs": [
    {
     "name": "stdout",
     "output_type": "stream",
     "text": [
      "['name', 'victor']\n"
     ]
    }
   ],
   "source": [
    "# Exercise 7: Find repeated words\n",
    "# Identify words that appear consecutively (e.g., \"word word\").\n",
    "\n",
    "text = \"hello my name name is victor victor\"\n",
    "\n",
    "# \\b for marking the begining of the word, \n",
    "# ([a-zA-z]) finds a sequence of non-numeric characters, upper and lower case\n",
    "# Capture this pattern with the parenthesis\n",
    "# \\b for marking the end of the word\n",
    "# \\s+ specifies that it must be one or more blank spaces between \n",
    "# two \\b again for marking begining and end of word\n",
    "# \\1 makes reference to the pattern picked by the parenthesis, verifying if the same pattern is followed \n",
    "# after the blank spaces\n",
    "\n",
    "regex_repeated = r\"\\b([a-zA-Z]+)\\b\\s+\\b\\1\\b\"\n",
    "\n",
    "repeated_words = re.findall(regex_repeated,text)\n",
    "\n",
    "print(repeated_words)\n"
   ]
  },
  {
   "cell_type": "code",
   "execution_count": 9,
   "metadata": {},
   "outputs": [
    {
     "name": "stdout",
     "output_type": "stream",
     "text": [
      "['#sunset', '#beach']\n"
     ]
    }
   ],
   "source": [
    "# Exercise 8: Extract hashtags from a tweet\n",
    "# Extract all hashtags from a given tweet.\n",
    "\n",
    "# Using simplified example from S02_1_exercises before\n",
    "# did not find how to not extract the double hastags\n",
    "# '?' should be used\n",
    "tweet = \"Loving the #sunset at the #beach!.\"\n",
    "\n",
    "# #[a-zA-Z] finds any sequence starting with '#' and then followed by any letter, lower or uppercase\n",
    "# \\b marks the end of the word\n",
    "# some improvements can be made to this regex, so it will be asked in class\n",
    "\n",
    "regex_hashtags = r\"#[a-zA-Z]+\\b\"\n",
    "\n",
    "extract_hashtags = re.findall(regex_hashtags, tweet)\n",
    "\n",
    "print(extract_hashtags)\n"
   ]
  },
  {
   "cell_type": "code",
   "execution_count": 10,
   "metadata": {},
   "outputs": [],
   "source": [
    "# Exercise 9: Validate an IPv4 address\n",
    "# Write a regex to validate an IPv4 address (e.g., 192.168.1.1).\n",
    "\n"
   ]
  },
  {
   "cell_type": "code",
   "execution_count": 11,
   "metadata": {},
   "outputs": [
    {
     "name": "stdout",
     "output_type": "stream",
     "text": [
      "[1.2124, 12.5, 12.0, -4.52]\n"
     ]
    }
   ],
   "source": [
    "# Exercise 10: Match floating-point numbers\n",
    "# Write a regex to match floating-point numbers (e.g., 3.14, -2.71).\n",
    "\n",
    "# To find floating numbers, fist we detect a number with possible negative symbol before, \n",
    "# followed by . and finally another sequence of numbers\n",
    "\n",
    "\n",
    "numbers = [\n",
    "    1.2124,\n",
    "    12.5,\n",
    "    12.0,\n",
    "    13,\n",
    "    -4.52,\n",
    "    -84,\n",
    "]\n",
    "\n",
    "# First, we enter \\- for finding the -, followed by a question mark for making this optional\n",
    "# then, we put any digit from 0-9 but with 1 at least, followed by an escape sequence for capturing the '.'\n",
    "# finally, we do the dame, 0-9 digits with 1 at least\n",
    "regex_float = r\"\\-?\\d+\\.\\d+\"\n",
    "\n",
    "\n",
    "# Found an error: re methods expect strings, so I need to convert f_num to a str\n",
    "# I´ll use the str() method\n",
    "extract_floats = [f_num for f_num in numbers if re.findall(regex_float, str(f_num))]\n",
    "\n",
    "print(extract_floats)"
   ]
  },
  {
   "cell_type": "code",
   "execution_count": 12,
   "metadata": {},
   "outputs": [],
   "source": [
    "# Exercise 11: Validate a strong password\n",
    "# Validate a password with at least 8 characters, including one uppercase, one lowercase, one number, and one special character.\n",
    "\n",
    "\n"
   ]
  },
  {
   "cell_type": "code",
   "execution_count": 13,
   "metadata": {},
   "outputs": [
    {
     "name": "stdout",
     "output_type": "stream",
     "text": [
      "['#FFFFFF', '#abc123']\n"
     ]
    }
   ],
   "source": [
    "# Exercise 12: Match a hexadecimal color code\n",
    "# Write a regex to match valid hexadecimal color codes (e.g., #FFFFFF, #abc123).\n",
    "\n",
    "# rules: 6 characters starting with a #, with letters only going from a to f, in upper and lower case\n",
    "\n",
    "hexadecimal_codes = [\n",
    "    \"#FFFFFF\",\n",
    "    \"#abc123\",\n",
    "    \"\",\n",
    "    \"FFFFFF\",\n",
    "    \"123456\"\n",
    "]\n",
    "\n",
    "# The sequence must start with a #\n",
    "# Parenthesis for capturing \n",
    "# [0-9a-fA-F] validates any sequence of chars with digits from 0 to 9, and letters from a to f in lower and upper case\n",
    "# {6} for only a sequence of 6 chars that follows the sequence described between the []\n",
    "regex_hexadecimal = r\"#([0-9a-fA-F]{6})\"\n",
    "\n",
    "extract_hexadecimal = [hexa for hexa in hexadecimal_codes if re.findall(regex_hexadecimal, hexa)]\n",
    "print(extract_hexadecimal)"
   ]
  },
  {
   "cell_type": "code",
   "execution_count": 14,
   "metadata": {},
   "outputs": [
    {
     "name": "stdout",
     "output_type": "stream",
     "text": [
      "['\"hello\"', '\"victor\"']\n"
     ]
    }
   ],
   "source": [
    "# Exercise 13: Extract text inside quotes\n",
    "# Extract text enclosed within double quotation marks.\n",
    "\n",
    "example_text = \"hello \\\"hello\\\" my name is \\\"victor\\\" \\\"hi124\\\"\"\n",
    "#print(example_text)\n",
    "\n",
    "# \\\" marks both of the quotation marks at the begining and end\n",
    "# inside these marks, we put that more than 1 char being a letter, upper or lower case\n",
    "# if we wanted to add digits also, it would be necessary to put:\n",
    "\n",
    "# regex_quotes = r\"\\\"[a-zA-z0-9]+\\\"\"\n",
    "# Therefore, only comment and uncomment to see the different options\n",
    "regex_quotes = r\"\\\"[a-zA-Z]+\\\"\"\n",
    "\n",
    "\n",
    "# previous version regex_quotes = r\"\\b\\\"[a-zA-Z]+\\\"\\b\"\n",
    "# found error: i don´t need the two \\b, the quotation marks already delimit the word\n",
    "\n",
    "extract_quotes = re.findall(regex_quotes, example_text)\n",
    "\n",
    "print(extract_quotes)\n"
   ]
  },
  {
   "cell_type": "code",
   "execution_count": 15,
   "metadata": {},
   "outputs": [
    {
     "data": {
      "text/plain": [
       "['<div>', '<a>', '<span>']"
      ]
     },
     "execution_count": 15,
     "metadata": {},
     "output_type": "execute_result"
    }
   ],
   "source": [
    "# Exercise 14: Match HTML tags\n",
    "# Write a regex to match opening HTML tags (e.g., <div>, <a>, <span>).\n",
    "\n",
    "html_text = \"<div>This is one div</div> <a></a> <span>text</span>\"\n",
    "\n",
    "# \\w+ for capruting any alphanumeric char, at least 1\n",
    "# we put this between the < > symbols \n",
    "regex_html = r\"<\\w+>\"\n",
    "\n",
    "re.findall(regex_html, html_text)"
   ]
  },
  {
   "cell_type": "code",
   "execution_count": 16,
   "metadata": {},
   "outputs": [
    {
     "name": "stdout",
     "output_type": "stream",
     "text": [
      "['05:49', '12:48']\n"
     ]
    }
   ],
   "source": [
    "# Exercise 15: Match time in HH:MM 24-hour format\n",
    "# Write a regex to validate time in the 24-hour format (e.g., 23:59).\n",
    "\n",
    "times = [\n",
    "    \"05:49\", # correct\n",
    "    \"12:48\", # correct\n",
    "    \"24:01\", # not correct \n",
    "    \"00:62\"  # not correct\n",
    "]\n",
    "\n",
    "# ^ for the start of the sequence\n",
    "# ([01][0-9]|2[0-3]) \n",
    "# Hours can be 0 and 1 followed by any number between 0 to 9\n",
    "# OR can start with a 2, and in this case the next number only can be from 0 to 3\n",
    "# \\: for matching the ':'\n",
    "# [0-5][0-9] minutes can start from numbers between 0 and 5 followed by any digit between 0 to 9\n",
    "# $ for the end of the sequence\n",
    "\n",
    "regex_time = r\"^([01][0-9]|2[0-3])\\:[0-5][0-9]$\"\n",
    "\n",
    "\n",
    "extract_time = [time for time in times if re.findall(regex_time, time)]\n",
    "\n",
    "print(extract_time)"
   ]
  },
  {
   "cell_type": "code",
   "execution_count": 17,
   "metadata": {},
   "outputs": [
    {
     "name": "stdout",
     "output_type": "stream",
     "text": [
      "['.png', '.txt']\n"
     ]
    }
   ],
   "source": [
    "# Exercise 16: Extract file extensions\n",
    "# Extract the file extension (e.g., .txt, .png) from a filename.\n",
    "\n",
    "files = \"hi.png hello.txt\"\n",
    "\n",
    "# \\b for the start of the word\n",
    "# \\w+ for any sequence of alphanumerical chars, at least 1 \n",
    "# (\\.txt|\\.png) captures either .png or .txt\n",
    "# for more extensions, just need to add it following this format\n",
    "# | = OR\n",
    "regex_file = r\"\\b\\w+(\\.txt|\\.png)\"\n",
    "extract_extension = re.findall(regex_file, files)\n",
    "\n",
    "print(extract_extension)"
   ]
  },
  {
   "cell_type": "code",
   "execution_count": 18,
   "metadata": {},
   "outputs": [
    {
     "name": "stdout",
     "output_type": "stream",
     "text": [
      "['https://www.hello.com', 'https://hi.com', 'https://www.myexample.net', 'https://aleph012.es']\n"
     ]
    }
   ],
   "source": [
    "# Exercise 17: Validate a URL\n",
    "# Write a regex to validate a URL (e.g., https://www.example.com).\n",
    "\n",
    "\n",
    "# NOTES: \n",
    "\n",
    "# 1\n",
    "# I put as correct domains .com, .net and .es, despite existing a lot more of correct domains\n",
    "# for this exercise, this examples will be enough\n",
    "\n",
    "# 2\n",
    "# I put as only valid urls the ones that use htpps connection. http won´t be recognized\n",
    "# due to being considered insecure nowadays \n",
    "\n",
    "# 3\n",
    "# www won´t be mandatory\n",
    "urls = [\n",
    "    \"https://www.hello.com\",\n",
    "    \"htps://www.hello.com\",\n",
    "    \"https://hi.com\",\n",
    "    \"https://hi\",\n",
    "    \"https://www.myexample.net\",\n",
    "    \"https://aleph012.es\"\n",
    "]\n",
    "\n",
    "\n",
    "# (https) will capture this sequence of chars\n",
    "# \\: for detecting the :\n",
    "# both \\ / are for escaping the slashes of the links (these slashes //)\n",
    "# As www is optional, I capture (www\\.) as optional with a question mark, and add also the \n",
    "# . as optional. If the point isn´t in the parenthesis, the regex won´t recognize any domain\n",
    "# \\w+ for catching any alphanumerical, at least 1 \n",
    "# again I capture de .\n",
    "# (com|net|es) captures the specific sequence of chars, and adds a OR operator for accepting \n",
    "# any domain with this 3. As I mentioned before, more domains exist, therefore they should be \n",
    "# added between the parenthesis (I don´t know if there´s a more efficient way of capturing domains)\n",
    "# \\b marks the end of the sequence with a blank space\n",
    "\n",
    "regex_url = r\"(https)\\:\\/\\/(www\\.)?\\w+\\.(com|net|es)\\b\"\n",
    "\n",
    "extract_url = [url for url in urls if re.findall(regex_url, url)]\n",
    "\n",
    "print(extract_url)"
   ]
  },
  {
   "cell_type": "code",
   "execution_count": 19,
   "metadata": {},
   "outputs": [
    {
     "name": "stdout",
     "output_type": "stream",
     "text": [
      "['E', 'e', 'e', 'e', 'o', 'a', 'e', 'i', 'i', 'o', 'a', 'I', 'a', 'o', 'i', 'e', 'e', 'e', 'e', 'i', 'e']\n"
     ]
    }
   ],
   "source": [
    "# Exercise 18: Extract vowels from a sentence\n",
    "# Extract all vowels from a given sentence.\n",
    "\n",
    "text_vowels = \"Excellent, hello my name is Victor and I am doing regex exercises\"\n",
    "\n",
    "regex_vowels = r\"[aeiouAEIOU]\"\n",
    "\n",
    "# Between the [] are all the possible vowels, in upper and lower case\n",
    "extract_vowels =  re.findall(regex_vowels, text_vowels)\n",
    "\n",
    "print(extract_vowels)"
   ]
  },
  {
   "cell_type": "code",
   "execution_count": 20,
   "metadata": {},
   "outputs": [
    {
     "name": "stdout",
     "output_type": "stream",
     "text": [
      "['01', '111', '0', '10101010101010']\n"
     ]
    }
   ],
   "source": [
    "# Exercise 19: Match binary numbers\n",
    "# Write a regex to match valid binary numbers (e.g., 1010, 111).\n",
    "\n",
    "binary_numbers = [\n",
    "    \"01\",\n",
    "    \"111\",\n",
    "    \"0\", \n",
    "    \"10101010101010\",\n",
    "    \"1212124021010\",\n",
    "    \"210\" \n",
    "]\n",
    "\n",
    "# ^ marks the start of the sequence\n",
    "# [01]+ only accepts 0s or 1s, with at least one of them\n",
    "# $ marks the end of the sequence\n",
    "regex_binary = r\"^[01]+$\"\n",
    "\n",
    "extract_binary = [b_nums for b_nums in binary_numbers if re.findall(regex_binary, b_nums)]\n",
    "\n",
    "print(extract_binary)"
   ]
  },
  {
   "cell_type": "code",
   "execution_count": 21,
   "metadata": {},
   "outputs": [],
   "source": [
    "# Exercise 20: Find overlapping patterns\n",
    "# Write a regex to find overlapping occurrences of \"ab\" in a string (e.g., in \"abab\", match both \"ab\"s).\n"
   ]
  }
 ],
 "metadata": {
  "kernelspec": {
   "display_name": "aprendizaje_env",
   "language": "python",
   "name": "python3"
  },
  "language_info": {
   "codemirror_mode": {
    "name": "ipython",
    "version": 3
   },
   "file_extension": ".py",
   "mimetype": "text/x-python",
   "name": "python",
   "nbconvert_exporter": "python",
   "pygments_lexer": "ipython3",
   "version": "3.10.16"
  }
 },
 "nbformat": 4,
 "nbformat_minor": 2
}
