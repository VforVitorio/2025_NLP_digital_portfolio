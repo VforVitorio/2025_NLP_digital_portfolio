{
 "cells": [
  {
   "cell_type": "markdown",
   "id": "ef3513ee",
   "metadata": {},
   "source": [
    "# Lab Exercise 04"
   ]
  },
  {
   "cell_type": "code",
   "execution_count": 1,
   "id": "fa97ea3d",
   "metadata": {},
   "outputs": [],
   "source": [
    "__author__ = \"Víctor Vega Sobral\""
   ]
  },
  {
   "cell_type": "markdown",
   "id": "73115a63",
   "metadata": {},
   "source": [
    "---"
   ]
  },
  {
   "cell_type": "markdown",
   "id": "5a245d2f",
   "metadata": {},
   "source": [
    "# Local Part"
   ]
  },
  {
   "cell_type": "markdown",
   "id": "9861f7c6",
   "metadata": {},
   "source": [
    "---"
   ]
  },
  {
   "cell_type": "markdown",
   "id": "847ff282",
   "metadata": {},
   "source": [
    "## 1. Local Speech to Text "
   ]
  },
  {
   "cell_type": "code",
   "execution_count": 2,
   "id": "ed5a178d",
   "metadata": {},
   "outputs": [],
   "source": [
    "import whisper"
   ]
  },
  {
   "cell_type": "markdown",
   "id": "f60d470e",
   "metadata": {},
   "source": [
    "### 1.1 Loading the Whisper Turbo model"
   ]
  },
  {
   "cell_type": "code",
   "execution_count": 3,
   "id": "0dae31c7",
   "metadata": {},
   "outputs": [
    {
     "name": "stderr",
     "output_type": "stream",
     "text": [
      "c:\\Users\\victo\\miniconda3\\envs\\f1_strat_manager\\lib\\site-packages\\whisper\\__init__.py:150: FutureWarning: You are using `torch.load` with `weights_only=False` (the current default value), which uses the default pickle module implicitly. It is possible to construct malicious pickle data which will execute arbitrary code during unpickling (See https://github.com/pytorch/pytorch/blob/main/SECURITY.md#untrusted-models for more details). In a future release, the default value for `weights_only` will be flipped to `True`. This limits the functions that could be executed during unpickling. Arbitrary objects will no longer be allowed to be loaded via this mode unless they are explicitly allowlisted by the user via `torch.serialization.add_safe_globals`. We recommend you start setting `weights_only=True` for any use case where you don't have full control of the loaded file. Please open an issue on GitHub for any issues related to this experimental feature.\n",
      "  checkpoint = torch.load(fp, map_location=device)\n"
     ]
    }
   ],
   "source": [
    "model = whisper.load_model(\"turbo\")"
   ]
  },
  {
   "cell_type": "markdown",
   "id": "73f7ab1d",
   "metadata": {},
   "source": [
    "### 1.2 Padding to 30 seconds"
   ]
  },
  {
   "cell_type": "code",
   "execution_count": 4,
   "id": "b1f70dc3",
   "metadata": {},
   "outputs": [],
   "source": [
    "# load audio and pad/trim it to fit 30 seconds\n",
    "audio = whisper.load_audio(\"55_radio_47.mp3\")\n",
    "audio = whisper.pad_or_trim(audio)\n"
   ]
  },
  {
   "cell_type": "markdown",
   "id": "987c5e7a",
   "metadata": {},
   "source": [
    "### 1.3 Log-Mel spectogram"
   ]
  },
  {
   "cell_type": "code",
   "execution_count": 5,
   "id": "f12850ff",
   "metadata": {},
   "outputs": [
    {
     "name": "stdout",
     "output_type": "stream",
     "text": [
      "Detected language: en\n"
     ]
    }
   ],
   "source": [
    "# make log-Mel spectrogram and move to the same device as the model\n",
    "mel = whisper.log_mel_spectrogram(audio, n_mels=model.dims.n_mels).to(model.device)\n",
    "# detect the spoken language\n",
    "_, probs = model.detect_language(mel)\n",
    "print(f\"Detected language: {max(probs, key=probs.get)}\")"
   ]
  },
  {
   "cell_type": "markdown",
   "id": "392b1e4e",
   "metadata": {},
   "source": [
    "### 1.4 Decoding the audio"
   ]
  },
  {
   "cell_type": "code",
   "execution_count": 6,
   "id": "7c4b1c1f",
   "metadata": {},
   "outputs": [
    {
     "name": "stdout",
     "output_type": "stream",
     "text": [
      "Rain expected in 4 minutes. What is the rain intensity? 2 to 3.\n"
     ]
    }
   ],
   "source": [
    "# decode the audio\n",
    "options = whisper.DecodingOptions()\n",
    "result = whisper.decode(model, mel, options)\n",
    "# print the recognized text\n",
    "print(result.text)"
   ]
  },
  {
   "cell_type": "markdown",
   "id": "e6c04b9a",
   "metadata": {},
   "source": [
    "---"
   ]
  },
  {
   "cell_type": "markdown",
   "id": "668ee4e0",
   "metadata": {},
   "source": [
    "## 2. Local Text to Speech\n",
    "\n",
    "Using ``Coqui TTS``, a fork of Mozilla TTS."
   ]
  },
  {
   "cell_type": "code",
   "execution_count": 12,
   "id": "0ac9c1d2",
   "metadata": {},
   "outputs": [],
   "source": [
    "from TTS.api import TTS"
   ]
  },
  {
   "cell_type": "markdown",
   "id": "baf468ca",
   "metadata": {},
   "source": [
    "### 2.1 Initializing TTS model"
   ]
  },
  {
   "cell_type": "code",
   "execution_count": 13,
   "id": "99d28846",
   "metadata": {},
   "outputs": [
    {
     "name": "stdout",
     "output_type": "stream",
     "text": [
      " > tts_models/en/ljspeech/tacotron2-DDC is already downloaded.\n",
      " > vocoder_models/en/ljspeech/hifigan_v2 is already downloaded.\n",
      " > Using model: Tacotron2\n",
      " > Setting up Audio Processor...\n",
      " | > sample_rate:22050\n",
      " | > resample:False\n",
      " | > num_mels:80\n",
      " | > log_func:np.log\n",
      " | > min_level_db:-100\n",
      " | > frame_shift_ms:None\n",
      " | > frame_length_ms:None\n",
      " | > ref_level_db:20\n",
      " | > fft_size:1024\n",
      " | > power:1.5\n",
      " | > preemphasis:0.0\n",
      " | > griffin_lim_iters:60\n",
      " | > signal_norm:False\n",
      " | > symmetric_norm:True\n",
      " | > mel_fmin:0\n",
      " | > mel_fmax:8000.0\n",
      " | > pitch_fmin:1.0\n",
      " | > pitch_fmax:640.0\n",
      " | > spec_gain:1.0\n",
      " | > stft_pad_mode:reflect\n",
      " | > max_norm:4.0\n",
      " | > clip_norm:True\n",
      " | > do_trim_silence:True\n",
      " | > trim_db:60\n",
      " | > do_sound_norm:False\n",
      " | > do_amp_to_db_linear:True\n",
      " | > do_amp_to_db_mel:True\n",
      " | > do_rms_norm:False\n",
      " | > db_level:None\n",
      " | > stats_path:None\n",
      " | > base:2.718281828459045\n",
      " | > hop_length:256\n",
      " | > win_length:1024\n",
      " > Model's reduction rate `r` is set to: 1\n",
      " > Vocoder Model: hifigan\n",
      " > Setting up Audio Processor...\n",
      " | > sample_rate:22050\n",
      " | > resample:False\n",
      " | > num_mels:80\n",
      " | > log_func:np.log\n",
      " | > min_level_db:-100\n",
      " | > frame_shift_ms:None\n",
      " | > frame_length_ms:None\n",
      " | > ref_level_db:20\n",
      " | > fft_size:1024\n",
      " | > power:1.5\n",
      " | > preemphasis:0.0\n",
      " | > griffin_lim_iters:60\n",
      " | > signal_norm:False\n",
      " | > symmetric_norm:True\n",
      " | > mel_fmin:0\n",
      " | > mel_fmax:8000.0\n",
      " | > pitch_fmin:1.0\n",
      " | > pitch_fmax:640.0\n",
      " | > spec_gain:1.0\n",
      " | > stft_pad_mode:reflect\n",
      " | > max_norm:4.0\n",
      " | > clip_norm:True\n",
      " | > do_trim_silence:False\n",
      " | > trim_db:60\n",
      " | > do_sound_norm:False\n",
      " | > do_amp_to_db_linear:True\n",
      " | > do_amp_to_db_mel:True\n",
      " | > do_rms_norm:False\n",
      " | > db_level:None\n",
      " | > stats_path:None\n",
      " | > base:2.718281828459045\n",
      " | > hop_length:256\n",
      " | > win_length:1024\n",
      " > Generator Model: hifigan_generator\n",
      " > Discriminator Model: hifigan_discriminator\n"
     ]
    },
    {
     "name": "stderr",
     "output_type": "stream",
     "text": [
      "c:\\Users\\victo\\miniconda3\\envs\\streamlitLLM\\lib\\site-packages\\TTS\\utils\\io.py:54: FutureWarning: You are using `torch.load` with `weights_only=False` (the current default value), which uses the default pickle module implicitly. It is possible to construct malicious pickle data which will execute arbitrary code during unpickling (See https://github.com/pytorch/pytorch/blob/main/SECURITY.md#untrusted-models for more details). In a future release, the default value for `weights_only` will be flipped to `True`. This limits the functions that could be executed during unpickling. Arbitrary objects will no longer be allowed to be loaded via this mode unless they are explicitly allowlisted by the user via `torch.serialization.add_safe_globals`. We recommend you start setting `weights_only=True` for any use case where you don't have full control of the loaded file. Please open an issue on GitHub for any issues related to this experimental feature.\n",
      "  return torch.load(f, map_location=map_location, **kwargs)\n"
     ]
    },
    {
     "name": "stdout",
     "output_type": "stream",
     "text": [
      "Removing weight norm...\n"
     ]
    }
   ],
   "source": [
    "# Tacotron2\n",
    "tts = TTS(model_name=\"tts_models/en/ljspeech/tacotron2-DDC\", progress_bar=True, gpu=False)"
   ]
  },
  {
   "cell_type": "markdown",
   "id": "ebbba792",
   "metadata": {},
   "source": [
    "### 2.2 Converting text to speech"
   ]
  },
  {
   "cell_type": "code",
   "execution_count": 14,
   "id": "c55c4f2f",
   "metadata": {},
   "outputs": [
    {
     "name": "stdout",
     "output_type": "stream",
     "text": [
      " > Text splitted to sentences.\n",
      "['Rain expected in 4 minutes.', 'What is the rain intensity?', '2 to 3.']\n",
      " > Processing time: 3.6516635417938232\n",
      " > Real-time factor: 0.5822571813646433\n"
     ]
    },
    {
     "data": {
      "text/plain": [
       "'outputs/output.mp3'"
      ]
     },
     "execution_count": 14,
     "metadata": {},
     "output_type": "execute_result"
    }
   ],
   "source": [
    "tts.tts_to_file(text = \"Rain expected in 4 minutes. What is the rain intensity? 2 to 3.\", file_path=\"outputs/output.mp3\")"
   ]
  },
  {
   "cell_type": "markdown",
   "id": "5e3b9a74",
   "metadata": {},
   "source": [
    "---"
   ]
  },
  {
   "cell_type": "markdown",
   "id": "b0627a45",
   "metadata": {},
   "source": [
    "# External APIs services Part"
   ]
  },
  {
   "cell_type": "markdown",
   "id": "83e78308",
   "metadata": {},
   "source": [
    "### 1.1 Google Speech to Text External API"
   ]
  },
  {
   "cell_type": "code",
   "execution_count": 15,
   "id": "d0fe306e",
   "metadata": {},
   "outputs": [
    {
     "name": "stdout",
     "output_type": "stream",
     "text": [
      "rain expected in 4 minutes what is the rain intensity 2203\n"
     ]
    }
   ],
   "source": [
    "# pip install SpeechRecognition\n",
    "import speech_recognition as sr\n",
    "\n",
    "r = sr.Recognizer()\n",
    "with sr.AudioFile(\"outputs/output.mp3\") as source:\n",
    "    audio = r.record(source)\n",
    "    # This function calls the Google external API\n",
    "    text = r.recognize_google(audio)  \n",
    "    print(text)"
   ]
  },
  {
   "cell_type": "markdown",
   "id": "e3f2e9c7",
   "metadata": {},
   "source": [
    "### 1.2 Google Text to Speech External API"
   ]
  },
  {
   "cell_type": "code",
   "execution_count": 16,
   "id": "d949eadd",
   "metadata": {},
   "outputs": [],
   "source": [
    "# pip install gTTS\n",
    "from gtts import gTTS\n",
    "\n",
    "tts = gTTS(\"This is a test for Google text to speech external api\", lang=\"en\")\n",
    "tts.save(\"outputs/google_tts_output.mp3\")"
   ]
  },
  {
   "cell_type": "markdown",
   "id": "37ce516b",
   "metadata": {},
   "source": [
    "---"
   ]
  },
  {
   "cell_type": "markdown",
   "id": "1a2aa7b6",
   "metadata": {},
   "source": [
    "# Selected Speech Task: speech to speech translation\n",
    "\n",
    "A easy pipeline for doing this task would be the following:\n",
    "\n",
    "1. First, use Whisper to transcribe the audio to text.\n",
    "\n",
    "2. Then, traduce the text (Spanish to English).\n",
    "\n",
    "3. Finally, using mozilla TTS to create the new audio.\n",
    "\n",
    "However, this approach adds a lot of latency for calling three models anc can be slow, so I will try to use ``NVIVIDA NeMo``, with a robust toolkit for speech-to_speech models based on Pytorch.\n",
    "\n",
    "## Update: changing to first approach\n",
    "\n",
    "NVIDIA NeMO is giving lots of problems from compilable tools that requiere WSL or a Linux distro. Then, I will move to the first approach even if it is not the most efficient one."
   ]
  },
  {
   "cell_type": "code",
   "execution_count": null,
   "id": "7a4de40b",
   "metadata": {},
   "outputs": [],
   "source": [
    "import torch\n",
    "import whisper\n",
    "from transformers import MarianMTModel, MarianTokenizer\n",
    "from TTS.api import TTS\n",
    "import argparse"
   ]
  },
  {
   "cell_type": "markdown",
   "id": "3051d8f4",
   "metadata": {},
   "source": [
    "### 1.1 Loading Models "
   ]
  },
  {
   "cell_type": "code",
   "execution_count": null,
   "id": "bdec5603",
   "metadata": {},
   "outputs": [],
   "source": [
    "# --------------------------------------------------------\n",
    "# Speech-to-Speech Translation Script (Spanish -> English)\n",
    "\n",
    "def load_models(whisper_model_name: str, mt_model_name: str,\n",
    "                tts_model_name: str, use_gpu: bool):\n",
    "    \"\"\"\n",
    "    Load all required models and return them.\n",
    "    \"\"\"\n",
    "    device = \"cuda\" if use_gpu else \"cpu\"\n",
    "    print(f\"[INFO] Device: {device}\")\n",
    "\n",
    "    # 1) Whisper ASR model\n",
    "    asr_model = whisper.load_model(whisper_model_name, device=device)\n",
    "\n",
    "    # 2) MarianMT tokenizer and model\n",
    "    tokenizer = MarianTokenizer.from_pretrained(mt_model_name)\n",
    "    mt_model = MarianMTModel.from_pretrained(mt_model_name).to(device)\n",
    "\n",
    "    # 3) Coqui TTS\n",
    "    tts = TTS(model_name=tts_model_name, progress_bar=False, gpu=use_gpu)\n",
    "\n",
    "    return asr_model, tokenizer, mt_model, tts, device\n",
    "\n",
    "\n",
    "\n"
   ]
  },
  {
   "cell_type": "code",
   "execution_count": null,
   "id": "59c1711f",
   "metadata": {},
   "outputs": [],
   "source": [
    "def transcribe(asr_model, audio_path: str, device: str) -> str:\n",
    "    \"\"\"\n",
    "    Transcribe Spanish audio to text.\n",
    "    \"\"\"\n",
    "    print(f\"[ASR] Transcribing {audio_path}...\")\n",
    "    result = asr_model.transcribe(audio_path, language=\"es\")\n",
    "    text = result[\"text\"].strip()\n",
    "    print(f\"[ASR] Result: {text}\")\n",
    "    return text\n",
    "\n"
   ]
  }
 ],
 "metadata": {
  "kernelspec": {
   "display_name": "streamlitLLM",
   "language": "python",
   "name": "python3"
  },
  "language_info": {
   "codemirror_mode": {
    "name": "ipython",
    "version": 3
   },
   "file_extension": ".py",
   "mimetype": "text/x-python",
   "name": "python",
   "nbconvert_exporter": "python",
   "pygments_lexer": "ipython3",
   "version": "3.10.16"
  }
 },
 "nbformat": 4,
 "nbformat_minor": 5
}
