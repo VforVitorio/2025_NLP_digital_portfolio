{
 "cells": [
  {
   "cell_type": "markdown",
   "id": "ef3513ee",
   "metadata": {},
   "source": [
    "# Lab Exercise 04"
   ]
  },
  {
   "cell_type": "code",
   "execution_count": 1,
   "id": "fa97ea3d",
   "metadata": {},
   "outputs": [],
   "source": [
    "__author__ = \"Víctor Vega Sobral\""
   ]
  },
  {
   "cell_type": "markdown",
   "id": "73115a63",
   "metadata": {},
   "source": [
    "---"
   ]
  },
  {
   "cell_type": "markdown",
   "id": "847ff282",
   "metadata": {},
   "source": [
    "## 1. Local Speech to Text "
   ]
  },
  {
   "cell_type": "code",
   "execution_count": 2,
   "id": "ed5a178d",
   "metadata": {},
   "outputs": [],
   "source": [
    "import whisper"
   ]
  },
  {
   "cell_type": "markdown",
   "id": "f60d470e",
   "metadata": {},
   "source": [
    "### 1.1 Loading the Whisper Turbo model"
   ]
  },
  {
   "cell_type": "code",
   "execution_count": 3,
   "id": "0dae31c7",
   "metadata": {},
   "outputs": [
    {
     "name": "stderr",
     "output_type": "stream",
     "text": [
      "c:\\Users\\victo\\miniconda3\\envs\\f1_strat_manager\\lib\\site-packages\\whisper\\__init__.py:150: FutureWarning: You are using `torch.load` with `weights_only=False` (the current default value), which uses the default pickle module implicitly. It is possible to construct malicious pickle data which will execute arbitrary code during unpickling (See https://github.com/pytorch/pytorch/blob/main/SECURITY.md#untrusted-models for more details). In a future release, the default value for `weights_only` will be flipped to `True`. This limits the functions that could be executed during unpickling. Arbitrary objects will no longer be allowed to be loaded via this mode unless they are explicitly allowlisted by the user via `torch.serialization.add_safe_globals`. We recommend you start setting `weights_only=True` for any use case where you don't have full control of the loaded file. Please open an issue on GitHub for any issues related to this experimental feature.\n",
      "  checkpoint = torch.load(fp, map_location=device)\n"
     ]
    }
   ],
   "source": [
    "model = whisper.load_model(\"turbo\")"
   ]
  },
  {
   "cell_type": "markdown",
   "id": "73f7ab1d",
   "metadata": {},
   "source": [
    "### 1.2 Padding to 30 seconds"
   ]
  },
  {
   "cell_type": "code",
   "execution_count": 4,
   "id": "b1f70dc3",
   "metadata": {},
   "outputs": [],
   "source": [
    "# load audio and pad/trim it to fit 30 seconds\n",
    "audio = whisper.load_audio(\"55_radio_47.mp3\")\n",
    "audio = whisper.pad_or_trim(audio)\n"
   ]
  },
  {
   "cell_type": "markdown",
   "id": "987c5e7a",
   "metadata": {},
   "source": [
    "### 1.3 Log-Mel spectogram"
   ]
  },
  {
   "cell_type": "code",
   "execution_count": 5,
   "id": "f12850ff",
   "metadata": {},
   "outputs": [
    {
     "name": "stdout",
     "output_type": "stream",
     "text": [
      "Detected language: en\n"
     ]
    }
   ],
   "source": [
    "# make log-Mel spectrogram and move to the same device as the model\n",
    "mel = whisper.log_mel_spectrogram(audio, n_mels=model.dims.n_mels).to(model.device)\n",
    "# detect the spoken language\n",
    "_, probs = model.detect_language(mel)\n",
    "print(f\"Detected language: {max(probs, key=probs.get)}\")"
   ]
  },
  {
   "cell_type": "markdown",
   "id": "392b1e4e",
   "metadata": {},
   "source": [
    "### 1.4 Decoding the audio"
   ]
  },
  {
   "cell_type": "code",
   "execution_count": 6,
   "id": "7c4b1c1f",
   "metadata": {},
   "outputs": [
    {
     "name": "stdout",
     "output_type": "stream",
     "text": [
      "Rain expected in 4 minutes. What is the rain intensity? 2 to 3.\n"
     ]
    }
   ],
   "source": [
    "# decode the audio\n",
    "options = whisper.DecodingOptions()\n",
    "result = whisper.decode(model, mel, options)\n",
    "# print the recognized text\n",
    "print(result.text)"
   ]
  },
  {
   "cell_type": "markdown",
   "id": "e6c04b9a",
   "metadata": {},
   "source": [
    "---"
   ]
  },
  {
   "cell_type": "markdown",
   "id": "668ee4e0",
   "metadata": {},
   "source": [
    "## 2. Local Text to Speech"
   ]
  },
  {
   "cell_type": "code",
   "execution_count": null,
   "id": "0ac9c1d2",
   "metadata": {},
   "outputs": [],
   "source": []
  }
 ],
 "metadata": {
  "kernelspec": {
   "display_name": "f1_strat_manager",
   "language": "python",
   "name": "python3"
  },
  "language_info": {
   "codemirror_mode": {
    "name": "ipython",
    "version": 3
   },
   "file_extension": ".py",
   "mimetype": "text/x-python",
   "name": "python",
   "nbconvert_exporter": "python",
   "pygments_lexer": "ipython3",
   "version": "3.10.16"
  }
 },
 "nbformat": 4,
 "nbformat_minor": 5
}
