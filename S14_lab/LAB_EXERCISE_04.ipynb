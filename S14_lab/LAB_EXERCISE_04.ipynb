{
 "cells": [
  {
   "cell_type": "markdown",
   "id": "ef3513ee",
   "metadata": {},
   "source": [
    "# Lab Exercise 04"
   ]
  },
  {
   "cell_type": "code",
   "execution_count": null,
   "id": "fa97ea3d",
   "metadata": {},
   "outputs": [],
   "source": [
    "__author__ = \"Víctor Vega Sobral\""
   ]
  },
  {
   "cell_type": "markdown",
   "id": "73115a63",
   "metadata": {},
   "source": [
    "---"
   ]
  },
  {
   "cell_type": "markdown",
   "id": "5a245d2f",
   "metadata": {},
   "source": [
    "# Local Part"
   ]
  },
  {
   "cell_type": "markdown",
   "id": "9861f7c6",
   "metadata": {},
   "source": [
    "---"
   ]
  },
  {
   "cell_type": "markdown",
   "id": "847ff282",
   "metadata": {},
   "source": [
    "## 1. Local Speech to Text "
   ]
  },
  {
   "cell_type": "code",
   "execution_count": 2,
   "id": "ed5a178d",
   "metadata": {},
   "outputs": [],
   "source": [
    "import whisper"
   ]
  },
  {
   "cell_type": "markdown",
   "id": "f60d470e",
   "metadata": {},
   "source": [
    "### 1.1 Loading the Whisper Turbo model"
   ]
  },
  {
   "cell_type": "code",
   "execution_count": 3,
   "id": "0dae31c7",
   "metadata": {},
   "outputs": [
    {
     "name": "stderr",
     "output_type": "stream",
     "text": [
      "c:\\Users\\victo\\miniconda3\\envs\\f1_strat_manager\\lib\\site-packages\\whisper\\__init__.py:150: FutureWarning: You are using `torch.load` with `weights_only=False` (the current default value), which uses the default pickle module implicitly. It is possible to construct malicious pickle data which will execute arbitrary code during unpickling (See https://github.com/pytorch/pytorch/blob/main/SECURITY.md#untrusted-models for more details). In a future release, the default value for `weights_only` will be flipped to `True`. This limits the functions that could be executed during unpickling. Arbitrary objects will no longer be allowed to be loaded via this mode unless they are explicitly allowlisted by the user via `torch.serialization.add_safe_globals`. We recommend you start setting `weights_only=True` for any use case where you don't have full control of the loaded file. Please open an issue on GitHub for any issues related to this experimental feature.\n",
      "  checkpoint = torch.load(fp, map_location=device)\n"
     ]
    }
   ],
   "source": [
    "model = whisper.load_model(\"turbo\")"
   ]
  },
  {
   "cell_type": "markdown",
   "id": "73f7ab1d",
   "metadata": {},
   "source": [
    "### 1.2 Padding to 30 seconds"
   ]
  },
  {
   "cell_type": "code",
   "execution_count": 4,
   "id": "b1f70dc3",
   "metadata": {},
   "outputs": [],
   "source": [
    "# load audio and pad/trim it to fit 30 seconds\n",
    "audio = whisper.load_audio(\"55_radio_47.mp3\")\n",
    "audio = whisper.pad_or_trim(audio)\n"
   ]
  },
  {
   "cell_type": "markdown",
   "id": "987c5e7a",
   "metadata": {},
   "source": [
    "### 1.3 Log-Mel spectogram"
   ]
  },
  {
   "cell_type": "code",
   "execution_count": 5,
   "id": "f12850ff",
   "metadata": {},
   "outputs": [
    {
     "name": "stdout",
     "output_type": "stream",
     "text": [
      "Detected language: en\n"
     ]
    }
   ],
   "source": [
    "# make log-Mel spectrogram and move to the same device as the model\n",
    "mel = whisper.log_mel_spectrogram(audio, n_mels=model.dims.n_mels).to(model.device)\n",
    "# detect the spoken language\n",
    "_, probs = model.detect_language(mel)\n",
    "print(f\"Detected language: {max(probs, key=probs.get)}\")"
   ]
  },
  {
   "cell_type": "markdown",
   "id": "392b1e4e",
   "metadata": {},
   "source": [
    "### 1.4 Decoding the audio"
   ]
  },
  {
   "cell_type": "code",
   "execution_count": 6,
   "id": "7c4b1c1f",
   "metadata": {},
   "outputs": [
    {
     "name": "stdout",
     "output_type": "stream",
     "text": [
      "Rain expected in 4 minutes. What is the rain intensity? 2 to 3.\n"
     ]
    }
   ],
   "source": [
    "# decode the audio\n",
    "options = whisper.DecodingOptions()\n",
    "result = whisper.decode(model, mel, options)\n",
    "# print the recognized text\n",
    "print(result.text)"
   ]
  },
  {
   "cell_type": "markdown",
   "id": "e6c04b9a",
   "metadata": {},
   "source": [
    "---"
   ]
  },
  {
   "cell_type": "markdown",
   "id": "668ee4e0",
   "metadata": {},
   "source": [
    "## 2. Local Text to Speech\n",
    "\n",
    "Using ``Coqui TTS``, a fork of Mozilla TTS."
   ]
  },
  {
   "cell_type": "code",
   "execution_count": null,
   "id": "0ac9c1d2",
   "metadata": {},
   "outputs": [],
   "source": [
    "from TTS.api import TTS"
   ]
  },
  {
   "cell_type": "markdown",
   "id": "baf468ca",
   "metadata": {},
   "source": [
    "### 2.1 Initializing TTS model"
   ]
  },
  {
   "cell_type": "code",
   "execution_count": null,
   "id": "99d28846",
   "metadata": {},
   "outputs": [],
   "source": [
    "# Tacotron2\n",
    "tts = TTS(model_name=\"tts_models/en/ljspeech/tacotron2-DDC\", progress_bar=True, gpu=False)"
   ]
  },
  {
   "cell_type": "markdown",
   "id": "ebbba792",
   "metadata": {},
   "source": [
    "### 2.2 Converting text to speech"
   ]
  },
  {
   "cell_type": "code",
   "execution_count": null,
   "id": "c55c4f2f",
   "metadata": {},
   "outputs": [],
   "source": [
    "tts.tts_to_file(text = \"Rain expected in 4 minutes. What is the rain intensity? 2 to 3.\", file_path=\"outputs/output.mp3\")"
   ]
  },
  {
   "cell_type": "markdown",
   "id": "5e3b9a74",
   "metadata": {},
   "source": [
    "---"
   ]
  },
  {
   "cell_type": "markdown",
   "id": "b0627a45",
   "metadata": {},
   "source": [
    "# External APIs services Part"
   ]
  },
  {
   "cell_type": "markdown",
   "id": "83e78308",
   "metadata": {},
   "source": [
    "### 1.1 Google Speech to Text External API"
   ]
  },
  {
   "cell_type": "code",
   "execution_count": null,
   "id": "d0fe306e",
   "metadata": {},
   "outputs": [],
   "source": [
    "# pip install SpeechRecognition\n",
    "import speech_recognition as sr\n",
    "\n",
    "r = sr.Recognizer()\n",
    "with sr.AudioFile(\"outputs/output.mp3\") as source:\n",
    "    audio = r.record(source)\n",
    "    # This function calls the Google external API\n",
    "    text = r.recognize_google(audio)  \n",
    "    print(text)"
   ]
  },
  {
   "cell_type": "markdown",
   "id": "e3f2e9c7",
   "metadata": {},
   "source": [
    "### 1.2 Google Text to Speech External API"
   ]
  },
  {
   "cell_type": "code",
   "execution_count": null,
   "id": "d949eadd",
   "metadata": {},
   "outputs": [],
   "source": [
    "# pip install gTTS\n",
    "from gtts import gTTS\n",
    "\n",
    "tts = gTTS(\"This is a test for Google text to speech external api\", lang=\"en\")\n",
    "tts.save(\"outputs/google_tts_output.mp3\")"
   ]
  },
  {
   "cell_type": "markdown",
   "id": "37ce516b",
   "metadata": {},
   "source": [
    "---"
   ]
  },
  {
   "cell_type": "markdown",
   "id": "1a2aa7b6",
   "metadata": {},
   "source": [
    "# Selected Speech Task: speech to speech translation\n",
    "\n",
    "A easy pipeline for doing this task would be the following:\n",
    "\n",
    "1. First, use Whisper to transcribe the audio to text.\n",
    "\n",
    "2. Then, traduce the text (Spanish to English).\n",
    "\n",
    "3. Finally, using mozilla TTS to create the new audio.\n",
    "\n",
    "However, this approach adds a lot of latency for calling three models anc can be slow, so I will try to use ``NVIVIDA NeMo``, with a robust toolkit for speech-to_speech models based on Pytorch.\n",
    "\n",
    "## Update: changing to first approach\n",
    "\n",
    "NVIDIA NeMO is giving lots of problems from compilable tools that requiere WSL or a Linux distro. Then, I will move to the first approach even if it is not the most efficient one."
   ]
  },
  {
   "cell_type": "code",
   "execution_count": null,
   "id": "7a4de40b",
   "metadata": {},
   "outputs": [],
   "source": [
    "import torch\n",
    "import whisper\n",
    "from transformers import MarianMTModel, MarianTokenizer\n",
    "from TTS.api import TTS"
   ]
  },
  {
   "cell_type": "code",
   "execution_count": null,
   "id": "fd90ad4e",
   "metadata": {},
   "outputs": [],
   "source": [
    "# Configuration: paths and model names\n",
    "INPUT_AUDIO = \"spanish_audio.mp3\"         # Path to your Spanish mp3 file\n",
    "OUTPUT_AUDIO = \"english_translation.mp3\"    # Path to save the translated English mp3\n",
    "WHISPER_MODEL = \"turbo\"           # Whisper model size: tiny, base, small, medium, large\n",
    "MT_MODEL = \"Helsinki-NLP/opus-mt-es-en\"\n",
    "TTS_MODEL = \"tts_models/en/ljspeech/tacotron2-DDC\"\n"
   ]
  },
  {
   "cell_type": "code",
   "execution_count": null,
   "id": "17a4e476",
   "metadata": {},
   "outputs": [],
   "source": [
    "# Check device\n",
    "USE_GPU = torch.cuda.is_available()\n",
    "DEVICE = \"cuda\" if USE_GPU else \"cpu\"\n",
    "print(f\"[INFO] Using device: {DEVICE}\")"
   ]
  },
  {
   "cell_type": "code",
   "execution_count": null,
   "id": "c033f334",
   "metadata": {},
   "outputs": [],
   "source": [
    "# 1) Load Whisper ASR model\n",
    "asr_model = whisper.load_model(WHISPER_MODEL, device=DEVICE)"
   ]
  },
  {
   "cell_type": "code",
   "execution_count": null,
   "id": "bb50643a",
   "metadata": {},
   "outputs": [],
   "source": [
    "# 2) Load MarianMT tokenizer and model\n",
    "tokenizer = MarianTokenizer.from_pretrained(MT_MODEL)\n",
    "mt_model = MarianMTModel.from_pretrained(MT_MODEL).to(DEVICE)"
   ]
  },
  {
   "cell_type": "code",
   "execution_count": null,
   "id": "45f8d041",
   "metadata": {},
   "outputs": [],
   "source": [
    "# 3) Initialize Coqui TTS\n",
    "tts = TTS(model_name=TTS_MODEL, progress_bar=False, gpu=USE_GPU)\n"
   ]
  },
  {
   "cell_type": "code",
   "execution_count": null,
   "id": "ed6dad62",
   "metadata": {},
   "outputs": [],
   "source": [
    "# -- ASR: Transcribe Spanish speech to text --\n",
    "print(f\"[ASR] Transcribing {INPUT_AUDIO}...\")\n",
    "asr_result = asr_model.transcribe(INPUT_AUDIO, language=\"es\")\n",
    "spanish_text = asr_result[\"text\"].strip()\n",
    "print(f\"[ASR] Detected Spanish Text: {spanish_text}\")\n",
    "\n"
   ]
  },
  {
   "cell_type": "code",
   "execution_count": null,
   "id": "3e3a9753",
   "metadata": {},
   "outputs": [],
   "source": [
    "# -- MT: Translate Spanish text to English --\n",
    "print(f\"[MT] Translating to English...\")\n",
    "batch = tokenizer([spanish_text], return_tensors=\"pt\", padding=True).to(DEVICE)\n",
    "generated = mt_model.generate(**batch)\n",
    "english_text = tokenizer.decode(generated[0], skip_special_tokens=True)\n",
    "print(f\"[MT] Translated English Text: {english_text}\")\n"
   ]
  },
  {
   "cell_type": "code",
   "execution_count": null,
   "id": "dc4112f8",
   "metadata": {},
   "outputs": [],
   "source": [
    "# -- TTS: Synthesize English text to speech --\n",
    "print(f\"[TTS] Generating English speech to {OUTPUT_AUDIO}...\")\n",
    "tts.tts_to_file(text=english_text, file_path=OUTPUT_AUDIO)\n",
    "print(f\"[TTS] Saved English audio at {OUTPUT_AUDIO}\")\n",
    "\n",
    "print(\"[INFO] Translation pipeline complete.\")"
   ]
  }
 ],
 "metadata": {
  "kernelspec": {
   "display_name": "streamlitLLM",
   "language": "python",
   "name": "python3"
  },
  "language_info": {
   "codemirror_mode": {
    "name": "ipython",
    "version": 3
   },
   "file_extension": ".py",
   "mimetype": "text/x-python",
   "name": "python",
   "nbconvert_exporter": "python",
   "pygments_lexer": "ipython3",
   "version": "3.10.16"
  }
 },
 "nbformat": 4,
 "nbformat_minor": 5
}
