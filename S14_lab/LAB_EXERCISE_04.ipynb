{
 "cells": [
  {
   "cell_type": "markdown",
   "id": "ef3513ee",
   "metadata": {},
   "source": [
    "# Lab Exercise 04"
   ]
  },
  {
   "cell_type": "code",
   "execution_count": 1,
   "id": "fa97ea3d",
   "metadata": {},
   "outputs": [],
   "source": [
    "__author__ = \"Víctor Vega Sobral\""
   ]
  },
  {
   "cell_type": "markdown",
   "id": "73115a63",
   "metadata": {},
   "source": [
    "---"
   ]
  },
  {
   "cell_type": "markdown",
   "id": "5a245d2f",
   "metadata": {},
   "source": [
    "# Local Part"
   ]
  },
  {
   "cell_type": "markdown",
   "id": "9861f7c6",
   "metadata": {},
   "source": [
    "---"
   ]
  },
  {
   "cell_type": "markdown",
   "id": "847ff282",
   "metadata": {},
   "source": [
    "## 1. Local Speech to Text "
   ]
  },
  {
   "cell_type": "code",
   "execution_count": 2,
   "id": "ed5a178d",
   "metadata": {},
   "outputs": [],
   "source": [
    "import whisper"
   ]
  },
  {
   "cell_type": "markdown",
   "id": "f60d470e",
   "metadata": {},
   "source": [
    "### 1.1 Loading the Whisper Turbo model"
   ]
  },
  {
   "cell_type": "code",
   "execution_count": 3,
   "id": "0dae31c7",
   "metadata": {},
   "outputs": [
    {
     "name": "stderr",
     "output_type": "stream",
     "text": [
      "c:\\Users\\victo\\miniconda3\\envs\\f1_strat_manager\\lib\\site-packages\\whisper\\__init__.py:150: FutureWarning: You are using `torch.load` with `weights_only=False` (the current default value), which uses the default pickle module implicitly. It is possible to construct malicious pickle data which will execute arbitrary code during unpickling (See https://github.com/pytorch/pytorch/blob/main/SECURITY.md#untrusted-models for more details). In a future release, the default value for `weights_only` will be flipped to `True`. This limits the functions that could be executed during unpickling. Arbitrary objects will no longer be allowed to be loaded via this mode unless they are explicitly allowlisted by the user via `torch.serialization.add_safe_globals`. We recommend you start setting `weights_only=True` for any use case where you don't have full control of the loaded file. Please open an issue on GitHub for any issues related to this experimental feature.\n",
      "  checkpoint = torch.load(fp, map_location=device)\n"
     ]
    }
   ],
   "source": [
    "model = whisper.load_model(\"turbo\")"
   ]
  },
  {
   "cell_type": "markdown",
   "id": "73f7ab1d",
   "metadata": {},
   "source": [
    "### 1.2 Padding to 30 seconds"
   ]
  },
  {
   "cell_type": "code",
   "execution_count": 4,
   "id": "b1f70dc3",
   "metadata": {},
   "outputs": [],
   "source": [
    "# load audio and pad/trim it to fit 30 seconds\n",
    "audio = whisper.load_audio(\"55_radio_47.mp3\")\n",
    "audio = whisper.pad_or_trim(audio)\n"
   ]
  },
  {
   "cell_type": "markdown",
   "id": "987c5e7a",
   "metadata": {},
   "source": [
    "### 1.3 Log-Mel spectogram"
   ]
  },
  {
   "cell_type": "code",
   "execution_count": 5,
   "id": "f12850ff",
   "metadata": {},
   "outputs": [
    {
     "name": "stdout",
     "output_type": "stream",
     "text": [
      "Detected language: en\n"
     ]
    }
   ],
   "source": [
    "# make log-Mel spectrogram and move to the same device as the model\n",
    "mel = whisper.log_mel_spectrogram(audio, n_mels=model.dims.n_mels).to(model.device)\n",
    "# detect the spoken language\n",
    "_, probs = model.detect_language(mel)\n",
    "print(f\"Detected language: {max(probs, key=probs.get)}\")"
   ]
  },
  {
   "cell_type": "markdown",
   "id": "392b1e4e",
   "metadata": {},
   "source": [
    "### 1.4 Decoding the audio"
   ]
  },
  {
   "cell_type": "code",
   "execution_count": 6,
   "id": "7c4b1c1f",
   "metadata": {},
   "outputs": [
    {
     "name": "stdout",
     "output_type": "stream",
     "text": [
      "Rain expected in 4 minutes. What is the rain intensity? 2 to 3.\n"
     ]
    }
   ],
   "source": [
    "# decode the audio\n",
    "options = whisper.DecodingOptions()\n",
    "result = whisper.decode(model, mel, options)\n",
    "# print the recognized text\n",
    "print(result.text)"
   ]
  },
  {
   "cell_type": "markdown",
   "id": "e6c04b9a",
   "metadata": {},
   "source": [
    "---"
   ]
  },
  {
   "cell_type": "markdown",
   "id": "668ee4e0",
   "metadata": {},
   "source": [
    "## 2. Local Text to Speech\n",
    "\n",
    "Using ``Coqui TTS``, a fork of Mozilla TTS."
   ]
  },
  {
   "cell_type": "code",
   "execution_count": 12,
   "id": "0ac9c1d2",
   "metadata": {},
   "outputs": [],
   "source": [
    "from TTS.api import TTS"
   ]
  },
  {
   "cell_type": "markdown",
   "id": "baf468ca",
   "metadata": {},
   "source": [
    "### 2.1 Initializing TTS model"
   ]
  },
  {
   "cell_type": "code",
   "execution_count": 13,
   "id": "99d28846",
   "metadata": {},
   "outputs": [
    {
     "name": "stdout",
     "output_type": "stream",
     "text": [
      " > tts_models/en/ljspeech/tacotron2-DDC is already downloaded.\n",
      " > vocoder_models/en/ljspeech/hifigan_v2 is already downloaded.\n",
      " > Using model: Tacotron2\n",
      " > Setting up Audio Processor...\n",
      " | > sample_rate:22050\n",
      " | > resample:False\n",
      " | > num_mels:80\n",
      " | > log_func:np.log\n",
      " | > min_level_db:-100\n",
      " | > frame_shift_ms:None\n",
      " | > frame_length_ms:None\n",
      " | > ref_level_db:20\n",
      " | > fft_size:1024\n",
      " | > power:1.5\n",
      " | > preemphasis:0.0\n",
      " | > griffin_lim_iters:60\n",
      " | > signal_norm:False\n",
      " | > symmetric_norm:True\n",
      " | > mel_fmin:0\n",
      " | > mel_fmax:8000.0\n",
      " | > pitch_fmin:1.0\n",
      " | > pitch_fmax:640.0\n",
      " | > spec_gain:1.0\n",
      " | > stft_pad_mode:reflect\n",
      " | > max_norm:4.0\n",
      " | > clip_norm:True\n",
      " | > do_trim_silence:True\n",
      " | > trim_db:60\n",
      " | > do_sound_norm:False\n",
      " | > do_amp_to_db_linear:True\n",
      " | > do_amp_to_db_mel:True\n",
      " | > do_rms_norm:False\n",
      " | > db_level:None\n",
      " | > stats_path:None\n",
      " | > base:2.718281828459045\n",
      " | > hop_length:256\n",
      " | > win_length:1024\n",
      " > Model's reduction rate `r` is set to: 1\n",
      " > Vocoder Model: hifigan\n",
      " > Setting up Audio Processor...\n",
      " | > sample_rate:22050\n",
      " | > resample:False\n",
      " | > num_mels:80\n",
      " | > log_func:np.log\n",
      " | > min_level_db:-100\n",
      " | > frame_shift_ms:None\n",
      " | > frame_length_ms:None\n",
      " | > ref_level_db:20\n",
      " | > fft_size:1024\n",
      " | > power:1.5\n",
      " | > preemphasis:0.0\n",
      " | > griffin_lim_iters:60\n",
      " | > signal_norm:False\n",
      " | > symmetric_norm:True\n",
      " | > mel_fmin:0\n",
      " | > mel_fmax:8000.0\n",
      " | > pitch_fmin:1.0\n",
      " | > pitch_fmax:640.0\n",
      " | > spec_gain:1.0\n",
      " | > stft_pad_mode:reflect\n",
      " | > max_norm:4.0\n",
      " | > clip_norm:True\n",
      " | > do_trim_silence:False\n",
      " | > trim_db:60\n",
      " | > do_sound_norm:False\n",
      " | > do_amp_to_db_linear:True\n",
      " | > do_amp_to_db_mel:True\n",
      " | > do_rms_norm:False\n",
      " | > db_level:None\n",
      " | > stats_path:None\n",
      " | > base:2.718281828459045\n",
      " | > hop_length:256\n",
      " | > win_length:1024\n",
      " > Generator Model: hifigan_generator\n",
      " > Discriminator Model: hifigan_discriminator\n"
     ]
    },
    {
     "name": "stderr",
     "output_type": "stream",
     "text": [
      "c:\\Users\\victo\\miniconda3\\envs\\streamlitLLM\\lib\\site-packages\\TTS\\utils\\io.py:54: FutureWarning: You are using `torch.load` with `weights_only=False` (the current default value), which uses the default pickle module implicitly. It is possible to construct malicious pickle data which will execute arbitrary code during unpickling (See https://github.com/pytorch/pytorch/blob/main/SECURITY.md#untrusted-models for more details). In a future release, the default value for `weights_only` will be flipped to `True`. This limits the functions that could be executed during unpickling. Arbitrary objects will no longer be allowed to be loaded via this mode unless they are explicitly allowlisted by the user via `torch.serialization.add_safe_globals`. We recommend you start setting `weights_only=True` for any use case where you don't have full control of the loaded file. Please open an issue on GitHub for any issues related to this experimental feature.\n",
      "  return torch.load(f, map_location=map_location, **kwargs)\n"
     ]
    },
    {
     "name": "stdout",
     "output_type": "stream",
     "text": [
      "Removing weight norm...\n"
     ]
    }
   ],
   "source": [
    "# Tacotron2\n",
    "tts = TTS(model_name=\"tts_models/en/ljspeech/tacotron2-DDC\", progress_bar=True, gpu=False)"
   ]
  },
  {
   "cell_type": "markdown",
   "id": "ebbba792",
   "metadata": {},
   "source": [
    "### 2.2 Converting text to speech"
   ]
  },
  {
   "cell_type": "code",
   "execution_count": 14,
   "id": "c55c4f2f",
   "metadata": {},
   "outputs": [
    {
     "name": "stdout",
     "output_type": "stream",
     "text": [
      " > Text splitted to sentences.\n",
      "['Rain expected in 4 minutes.', 'What is the rain intensity?', '2 to 3.']\n",
      " > Processing time: 3.6516635417938232\n",
      " > Real-time factor: 0.5822571813646433\n"
     ]
    },
    {
     "data": {
      "text/plain": [
       "'outputs/output.mp3'"
      ]
     },
     "execution_count": 14,
     "metadata": {},
     "output_type": "execute_result"
    }
   ],
   "source": [
    "tts.tts_to_file(text = \"Rain expected in 4 minutes. What is the rain intensity? 2 to 3.\", file_path=\"outputs/output.mp3\")"
   ]
  },
  {
   "cell_type": "markdown",
   "id": "5e3b9a74",
   "metadata": {},
   "source": [
    "---"
   ]
  },
  {
   "cell_type": "markdown",
   "id": "b0627a45",
   "metadata": {},
   "source": [
    "# External APIs services Part"
   ]
  },
  {
   "cell_type": "markdown",
   "id": "83e78308",
   "metadata": {},
   "source": [
    "### 1.1 Google Speech to Text External API"
   ]
  },
  {
   "cell_type": "code",
   "execution_count": 15,
   "id": "d0fe306e",
   "metadata": {},
   "outputs": [
    {
     "name": "stdout",
     "output_type": "stream",
     "text": [
      "rain expected in 4 minutes what is the rain intensity 2203\n"
     ]
    }
   ],
   "source": [
    "# pip install SpeechRecognition\n",
    "import speech_recognition as sr\n",
    "\n",
    "r = sr.Recognizer()\n",
    "with sr.AudioFile(\"outputs/output.mp3\") as source:\n",
    "    audio = r.record(source)\n",
    "    # This function calls the Google external API\n",
    "    text = r.recognize_google(audio)  \n",
    "    print(text)"
   ]
  },
  {
   "cell_type": "markdown",
   "id": "e3f2e9c7",
   "metadata": {},
   "source": [
    "### 1.2 Google Text to Speech External API"
   ]
  },
  {
   "cell_type": "code",
   "execution_count": 16,
   "id": "d949eadd",
   "metadata": {},
   "outputs": [],
   "source": [
    "# pip install gTTS\n",
    "from gtts import gTTS\n",
    "\n",
    "tts = gTTS(\"This is a test for Google text to speech external api\", lang=\"en\")\n",
    "tts.save(\"outputs/google_tts_output.mp3\")"
   ]
  },
  {
   "cell_type": "markdown",
   "id": "37ce516b",
   "metadata": {},
   "source": [
    "---"
   ]
  },
  {
   "cell_type": "markdown",
   "id": "1a2aa7b6",
   "metadata": {},
   "source": [
    "# Selected Speech Task: speech to speech translation\n",
    "\n",
    "A easy pipeline for doing this task would be the following:\n",
    "\n",
    "1. First, use Whisper to transcribe the audio to text.\n",
    "\n",
    "2. Then, traduce the text (Spanish to English).\n",
    "\n",
    "3. Finally, using mozilla TTS to create the new audio.\n",
    "\n",
    "However, this approach adds a lot of latency for calling three models anc can be slow, so I will try to use ``NVIVIDA NeMo``, with a robust toolkit for speech-to_speech models based on Pytorch.\n",
    "\n",
    "## Update: changing to first approach\n",
    "\n",
    "NVIDIA NeMO is giving lots of problems from compilable tools that requiere WSL or a Linux distro. Then, I will move to the first approach even if it is not the most efficient one."
   ]
  },
  {
   "cell_type": "code",
   "execution_count": 1,
   "id": "7a4de40b",
   "metadata": {},
   "outputs": [
    {
     "name": "stderr",
     "output_type": "stream",
     "text": [
      "c:\\Users\\victo\\miniconda3\\envs\\streamlitLLM\\lib\\site-packages\\tqdm\\auto.py:21: TqdmWarning: IProgress not found. Please update jupyter and ipywidgets. See https://ipywidgets.readthedocs.io/en/stable/user_install.html\n",
      "  from .autonotebook import tqdm as notebook_tqdm\n"
     ]
    }
   ],
   "source": [
    "import torch\n",
    "import whisper\n",
    "from transformers import MarianMTModel, MarianTokenizer\n",
    "from TTS.api import TTS"
   ]
  },
  {
   "cell_type": "code",
   "execution_count": 2,
   "id": "fd90ad4e",
   "metadata": {},
   "outputs": [],
   "source": [
    "# Configuration: paths and model names\n",
    "INPUT_AUDIO = \"spanish_audio.mp3\"         # Path to your Spanish mp3 file\n",
    "OUTPUT_AUDIO = \"english_translation.mp3\"    # Path to save the translated English mp3\n",
    "WHISPER_MODEL = \"turbo\"           # Whisper model size: tiny, base, small, medium, large\n",
    "MT_MODEL = \"Helsinki-NLP/opus-mt-es-en\"\n",
    "TTS_MODEL = \"tts_models/en/ljspeech/tacotron2-DDC\"\n"
   ]
  },
  {
   "cell_type": "code",
   "execution_count": 3,
   "id": "17a4e476",
   "metadata": {},
   "outputs": [
    {
     "name": "stdout",
     "output_type": "stream",
     "text": [
      "[INFO] Using device: cpu\n"
     ]
    }
   ],
   "source": [
    "# Check device\n",
    "USE_GPU = torch.cuda.is_available()\n",
    "DEVICE = \"cuda\" if USE_GPU else \"cpu\"\n",
    "print(f\"[INFO] Using device: {DEVICE}\")"
   ]
  },
  {
   "cell_type": "code",
   "execution_count": 4,
   "id": "c033f334",
   "metadata": {},
   "outputs": [
    {
     "name": "stderr",
     "output_type": "stream",
     "text": [
      "c:\\Users\\victo\\miniconda3\\envs\\streamlitLLM\\lib\\site-packages\\whisper\\__init__.py:150: FutureWarning: You are using `torch.load` with `weights_only=False` (the current default value), which uses the default pickle module implicitly. It is possible to construct malicious pickle data which will execute arbitrary code during unpickling (See https://github.com/pytorch/pytorch/blob/main/SECURITY.md#untrusted-models for more details). In a future release, the default value for `weights_only` will be flipped to `True`. This limits the functions that could be executed during unpickling. Arbitrary objects will no longer be allowed to be loaded via this mode unless they are explicitly allowlisted by the user via `torch.serialization.add_safe_globals`. We recommend you start setting `weights_only=True` for any use case where you don't have full control of the loaded file. Please open an issue on GitHub for any issues related to this experimental feature.\n",
      "  checkpoint = torch.load(fp, map_location=device)\n"
     ]
    }
   ],
   "source": [
    "# 1) Load Whisper ASR model\n",
    "asr_model = whisper.load_model(WHISPER_MODEL, device=DEVICE)"
   ]
  },
  {
   "cell_type": "code",
   "execution_count": 5,
   "id": "bb50643a",
   "metadata": {},
   "outputs": [
    {
     "name": "stderr",
     "output_type": "stream",
     "text": [
      "c:\\Users\\victo\\miniconda3\\envs\\streamlitLLM\\lib\\site-packages\\transformers\\models\\marian\\tokenization_marian.py:175: UserWarning: Recommended: pip install sacremoses.\n",
      "  warnings.warn(\"Recommended: pip install sacremoses.\")\n",
      "c:\\Users\\victo\\miniconda3\\envs\\streamlitLLM\\lib\\site-packages\\huggingface_hub\\file_download.py:144: UserWarning: `huggingface_hub` cache-system uses symlinks by default to efficiently store duplicated files but your machine does not support them in C:\\Users\\victo\\.cache\\huggingface\\hub\\models--Helsinki-NLP--opus-mt-es-en. Caching files will still work but in a degraded version that might require more space on your disk. This warning can be disabled by setting the `HF_HUB_DISABLE_SYMLINKS_WARNING` environment variable. For more details, see https://huggingface.co/docs/huggingface_hub/how-to-cache#limitations.\n",
      "To support symlinks on Windows, you either need to activate Developer Mode or to run Python as an administrator. In order to activate developer mode, see this article: https://docs.microsoft.com/en-us/windows/apps/get-started/enable-your-device-for-development\n",
      "  warnings.warn(message)\n"
     ]
    }
   ],
   "source": [
    "# 2) Load MarianMT tokenizer and model\n",
    "tokenizer = MarianTokenizer.from_pretrained(MT_MODEL)\n",
    "mt_model = MarianMTModel.from_pretrained(MT_MODEL).to(DEVICE)"
   ]
  },
  {
   "cell_type": "code",
   "execution_count": 6,
   "id": "45f8d041",
   "metadata": {},
   "outputs": [
    {
     "name": "stdout",
     "output_type": "stream",
     "text": [
      " > tts_models/en/ljspeech/tacotron2-DDC is already downloaded.\n",
      " > vocoder_models/en/ljspeech/hifigan_v2 is already downloaded.\n",
      " > Using model: Tacotron2\n",
      " > Setting up Audio Processor...\n",
      " | > sample_rate:22050\n",
      " | > resample:False\n",
      " | > num_mels:80\n",
      " | > log_func:np.log\n",
      " | > min_level_db:-100\n",
      " | > frame_shift_ms:None\n",
      " | > frame_length_ms:None\n",
      " | > ref_level_db:20\n",
      " | > fft_size:1024\n",
      " | > power:1.5\n",
      " | > preemphasis:0.0\n",
      " | > griffin_lim_iters:60\n",
      " | > signal_norm:False\n",
      " | > symmetric_norm:True\n",
      " | > mel_fmin:0\n",
      " | > mel_fmax:8000.0\n",
      " | > pitch_fmin:1.0\n",
      " | > pitch_fmax:640.0\n",
      " | > spec_gain:1.0\n",
      " | > stft_pad_mode:reflect\n",
      " | > max_norm:4.0\n",
      " | > clip_norm:True\n",
      " | > do_trim_silence:True\n",
      " | > trim_db:60\n",
      " | > do_sound_norm:False\n",
      " | > do_amp_to_db_linear:True\n",
      " | > do_amp_to_db_mel:True\n",
      " | > do_rms_norm:False\n",
      " | > db_level:None\n",
      " | > stats_path:None\n",
      " | > base:2.718281828459045\n",
      " | > hop_length:256\n",
      " | > win_length:1024\n"
     ]
    },
    {
     "name": "stderr",
     "output_type": "stream",
     "text": [
      "c:\\Users\\victo\\miniconda3\\envs\\streamlitLLM\\lib\\site-packages\\TTS\\utils\\io.py:54: FutureWarning: You are using `torch.load` with `weights_only=False` (the current default value), which uses the default pickle module implicitly. It is possible to construct malicious pickle data which will execute arbitrary code during unpickling (See https://github.com/pytorch/pytorch/blob/main/SECURITY.md#untrusted-models for more details). In a future release, the default value for `weights_only` will be flipped to `True`. This limits the functions that could be executed during unpickling. Arbitrary objects will no longer be allowed to be loaded via this mode unless they are explicitly allowlisted by the user via `torch.serialization.add_safe_globals`. We recommend you start setting `weights_only=True` for any use case where you don't have full control of the loaded file. Please open an issue on GitHub for any issues related to this experimental feature.\n",
      "  return torch.load(f, map_location=map_location, **kwargs)\n"
     ]
    },
    {
     "name": "stdout",
     "output_type": "stream",
     "text": [
      " > Model's reduction rate `r` is set to: 1\n",
      " > Vocoder Model: hifigan\n",
      " > Setting up Audio Processor...\n",
      " | > sample_rate:22050\n",
      " | > resample:False\n",
      " | > num_mels:80\n",
      " | > log_func:np.log\n",
      " | > min_level_db:-100\n",
      " | > frame_shift_ms:None\n",
      " | > frame_length_ms:None\n",
      " | > ref_level_db:20\n",
      " | > fft_size:1024\n",
      " | > power:1.5\n",
      " | > preemphasis:0.0\n",
      " | > griffin_lim_iters:60\n",
      " | > signal_norm:False\n",
      " | > symmetric_norm:True\n",
      " | > mel_fmin:0\n",
      " | > mel_fmax:8000.0\n",
      " | > pitch_fmin:1.0\n",
      " | > pitch_fmax:640.0\n",
      " | > spec_gain:1.0\n",
      " | > stft_pad_mode:reflect\n",
      " | > max_norm:4.0\n",
      " | > clip_norm:True\n",
      " | > do_trim_silence:False\n",
      " | > trim_db:60\n",
      " | > do_sound_norm:False\n",
      " | > do_amp_to_db_linear:True\n",
      " | > do_amp_to_db_mel:True\n",
      " | > do_rms_norm:False\n",
      " | > db_level:None\n",
      " | > stats_path:None\n",
      " | > base:2.718281828459045\n",
      " | > hop_length:256\n",
      " | > win_length:1024\n",
      " > Generator Model: hifigan_generator\n",
      " > Discriminator Model: hifigan_discriminator\n",
      "Removing weight norm...\n"
     ]
    }
   ],
   "source": [
    "# 3) Initialize Coqui TTS\n",
    "tts = TTS(model_name=TTS_MODEL, progress_bar=False, gpu=USE_GPU)\n"
   ]
  },
  {
   "cell_type": "code",
   "execution_count": 7,
   "id": "ed6dad62",
   "metadata": {},
   "outputs": [
    {
     "name": "stdout",
     "output_type": "stream",
     "text": [
      "[ASR] Transcribing spanish_audio.mp3...\n"
     ]
    },
    {
     "name": "stderr",
     "output_type": "stream",
     "text": [
      "c:\\Users\\victo\\miniconda3\\envs\\streamlitLLM\\lib\\site-packages\\whisper\\transcribe.py:126: UserWarning: FP16 is not supported on CPU; using FP32 instead\n",
      "  warnings.warn(\"FP16 is not supported on CPU; using FP32 instead\")\n"
     ]
    },
    {
     "name": "stdout",
     "output_type": "stream",
     "text": [
      "[ASR] Detected Spanish Text: Hola, hola, hola, sacaba de Irla Lúth.\n"
     ]
    }
   ],
   "source": [
    "# -- ASR: Transcribe Spanish speech to text --\n",
    "print(f\"[ASR] Transcribing {INPUT_AUDIO}...\")\n",
    "asr_result = asr_model.transcribe(INPUT_AUDIO, language=\"es\")\n",
    "spanish_text = asr_result[\"text\"].strip()\n",
    "print(f\"[ASR] Detected Spanish Text: {spanish_text}\")\n",
    "\n"
   ]
  },
  {
   "cell_type": "code",
   "execution_count": 8,
   "id": "3e3a9753",
   "metadata": {},
   "outputs": [
    {
     "name": "stdout",
     "output_type": "stream",
     "text": [
      "[MT] Translating to English...\n",
      "[MT] Translated English Text: Hello, hello, hello, I was getting out of Irla Lúth.\n"
     ]
    }
   ],
   "source": [
    "# -- MT: Translate Spanish text to English --\n",
    "print(f\"[MT] Translating to English...\")\n",
    "batch = tokenizer([spanish_text], return_tensors=\"pt\", padding=True).to(DEVICE)\n",
    "generated = mt_model.generate(**batch)\n",
    "english_text = tokenizer.decode(generated[0], skip_special_tokens=True)\n",
    "print(f\"[MT] Translated English Text: {english_text}\")\n"
   ]
  },
  {
   "cell_type": "code",
   "execution_count": null,
   "id": "dc4112f8",
   "metadata": {},
   "outputs": [
    {
     "name": "stdout",
     "output_type": "stream",
     "text": [
      "[TTS] Generating English speech to english_translation.mp3...\n",
      " > Text splitted to sentences.\n",
      "['Hello, hello, hello, I was getting out of Irla Lúth.']\n",
      "hello, hello, hello, i was getting out of irla lúth.\n",
      " [!] Character 'ú' not found in the vocabulary. Discarding it.\n"
     ]
    }
   ],
   "source": [
    "# -- TTS: Synthesize English text to speech --\n",
    "print(f\"[TTS] Generating English speech to {OUTPUT_AUDIO}...\")\n",
    "tts.tts_to_file(text=english_text, file_path=OUTPUT_AUDIO)\n",
    "print(f\"[TTS] Saved English audio at {OUTPUT_AUDIO}\")\n",
    "\n",
    "print(\"[INFO] Translation pipeline complete.\")"
   ]
  }
 ],
 "metadata": {
  "kernelspec": {
   "display_name": "streamlitLLM",
   "language": "python",
   "name": "python3"
  },
  "language_info": {
   "codemirror_mode": {
    "name": "ipython",
    "version": 3
   },
   "file_extension": ".py",
   "mimetype": "text/x-python",
   "name": "python",
   "nbconvert_exporter": "python",
   "pygments_lexer": "ipython3",
   "version": "3.10.16"
  }
 },
 "nbformat": 4,
 "nbformat_minor": 5
}
